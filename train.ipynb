{
  "cells": [
    {
      "cell_type": "code",
      "execution_count": 1,
      "metadata": {
        "id": "Mh5wI7myY_7V"
      },
      "outputs": [
        {
          "name": "stderr",
          "output_type": "stream",
          "text": [
            "/home/akarpova/ITMO/ITMO_GenSpeech/.venv/lib/python3.13/site-packages/tqdm/auto.py:21: TqdmWarning: IProgress not found. Please update jupyter and ipywidgets. See https://ipywidgets.readthedocs.io/en/stable/user_install.html\n",
            "  from .autonotebook import tqdm as notebook_tqdm\n"
          ]
        }
      ],
      "source": [
        "import os\n",
        "import time\n",
        "import shutil\n",
        "import traceback\n",
        "from pathlib import Path\n",
        "\n",
        "import wandb\n",
        "import optuna\n",
        "import torch\n",
        "import torch.nn.functional as F\n",
        "import numpy as np\n",
        "import matplotlib.pyplot as plt\n",
        "from torch import nn, optim\n",
        "from torch.utils.data.dataloader import DataLoader\n",
        "from tqdm import tqdm\n",
        "from IPython.display import clear_output\n",
        "from torchaudio.datasets.speechcommands import SPEECHCOMMANDS, URL, FOLDER_IN_ARCHIVE\n",
        "from thop import profile\n",
        "\n",
        "from melbanks import LogMelFilterBanks"
      ]
    },
    {
      "cell_type": "code",
      "execution_count": 8,
      "metadata": {
        "id": "VEpLRnsQY_7Y"
      },
      "outputs": [],
      "source": [
        "DATASET_DIR = Path('data')"
      ]
    },
    {
      "cell_type": "code",
      "execution_count": 6,
      "metadata": {
        "id": "DOiGon_leKEg"
      },
      "outputs": [],
      "source": [
        "LABEL_ENC = {'yes': 1, 'no': 0}"
      ]
    },
    {
      "cell_type": "code",
      "execution_count": 9,
      "metadata": {
        "colab": {
          "base_uri": "https://localhost:8080/",
          "height": 356
        },
        "id": "bpJ7T4HuY_7Y",
        "outputId": "0f5579b6-4971-4869-a9a5-0e4bf77451ed"
      },
      "outputs": [],
      "source": [
        "if not DATASET_DIR.exists():\n",
        "     SPEECHCOMMANDS(DATASET_DIR, download=True)\n",
        "     DATASET_DIR = DATASET_DIR / FOLDER_IN_ARCHIVE / URL\n",
        "     for label_dir in Path(DATASET_DIR).glob('*'):\n",
        "          if label_dir.is_dir() and label_dir.name not in LABEL_ENC.keys():\n",
        "               shutil.rmtree(label_dir)\n",
        "else:\n",
        "      DATASET_DIR = DATASET_DIR / FOLDER_IN_ARCHIVE / URL"
      ]
    },
    {
      "cell_type": "code",
      "execution_count": null,
      "metadata": {
        "id": "LciCfPS8ecnQ"
      },
      "outputs": [
        {
          "name": "stdout",
          "output_type": "stream",
          "text": [
            "rm: невозможно удалить 'data/speech_commands_v0.02.tar.gz': Нет такого файла или каталога\n"
          ]
        }
      ],
      "source": [
        "!rm data/speech_commands_v0.02.tar.gz\n",
        "!sed -i '/no\\/\\|yes\\//!d' data/SpeechCommands/speech_commands_v0.02/testing_list.txt\n",
        "!sed -i '/no\\/\\|yes\\//!d' data/SpeechCommands/speech_commands_v0.02/validation_list.txt"
      ]
    },
    {
      "cell_type": "code",
      "execution_count": 10,
      "metadata": {
        "id": "0qgHshGQY_7Z"
      },
      "outputs": [],
      "source": [
        "train_dataset = SPEECHCOMMANDS('data', subset='training')\n",
        "val_dataset = SPEECHCOMMANDS('data', subset='validation')\n",
        "test_dataset = SPEECHCOMMANDS('data', subset='testing')"
      ]
    },
    {
      "cell_type": "code",
      "execution_count": 11,
      "metadata": {
        "id": "megpZWUgY_7Z",
        "outputId": "a440ae01-f4f6-433a-ec44-37c087561168"
      },
      "outputs": [
        {
          "data": {
            "text/plain": [
              "device(type='cuda')"
            ]
          },
          "execution_count": 11,
          "metadata": {},
          "output_type": "execute_result"
        }
      ],
      "source": [
        "device = torch.device('cuda' if torch.cuda.is_available() else 'cpu')\n",
        "device"
      ]
    },
    {
      "cell_type": "code",
      "execution_count": 12,
      "metadata": {},
      "outputs": [],
      "source": [
        "lengths = list(map(lambda x: x[0].shape[1], train_dataset)) + list(map(lambda x: x[0].shape[1], test_dataset)) + list(map(lambda x: x[0].shape[1], val_dataset))"
      ]
    },
    {
      "cell_type": "code",
      "execution_count": 9,
      "metadata": {},
      "outputs": [
        {
          "data": {
            "text/plain": [
              "(array([2.000e+00, 0.000e+00, 2.000e+00, 4.000e+00, 0.000e+00, 0.000e+00,\n",
              "        1.100e+01, 0.000e+00, 0.000e+00, 1.000e+00, 1.500e+01, 0.000e+00,\n",
              "        0.000e+00, 1.100e+01, 5.000e+00, 0.000e+00, 1.000e+00, 3.100e+01,\n",
              "        0.000e+00, 0.000e+00, 1.700e+01, 1.800e+01, 0.000e+00, 0.000e+00,\n",
              "        2.000e+01, 2.300e+01, 0.000e+00, 2.300e+01, 0.000e+00, 7.900e+01,\n",
              "        1.500e+01, 2.900e+01, 2.600e+01, 2.000e+00, 4.400e+01, 0.000e+00,\n",
              "        3.800e+01, 0.000e+00, 4.100e+01, 1.000e+00, 3.600e+01, 5.500e+01,\n",
              "        0.000e+00, 1.000e+00, 3.900e+01, 5.000e+01, 3.000e+00, 4.300e+01,\n",
              "        6.200e+01, 7.237e+03]),\n",
              " array([ 6144.  ,  6341.12,  6538.24,  6735.36,  6932.48,  7129.6 ,\n",
              "         7326.72,  7523.84,  7720.96,  7918.08,  8115.2 ,  8312.32,\n",
              "         8509.44,  8706.56,  8903.68,  9100.8 ,  9297.92,  9495.04,\n",
              "         9692.16,  9889.28, 10086.4 , 10283.52, 10480.64, 10677.76,\n",
              "        10874.88, 11072.  , 11269.12, 11466.24, 11663.36, 11860.48,\n",
              "        12057.6 , 12254.72, 12451.84, 12648.96, 12846.08, 13043.2 ,\n",
              "        13240.32, 13437.44, 13634.56, 13831.68, 14028.8 , 14225.92,\n",
              "        14423.04, 14620.16, 14817.28, 15014.4 , 15211.52, 15408.64,\n",
              "        15605.76, 15802.88, 16000.  ]),\n",
              " <BarContainer object of 50 artists>)"
            ]
          },
          "execution_count": 9,
          "metadata": {},
          "output_type": "execute_result"
        },
        {
          "data": {
            "image/png": "[encoded data removed]",
            "text/plain": [
              "<Figure size 640x480 with 1 Axes>"
            ]
          },
          "metadata": {},
          "output_type": "display_data"
        }
      ],
      "source": [
        "plt.hist(lengths, bins=50)"
      ]
    },
    {
      "cell_type": "code",
      "execution_count": 13,
      "metadata": {},
      "outputs": [],
      "source": [
        "def collate_fn(batch, pad_to_len=16000, label_enc=LABEL_ENC, device=device):\n",
        "    padded_waveforms = torch.stack(list(map(lambda x: F.pad(x[0][0], (0, pad_to_len - x[0].shape[1])), batch))).to(device)\n",
        "    encoded_labels = torch.Tensor(list(map(lambda x: label_enc[x[2]], batch))).to(device)\n",
        "    return (padded_waveforms, encoded_labels)"
      ]
    },
    {
      "cell_type": "code",
      "execution_count": 14,
      "metadata": {
        "id": "UB7KNSoRY_7d"
      },
      "outputs": [],
      "source": [
        "class CNN(nn.Module):\n",
        "    def __init__(self, n_mels, n_groups=1, n_output=2, n_channel=32, device='cpu'):\n",
        "        super().__init__()\n",
        "        self.feature_extractor = LogMelFilterBanks(n_mels=n_mels, device=device)\n",
        "        self.conv1 = nn.Sequential(\n",
        "            nn.Conv1d(n_mels, n_channel, kernel_size=8, stride=1, groups=n_groups),\n",
        "            nn.LeakyReLU(),\n",
        "            nn.MaxPool1d(kernel_size=2))\n",
        "        self.conv2 = nn.Sequential(\n",
        "            nn.Conv1d(n_channel, n_channel * 2, kernel_size=4, stride=1, groups=n_groups),\n",
        "            nn.LeakyReLU(),\n",
        "            nn.MaxPool1d(kernel_size=2),\n",
        "            )\n",
        "        self.pool = nn.AdaptiveAvgPool1d(n_channel * 2)\n",
        "        self.fc1 = nn.Linear(n_channel * 2, n_output)\n",
        "        self.flatten = nn.Flatten()\n",
        "        self.fc2 = nn.Linear(n_channel * 4, n_output)\n",
        "        self.func = nn.Sigmoid()\n",
        "        self.to(device)\n",
        "        \n",
        "\n",
        "    def forward(self, x):\n",
        "        x = self.feature_extractor(x)\n",
        "        x = self.conv1(x)\n",
        "        x = self.conv2(x)\n",
        "        x = self.pool(x)\n",
        "        x = self.fc1(x)\n",
        "        x = self.flatten(x)\n",
        "        x = self.fc2(x)\n",
        "        return self.func(x)\n",
        "    \n",
        "    def count_parameters(self):\n",
        "        return sum(p.numel() for p in self.parameters() if p.requires_grad)\n",
        "    \n",
        "    def count_flops(self, x):\n",
        "        return profile(self, [x])[0]"
      ]
    },
    {
      "cell_type": "code",
      "execution_count": 15,
      "metadata": {
        "id": "fc71DlrIY_7f"
      },
      "outputs": [],
      "source": [
        "class ModelTrainer:\n",
        "    def __init__(self, train_loader, val_loader,\n",
        "                 metric_name,\n",
        "                 project_name='itmo-dsp',\n",
        "                 checkpoint_folder='./models'):\n",
        "        self.project_name = project_name\n",
        "        self.checkpoint_folder = checkpoint_folder\n",
        "        self.train_loader = train_loader\n",
        "        self.val_loader = val_loader\n",
        "        self.best_metric = 0.0\n",
        "        self.val_dataset_size = len(self.val_loader.dataset)\n",
        "        self.train_dataset_size = len(self.train_loader.dataset)\n",
        "        self.metric_name = metric_name\n",
        "\n",
        "    def validate(self, model):\n",
        "        model.eval()\n",
        "        accuracy = 0\n",
        "\n",
        "        with torch.no_grad():\n",
        "            for inputs, labels in self.val_loader:\n",
        "                outputs = model(inputs)\n",
        "                preds = torch.argmax(outputs, 1)\n",
        "                accuracy += (preds == labels).sum()\n",
        "\n",
        "        accuracy = float(accuracy / self.val_dataset_size)\n",
        "\n",
        "        metrics = {\n",
        "            'val_acc': accuracy,\n",
        "        }\n",
        "        return metrics\n",
        "\n",
        "    def save_model_locally(self, model):\n",
        "        torch.save(model.state_dict(), self.best_model_path)\n",
        "\n",
        "    def track_progress(self, metrics, patience, trial, epoch, epochs_without_improvement):\n",
        "        if metrics[self.metric_name] > self.best_metric:\n",
        "            epochs_without_improvement = 0\n",
        "            self.best_metric = metrics[self.metric_name]\n",
        "            if self.best_model_path:\n",
        "                os.remove(self.best_model_path)\n",
        "            self.best_model_path = Path(self.checkpoint_folder) / f'{self.name}_{self.metric_name}{self.best_metric:.4f}.pth'\n",
        "        else:\n",
        "            if epochs_without_improvement > patience:\n",
        "                print('Early stopping')\n",
        "                raise optuna.TrialPruned()\n",
        "            epochs_without_improvement += 1\n",
        "        if trial:\n",
        "            trial.report(metrics[self.metric_name], epoch)\n",
        "            if trial.should_prune():\n",
        "                print('[OPTUNA] Run pruned')\n",
        "                raise optuna.TrialPruned()\n",
        "        return epochs_without_improvement\n",
        "\n",
        "    def log_metrics(self, run, metrics, epoch, progress_bar, n_epochs):\n",
        "        clear_output()\n",
        "        progress_bar.set_postfix(metrics)\n",
        "        run.log(metrics)\n",
        "\n",
        "    def train_epoch(self, model, optimizer, loss_fn, device):\n",
        "        model.train()\n",
        "        loss = 0\n",
        "        t0 = time.time()\n",
        "        for inputs, labels in self.train_loader:\n",
        "            inputs, labels = inputs.to(device), labels.to(device)\n",
        "\n",
        "            optimizer.zero_grad()\n",
        "            outputs = model(inputs)\n",
        "            loss = loss_fn(outputs[:, 1], labels)\n",
        "            loss.backward()\n",
        "            optimizer.step()\n",
        "\n",
        "            loss += loss.item()\n",
        "\n",
        "        loss /= self.train_dataset_size\n",
        "\n",
        "        metrics = {\n",
        "            'epoch_training_time': time.time() - t0,\n",
        "            'train_loss': float(loss),\n",
        "            'parameter_count': model.count_parameters(),\n",
        "            'flops': model.count_flops(next(iter(self.val_loader))[0])\n",
        "        }\n",
        "\n",
        "        return model, metrics\n",
        "\n",
        "    def train(self, model, loss_fn, optim_class, optim_args, device,\n",
        "              n_epochs=100, patience=100, run_name=None, run_config=None, trial=None):\n",
        "        run = wandb.init(project=self.project_name, name=run_name, config=run_config)\n",
        "        self.name = run_name\n",
        "        optimizer = optim_class(model.parameters(), **optim_args)\n",
        "        model = model.to(device)\n",
        "        self.best_model_path = None\n",
        "        self.best_metric = 0\n",
        "        progress_bar = tqdm(range(n_epochs), desc='Training', leave=True)\n",
        "        epochs_without_improvement = 0\n",
        "        os.makedirs(self.checkpoint_folder, exist_ok=True)\n",
        "        try:\n",
        "            for epoch in progress_bar:\n",
        "                model, train_metrics = self.train_epoch(model, optimizer, loss_fn, device)\n",
        "                val_metrics = self.validate(model)\n",
        "                metrics = {**train_metrics, **val_metrics, 'epoch': epoch}\n",
        "                epochs_without_improvement = self.track_progress(metrics, patience, trial, epoch, epochs_without_improvement)\n",
        "                if epochs_without_improvement == 0:\n",
        "                    self.save_model_locally(model)\n",
        "                self.log_metrics(run, metrics, epoch, progress_bar, n_epochs)\n",
        "                plt.show()\n",
        "        except (Exception, KeyboardInterrupt) as e:\n",
        "            print(traceback.format_exc())\n",
        "        finally:\n",
        "            progress_bar.close()\n",
        "            wandb.finish()\n",
        "        return model\n",
        "\n",
        "    def optimize(self, objective, model_class, loss_fn, n_trials=20, n_epochs=100, \n",
        "                   device='cuda' if torch.cuda.is_available() else 'cpu',\n",
        "                   direction='maximize'):\n",
        "        \"\"\"Run Optuna optimization for learning rate\"\"\"\n",
        "        study = optuna.create_study(\n",
        "            direction='minimize',\n",
        "            # pruner=optuna.pruners.MedianPruner(),\n",
        "        )\n",
        "        \n",
        "        try:\n",
        "            study.optimize(\n",
        "                lambda trial: objective(\n",
        "                    self,\n",
        "                    trial, \n",
        "                    model_class, \n",
        "                    loss_fn, \n",
        "                    device, \n",
        "                    n_epochs\n",
        "                ),\n",
        "                n_trials=n_trials,\n",
        "                show_progress_bar=True\n",
        "            )\n",
        "            \n",
        "            print(\"\\nOptimization Results:\")\n",
        "            print('Best params:', study.best_params)\n",
        "            print('Best metric:', study.best_value)\n",
        "            \n",
        "            return study\n",
        "            \n",
        "        except Exception as e:\n",
        "            print(f\"Optimization failed: {str(e)}\")\n",
        "            return None, None\n",
        "\n"
      ]
    },
    {
      "cell_type": "code",
      "execution_count": 16,
      "metadata": {
        "id": "XMulTp7rY_7g"
      },
      "outputs": [],
      "source": [
        "def objective(trainer, trial, model_class, loss_fn, device, n_epochs=100):\n",
        "    optimizer_class = optim.Adam\n",
        "    lr = trial.suggest_float('lr', low=1e-5, high=1e-1, log=True)\n",
        "    n_mels = trial.suggest_categorical('n_mels', [20, 40, 80])\n",
        "    model = model_class(n_mels=n_mels)\n",
        "    run_config = {\n",
        "        'n_mels': n_mels,\n",
        "        'lr': lr,\n",
        "        }\n",
        "    run_name = f'CNN_Adamlr_{lr:.3e}_mels{n_mels}'\n",
        "    trainer.train(\n",
        "        model=model,\n",
        "        loss_fn=loss_fn,\n",
        "        optim_class=optimizer_class,\n",
        "        optim_args={'lr': lr},\n",
        "        device=device,\n",
        "        n_epochs=n_epochs,\n",
        "        trial=trial,\n",
        "        run_config=run_config,\n",
        "        run_name=run_name\n",
        "    )\n",
        "    return trainer.best_metric"
      ]
    },
    {
      "cell_type": "code",
      "execution_count": 17,
      "metadata": {},
      "outputs": [],
      "source": [
        "train_loader = DataLoader(train_dataset, collate_fn=collate_fn, batch_size=512, shuffle=True)\n",
        "val_loader = DataLoader(val_dataset, collate_fn=collate_fn, batch_size=512)\n",
        "test_loader = DataLoader(test_dataset, collate_fn=collate_fn, batch_size=512)"
      ]
    },
    {
      "cell_type": "code",
      "execution_count": 18,
      "metadata": {
        "id": "jJsguErrY_7g"
      },
      "outputs": [],
      "source": [
        "trainer = ModelTrainer(train_loader, test_loader, metric_name='val_acc')\n",
        "loss_fn = torch.nn.BCELoss()"
      ]
    },
    {
      "cell_type": "code",
      "execution_count": null,
      "metadata": {
        "id": "Q2RfXJNpY_7g"
      },
      "outputs": [],
      "source": [
        "trained_model = trainer.optimize(\n",
        "    model_class=CNN,\n",
        "    loss_fn=nn.BCELoss(),\n",
        "    objective=objective,\n",
        "    n_epochs=100,\n",
        "    n_trials=100\n",
        ")"
      ]
    },
    {
      "cell_type": "code",
      "execution_count": null,
      "metadata": {},
      "outputs": [],
      "source": [
        "for n_mels in [20, 40, 60, 80]:\n",
        "    model = CNN(n_mels=n_mels).to(device)\n",
        "    model.train()\n",
        "    trainer.train(model, loss_fn, optim.Adam, optim_args={'lr': 1e-4}, device=device,\n",
        "                  run_name=f'Adamlr1e-4_nmels{n_mels}', run_config={'n_mels': n_mels, 'lr': 1e-4})"
      ]
    },
    {
      "cell_type": "code",
      "execution_count": 21,
      "metadata": {},
      "outputs": [],
      "source": [
        "test_batch = next(iter(test_loader))[0]"
      ]
    },
    {
      "cell_type": "code",
      "execution_count": null,
      "metadata": {},
      "outputs": [],
      "source": [
        "n_groups_dict = {}\n",
        "for n_groups in [1, 2, 4, 8, 16]:\n",
        "    model = CNN(n_mels=80, n_groups=n_groups, device=device)\n",
        "    model.train()\n",
        "    model = trainer.train(model, loss_fn, optim.Adam, optim_args={'lr': 1e-4}, device=device,\n",
        "                  run_name=f'Adamlr1e-4_nmels80_ngroups{n_groups}', run_config={'n_mels': 80, 'lr': 1e-4, 'n_groups': n_groups})\n",
        "    n_groups_dict[n_groups] = {'model_params': model.count_parameters(), 'flops': model.count_flops(test_batch)}"
      ]
    },
    {
      "cell_type": "code",
      "execution_count": 21,
      "metadata": {},
      "outputs": [
        {
          "name": "stderr",
          "output_type": "stream",
          "text": [
            "Training: 100%|██████████| 100/100 [20:32<00:00, 12.32s/it, epoch_training_time=9.79, train_loss=5.11e-5, parameter_count=4068, flops=1.53e+8, val_acc=0.751, epoch=99]\n"
          ]
        },
        {
          "data": {
            "text/html": [],
            "text/plain": [
              "<IPython.core.display.HTML object>"
            ]
          },
          "metadata": {},
          "output_type": "display_data"
        },
        {
          "data": {
            "text/html": [
              "<br>    <style><br>        .wandb-row {<br>            display: flex;<br>            flex-direction: row;<br>            flex-wrap: wrap;<br>            justify-content: flex-start;<br>            width: 100%;<br>        }<br>        .wandb-col {<br>            display: flex;<br>            flex-direction: column;<br>            flex-basis: 100%;<br>            flex: 1;<br>            padding: 10px;<br>        }<br>    </style><br><div class=\"wandb-row\"><div class=\"wandb-col\"><h3>Run history:</h3><br/><table class=\"wandb\"><tr><td>epoch</td><td>▁▁▁▂▂▂▂▂▃▃▃▃▃▃▃▄▄▄▄▄▄▅▅▅▅▅▅▅▆▆▆▆▇▇▇▇▇▇██</td></tr><tr><td>epoch_training_time</td><td>▆▅▅▃▃▅▄▃▃▃▂▄▃▄▅▄▄▅▅▆▅▅▅▅▃▃▄▄▂▃▂▄██▁▄▃▂▂▁</td></tr><tr><td>flops</td><td>▁▁▁▁▁▁▁▁▁▁▁▁▁▁▁▁▁▁▁▁▁▁▁▁▁▁▁▁▁▁▁▁▁▁▁▁▁▁▁▁</td></tr><tr><td>parameter_count</td><td>▁▁▁▁▁▁▁▁▁▁▁▁▁▁▁▁▁▁▁▁▁▁▁▁▁▁▁▁▁▁▁▁▁▁▁▁▁▁▁▁</td></tr><tr><td>train_loss</td><td>███▇▇▇▆▅▅▄▃▄▃▄▃▁▃▃▂▂▃▃▃▂▃▂▂▃▁▂▁▂▁▂▂▁▂▁▁▁</td></tr><tr><td>val_acc</td><td>▁▂▂▂▂▃▄▄▄▅▅▅▅▅▆▆▇▇▇▇▇████████████▇▇▇▇▇▇▇</td></tr></table><br/></div><div class=\"wandb-col\"><h3>Run summary:</h3><br/><table class=\"wandb\"><tr><td>epoch</td><td>99</td></tr><tr><td>epoch_training_time</td><td>9.79025</td></tr><tr><td>flops</td><td>153419776.0</td></tr><tr><td>parameter_count</td><td>4068</td></tr><tr><td>train_loss</td><td>5e-05</td></tr><tr><td>val_acc</td><td>0.75121</td></tr></table><br/></div></div>"
            ],
            "text/plain": [
              "<IPython.core.display.HTML object>"
            ]
          },
          "metadata": {},
          "output_type": "display_data"
        },
        {
          "data": {
            "text/html": [
              " View run <strong style=\"color:#cdcd00\">Adamlr1e-4_nmels80_ngroups8</strong> at: <a href='https://wandb.ai/annkar/itmo-dsp/runs/cu2j6li9' target=\"_blank\">https://wandb.ai/annkar/itmo-dsp/runs/cu2j6li9</a><br> View project at: <a href='https://wandb.ai/annkar/itmo-dsp' target=\"_blank\">https://wandb.ai/annkar/itmo-dsp</a><br>Synced 5 W&B file(s), 0 media file(s), 0 artifact file(s) and 0 other file(s)"
            ],
            "text/plain": [
              "<IPython.core.display.HTML object>"
            ]
          },
          "metadata": {},
          "output_type": "display_data"
        },
        {
          "data": {
            "text/html": [
              "Find logs at: <code>./wandb/run-20250331_233553-cu2j6li9/logs</code>"
            ],
            "text/plain": [
              "<IPython.core.display.HTML object>"
            ]
          },
          "metadata": {},
          "output_type": "display_data"
        }
      ],
      "source": [
        "n_groups = 8\n",
        "model = CNN(n_mels=80, n_groups=n_groups, device=device)\n",
        "model.train()\n",
        "model = trainer.train(model, loss_fn, optim.Adam, optim_args={'lr': 1e-4}, device=device,\n",
        "                run_name=f'Adamlr1e-4_nmels80_ngroups{n_groups}', run_config={'n_mels': 80, 'lr': 1e-4, 'n_groups': n_groups})\n",
        "# n_groups_dict[n_groups] = {'model_params': model.count_parameters(), 'flops': model.count_flops(test_batch)}"
      ]
    },
    {
      "cell_type": "code",
      "execution_count": 19,
      "metadata": {},
      "outputs": [
        {
          "name": "stderr",
          "output_type": "stream",
          "text": [
            "Training: 100%|██████████| 100/100 [19:58<00:00, 11.98s/it, epoch_training_time=9.73, train_loss=5.59e-5, parameter_count=2276, flops=8.03e+7, val_acc=0.585, epoch=99]\n"
          ]
        },
        {
          "data": {
            "text/html": [],
            "text/plain": [
              "<IPython.core.display.HTML object>"
            ]
          },
          "metadata": {},
          "output_type": "display_data"
        },
        {
          "data": {
            "text/html": [
              "<br>    <style><br>        .wandb-row {<br>            display: flex;<br>            flex-direction: row;<br>            flex-wrap: wrap;<br>            justify-content: flex-start;<br>            width: 100%;<br>        }<br>        .wandb-col {<br>            display: flex;<br>            flex-direction: column;<br>            flex-basis: 100%;<br>            flex: 1;<br>            padding: 10px;<br>        }<br>    </style><br><div class=\"wandb-row\"><div class=\"wandb-col\"><h3>Run history:</h3><br/><table class=\"wandb\"><tr><td>epoch</td><td>▁▁▁▁▁▂▂▂▂▂▃▃▃▃▃▃▄▄▄▄▄▄▅▅▅▅▅▅▅▆▆▆▆▇▇▇▇███</td></tr><tr><td>epoch_training_time</td><td>▆▂▁▂▂▂▁▁▂▄▆▂▄▂▂▁▂▂▂▂██▇▆▅▆▅▇▄▅▂▄▅▃▃▁▂▁▂▂</td></tr><tr><td>flops</td><td>▁▁▁▁▁▁▁▁▁▁▁▁▁▁▁▁▁▁▁▁▁▁▁▁▁▁▁▁▁▁▁▁▁▁▁▁▁▁▁▁</td></tr><tr><td>parameter_count</td><td>▁▁▁▁▁▁▁▁▁▁▁▁▁▁▁▁▁▁▁▁▁▁▁▁▁▁▁▁▁▁▁▁▁▁▁▁▁▁▁▁</td></tr><tr><td>train_loss</td><td>██▇▆▆▅▅▅▄▃▄▃▃▃▃▃▂▂▂▂▂▂▂▂▁▂▂▂▁▁▂▁▁▁▁▂▂▁▁▂</td></tr><tr><td>val_acc</td><td>█▆▄▄▃▁▁▁▁▁▁▁▂▂▂▂▃▃▃▃▃▃▃▃▃▃▃▃▃▃▃▃▃▃▃▃▃▃▃▃</td></tr></table><br/></div><div class=\"wandb-col\"><h3>Run summary:</h3><br/><table class=\"wandb\"><tr><td>epoch</td><td>99</td></tr><tr><td>epoch_training_time</td><td>9.72717</td></tr><tr><td>flops</td><td>80281600.0</td></tr><tr><td>parameter_count</td><td>2276</td></tr><tr><td>train_loss</td><td>6e-05</td></tr><tr><td>val_acc</td><td>0.58495</td></tr></table><br/></div></div>"
            ],
            "text/plain": [
              "<IPython.core.display.HTML object>"
            ]
          },
          "metadata": {},
          "output_type": "display_data"
        },
        {
          "data": {
            "text/html": [
              " View run <strong style=\"color:#cdcd00\">Adamlr1e-4_nmels80_ngroups16</strong> at: <a href='https://wandb.ai/annkar/itmo-dsp/runs/nl1n11ry' target=\"_blank\">https://wandb.ai/annkar/itmo-dsp/runs/nl1n11ry</a><br> View project at: <a href='https://wandb.ai/annkar/itmo-dsp' target=\"_blank\">https://wandb.ai/annkar/itmo-dsp</a><br>Synced 5 W&B file(s), 0 media file(s), 0 artifact file(s) and 0 other file(s)"
            ],
            "text/plain": [
              "<IPython.core.display.HTML object>"
            ]
          },
          "metadata": {},
          "output_type": "display_data"
        },
        {
          "data": {
            "text/html": [
              "Find logs at: <code>./wandb/run-20250331_225332-nl1n11ry/logs</code>"
            ],
            "text/plain": [
              "<IPython.core.display.HTML object>"
            ]
          },
          "metadata": {},
          "output_type": "display_data"
        }
      ],
      "source": [
        "n_groups = 16\n",
        "model = CNN(n_mels=80, n_groups=n_groups, device=device)\n",
        "model.train()\n",
        "model = trainer.train(model, loss_fn, optim.Adam, optim_args={'lr': 1e-4}, device=device,\n",
        "                run_name=f'Adamlr1e-4_nmels80_ngroups{n_groups}', run_config={'n_mels': 80, 'lr': 1e-4, 'n_groups': n_groups})\n",
        "# n_groups_dict[n_groups] = {'model_params': model.count_parameters(), 'flops': model.count_flops(test_batch)}"
      ]
    },
    {
      "cell_type": "code",
      "execution_count": 13,
      "metadata": {},
      "outputs": [],
      "source": [
        "import pandas as pd\n",
        "import plotly.express as px"
      ]
    },
    {
      "cell_type": "code",
      "execution_count": 14,
      "metadata": {},
      "outputs": [],
      "source": [
        "data = []\n",
        "n_groups = [1, 2, 4, 8, 16]\n",
        "for n in n_groups:\n",
        "    for device in ['cpu', 'cuda:0']:\n",
        "        model = CNN(n_mels=80, n_groups=n, device=device)\n",
        "        for batch_sz_log2 in tqdm(range(10)):\n",
        "            batch_sz = 2 ** batch_sz_log2\n",
        "            t0 = time.time()\n",
        "            flops = model.count_flops(next(iter(test_loader))[0][:batch_sz].to(device))\n",
        "            t_batch = time.time() - t0\n",
        "            data.append([n, batch_sz, flops, model.count_parameters(), t_batch, device])\n",
        "        clear_output()"
      ]
    },
    {
      "cell_type": "code",
      "execution_count": 32,
      "metadata": {},
      "outputs": [
        {
          "data": {
            "text/plain": [
              "[[1, 1, 2299520.0, 29156, 0.7756717205047607, 'cpu'],\n",
              " [1, 2, 4599040.0, 29156, 0.7494165897369385, 'cpu'],\n",
              " [1, 4, 9198080.0, 29156, 0.7610418796539307, 'cpu'],\n",
              " [1, 8, 18396160.0, 29156, 0.7635612487792969, 'cpu'],\n",
              " [1, 16, 36792320.0, 29156, 0.7921202182769775, 'cpu'],\n",
              " [1, 32, 73584640.0, 29156, 0.784250020980835, 'cpu'],\n",
              " [1, 64, 147169280.0, 29156, 0.7781903743743896, 'cpu'],\n",
              " [1, 128, 294338560.0, 29156, 0.7801623344421387, 'cpu'],\n",
              " [1, 256, 588677120.0, 29156, 0.780219316482544, 'cpu'],\n",
              " [1, 512, 1177354240.0, 29156, 0.8400776386260986, 'cpu'],\n",
              " [1, 1, 2299520.0, 29156, 0.7696993350982666, 'cuda:0'],\n",
              " [1, 2, 4599040.0, 29156, 0.7774419784545898, 'cuda:0'],\n",
              " [1, 4, 9198080.0, 29156, 0.7793612480163574, 'cuda:0'],\n",
              " [1, 8, 18396160.0, 29156, 0.7623589038848877, 'cuda:0'],\n",
              " [1, 16, 36792320.0, 29156, 0.7644367218017578, 'cuda:0'],\n",
              " [1, 32, 73584640.0, 29156, 0.7588129043579102, 'cuda:0'],\n",
              " [1, 64, 147169280.0, 29156, 0.7611575126647949, 'cuda:0'],\n",
              " [1, 128, 294338560.0, 29156, 0.761390209197998, 'cuda:0'],\n",
              " [1, 256, 588677120.0, 29156, 0.7583787441253662, 'cuda:0'],\n",
              " [1, 512, 1177354240.0, 29156, 0.761399507522583, 'cuda:0'],\n",
              " [2, 1, 1156736.0, 14820, 0.7587132453918457, 'cpu'],\n",
              " [2, 2, 2313472.0, 14820, 0.7523655891418457, 'cpu'],\n",
              " [2, 4, 4626944.0, 14820, 0.742117166519165, 'cpu'],\n",
              " [2, 8, 9253888.0, 14820, 0.7421576976776123, 'cpu'],\n",
              " [2, 16, 18507776.0, 14820, 0.7446415424346924, 'cpu'],\n",
              " [2, 32, 37015552.0, 14820, 0.765531063079834, 'cpu'],\n",
              " [2, 64, 74031104.0, 14820, 0.7450592517852783, 'cpu'],\n",
              " [2, 128, 148062208.0, 14820, 0.7511155605316162, 'cpu'],\n",
              " [2, 256, 296124416.0, 14820, 0.7645726203918457, 'cpu'],\n",
              " [2, 512, 592248832.0, 14820, 0.8062014579772949, 'cpu'],\n",
              " [2, 1, 1156736.0, 14820, 0.7469618320465088, 'cuda:0'],\n",
              " [2, 2, 2313472.0, 14820, 0.7331688404083252, 'cuda:0'],\n",
              " [2, 4, 4626944.0, 14820, 0.7382206916809082, 'cuda:0'],\n",
              " [2, 8, 9253888.0, 14820, 0.7381250858306885, 'cuda:0'],\n",
              " [2, 16, 18507776.0, 14820, 0.7406206130981445, 'cuda:0'],\n",
              " [2, 32, 37015552.0, 14820, 0.750262975692749, 'cuda:0'],\n",
              " [2, 64, 74031104.0, 14820, 0.7509362697601318, 'cuda:0'],\n",
              " [2, 128, 148062208.0, 14820, 0.7397842407226562, 'cuda:0'],\n",
              " [2, 256, 296124416.0, 14820, 0.7383177280426025, 'cuda:0'],\n",
              " [2, 512, 592248832.0, 14820, 0.7396945953369141, 'cuda:0'],\n",
              " [4, 1, 585344.0, 7652, 0.7337970733642578, 'cpu'],\n",
              " [4, 2, 1170688.0, 7652, 0.7411739826202393, 'cpu'],\n",
              " [4, 4, 2341376.0, 7652, 0.7453296184539795, 'cpu'],\n",
              " [4, 8, 4682752.0, 7652, 0.7508478164672852, 'cpu'],\n",
              " [4, 16, 9365504.0, 7652, 0.7367401123046875, 'cpu'],\n",
              " [4, 32, 18731008.0, 7652, 0.7488479614257812, 'cpu'],\n",
              " [4, 64, 37462016.0, 7652, 0.7626032829284668, 'cpu'],\n",
              " [4, 128, 74924032.0, 7652, 0.7497525215148926, 'cpu'],\n",
              " [4, 256, 149848064.0, 7652, 0.8228826522827148, 'cpu'],\n",
              " [4, 512, 299696128.0, 7652, 0.82200026512146, 'cpu'],\n",
              " [4, 1, 585344.0, 7652, 0.7801105976104736, 'cuda:0'],\n",
              " [4, 2, 1170688.0, 7652, 0.7905328273773193, 'cuda:0'],\n",
              " [4, 4, 2341376.0, 7652, 0.8025257587432861, 'cuda:0'],\n",
              " [4, 8, 4682752.0, 7652, 0.7824292182922363, 'cuda:0'],\n",
              " [4, 16, 9365504.0, 7652, 0.7823903560638428, 'cuda:0'],\n",
              " [4, 32, 18731008.0, 7652, 0.7937254905700684, 'cuda:0'],\n",
              " [4, 64, 37462016.0, 7652, 0.773709774017334, 'cuda:0'],\n",
              " [4, 128, 74924032.0, 7652, 0.7679154872894287, 'cuda:0'],\n",
              " [4, 256, 149848064.0, 7652, 0.759967565536499, 'cuda:0'],\n",
              " [4, 512, 299696128.0, 7652, 0.7767195701599121, 'cuda:0'],\n",
              " [8, 1, 299648.0, 4068, 0.7954635620117188, 'cpu'],\n",
              " [8, 2, 599296.0, 4068, 0.7569167613983154, 'cpu'],\n",
              " [8, 4, 1198592.0, 4068, 0.7501845359802246, 'cpu'],\n",
              " [8, 8, 2397184.0, 4068, 0.7453558444976807, 'cpu'],\n",
              " [8, 16, 4794368.0, 4068, 0.7558696269989014, 'cpu'],\n",
              " [8, 32, 9588736.0, 4068, 0.8187053203582764, 'cpu'],\n",
              " [8, 64, 19177472.0, 4068, 0.8112924098968506, 'cpu'],\n",
              " [8, 128, 38354944.0, 4068, 0.8150606155395508, 'cpu'],\n",
              " [8, 256, 76709888.0, 4068, 0.828249454498291, 'cpu'],\n",
              " [8, 512, 153419776.0, 4068, 0.8603079319000244, 'cpu'],\n",
              " [8, 1, 299648.0, 4068, 0.7711050510406494, 'cuda:0'],\n",
              " [8, 2, 599296.0, 4068, 0.7566425800323486, 'cuda:0'],\n",
              " [8, 4, 1198592.0, 4068, 0.7537028789520264, 'cuda:0'],\n",
              " [8, 8, 2397184.0, 4068, 0.754389762878418, 'cuda:0'],\n",
              " [8, 16, 4794368.0, 4068, 0.7526652812957764, 'cuda:0'],\n",
              " [8, 32, 9588736.0, 4068, 0.7655084133148193, 'cuda:0'],\n",
              " [8, 64, 19177472.0, 4068, 0.7469778060913086, 'cuda:0'],\n",
              " [8, 128, 38354944.0, 4068, 0.7477099895477295, 'cuda:0'],\n",
              " [8, 256, 76709888.0, 4068, 0.7639234066009521, 'cuda:0'],\n",
              " [8, 512, 153419776.0, 4068, 0.7646481990814209, 'cuda:0'],\n",
              " [16, 1, 156800.0, 2276, 0.7457597255706787, 'cpu'],\n",
              " [16, 2, 313600.0, 2276, 0.7457153797149658, 'cpu'],\n",
              " [16, 4, 627200.0, 2276, 0.7623093128204346, 'cpu'],\n",
              " [16, 8, 1254400.0, 2276, 0.7468435764312744, 'cpu'],\n",
              " [16, 16, 2508800.0, 2276, 0.7800559997558594, 'cpu'],\n",
              " [16, 32, 5017600.0, 2276, 0.7970907688140869, 'cpu'],\n",
              " [16, 64, 10035200.0, 2276, 0.7729783058166504, 'cpu'],\n",
              " [16, 128, 20070400.0, 2276, 0.7726061344146729, 'cpu'],\n",
              " [16, 256, 40140800.0, 2276, 0.83382248878479, 'cpu'],\n",
              " [16, 512, 80281600.0, 2276, 0.8676493167877197, 'cpu'],\n",
              " [16, 1, 156800.0, 2276, 0.759882926940918, 'cuda:0'],\n",
              " [16, 2, 313600.0, 2276, 0.7490224838256836, 'cuda:0'],\n",
              " [16, 4, 627200.0, 2276, 0.7556004524230957, 'cuda:0'],\n",
              " [16, 8, 1254400.0, 2276, 0.748570442199707, 'cuda:0'],\n",
              " [16, 16, 2508800.0, 2276, 0.7652885913848877, 'cuda:0'],\n",
              " [16, 32, 5017600.0, 2276, 0.7549982070922852, 'cuda:0'],\n",
              " [16, 64, 10035200.0, 2276, 0.7704434394836426, 'cuda:0'],\n",
              " [16, 128, 20070400.0, 2276, 0.7524130344390869, 'cuda:0'],\n",
              " [16, 256, 40140800.0, 2276, 0.7587203979492188, 'cuda:0'],\n",
              " [16, 512, 80281600.0, 2276, 0.7771039009094238, 'cuda:0']]"
            ]
          },
          "execution_count": 32,
          "metadata": {},
          "output_type": "execute_result"
        }
      ],
      "source": [
        "data"
      ]
    },
    {
      "cell_type": "code",
      "execution_count": 42,
      "metadata": {},
      "outputs": [
        {
          "data": {
            "text/html": [
              "<div>\n",
              "<style scoped>\n",
              "    .dataframe tbody tr th:only-of-type {\n",
              "        vertical-align: middle;\n",
              "    }\n",
              "\n",
              "    .dataframe tbody tr th {\n",
              "        vertical-align: top;\n",
              "    }\n",
              "\n",
              "    .dataframe thead th {\n",
              "        text-align: right;\n",
              "    }\n",
              "</style>\n",
              "<table border=\"1\" class=\"dataframe\">\n",
              "  <thead>\n",
              "    <tr style=\"text-align: right;\">\n",
              "      <th></th>\n",
              "      <th>n_groups</th>\n",
              "      <th>batch size</th>\n",
              "      <th>FLOPS</th>\n",
              "      <th>model params count</th>\n",
              "      <th>batch inference time</th>\n",
              "      <th>device</th>\n",
              "    </tr>\n",
              "  </thead>\n",
              "  <tbody>\n",
              "    <tr>\n",
              "      <th>0</th>\n",
              "      <td>1</td>\n",
              "      <td>1</td>\n",
              "      <td>2299520.0</td>\n",
              "      <td>29156</td>\n",
              "      <td>0.775672</td>\n",
              "      <td>cpu</td>\n",
              "    </tr>\n",
              "    <tr>\n",
              "      <th>1</th>\n",
              "      <td>1</td>\n",
              "      <td>2</td>\n",
              "      <td>4599040.0</td>\n",
              "      <td>29156</td>\n",
              "      <td>0.749417</td>\n",
              "      <td>cpu</td>\n",
              "    </tr>\n",
              "    <tr>\n",
              "      <th>2</th>\n",
              "      <td>1</td>\n",
              "      <td>4</td>\n",
              "      <td>9198080.0</td>\n",
              "      <td>29156</td>\n",
              "      <td>0.761042</td>\n",
              "      <td>cpu</td>\n",
              "    </tr>\n",
              "    <tr>\n",
              "      <th>3</th>\n",
              "      <td>1</td>\n",
              "      <td>8</td>\n",
              "      <td>18396160.0</td>\n",
              "      <td>29156</td>\n",
              "      <td>0.763561</td>\n",
              "      <td>cpu</td>\n",
              "    </tr>\n",
              "    <tr>\n",
              "      <th>4</th>\n",
              "      <td>1</td>\n",
              "      <td>16</td>\n",
              "      <td>36792320.0</td>\n",
              "      <td>29156</td>\n",
              "      <td>0.792120</td>\n",
              "      <td>cpu</td>\n",
              "    </tr>\n",
              "    <tr>\n",
              "      <th>...</th>\n",
              "      <td>...</td>\n",
              "      <td>...</td>\n",
              "      <td>...</td>\n",
              "      <td>...</td>\n",
              "      <td>...</td>\n",
              "      <td>...</td>\n",
              "    </tr>\n",
              "    <tr>\n",
              "      <th>95</th>\n",
              "      <td>16</td>\n",
              "      <td>32</td>\n",
              "      <td>5017600.0</td>\n",
              "      <td>2276</td>\n",
              "      <td>0.754998</td>\n",
              "      <td>cuda:0</td>\n",
              "    </tr>\n",
              "    <tr>\n",
              "      <th>96</th>\n",
              "      <td>16</td>\n",
              "      <td>64</td>\n",
              "      <td>10035200.0</td>\n",
              "      <td>2276</td>\n",
              "      <td>0.770443</td>\n",
              "      <td>cuda:0</td>\n",
              "    </tr>\n",
              "    <tr>\n",
              "      <th>97</th>\n",
              "      <td>16</td>\n",
              "      <td>128</td>\n",
              "      <td>20070400.0</td>\n",
              "      <td>2276</td>\n",
              "      <td>0.752413</td>\n",
              "      <td>cuda:0</td>\n",
              "    </tr>\n",
              "    <tr>\n",
              "      <th>98</th>\n",
              "      <td>16</td>\n",
              "      <td>256</td>\n",
              "      <td>40140800.0</td>\n",
              "      <td>2276</td>\n",
              "      <td>0.758720</td>\n",
              "      <td>cuda:0</td>\n",
              "    </tr>\n",
              "    <tr>\n",
              "      <th>99</th>\n",
              "      <td>16</td>\n",
              "      <td>512</td>\n",
              "      <td>80281600.0</td>\n",
              "      <td>2276</td>\n",
              "      <td>0.777104</td>\n",
              "      <td>cuda:0</td>\n",
              "    </tr>\n",
              "  </tbody>\n",
              "</table>\n",
              "<p>100 rows × 6 columns</p>\n",
              "</div>"
            ],
            "text/plain": [
              "    n_groups  batch size       FLOPS  model params count  \\\n",
              "0          1           1   2299520.0               29156   \n",
              "1          1           2   4599040.0               29156   \n",
              "2          1           4   9198080.0               29156   \n",
              "3          1           8  18396160.0               29156   \n",
              "4          1          16  36792320.0               29156   \n",
              "..       ...         ...         ...                 ...   \n",
              "95        16          32   5017600.0                2276   \n",
              "96        16          64  10035200.0                2276   \n",
              "97        16         128  20070400.0                2276   \n",
              "98        16         256  40140800.0                2276   \n",
              "99        16         512  80281600.0                2276   \n",
              "\n",
              "    batch inference time  device  \n",
              "0               0.775672     cpu  \n",
              "1               0.749417     cpu  \n",
              "2               0.761042     cpu  \n",
              "3               0.763561     cpu  \n",
              "4               0.792120     cpu  \n",
              "..                   ...     ...  \n",
              "95              0.754998  cuda:0  \n",
              "96              0.770443  cuda:0  \n",
              "97              0.752413  cuda:0  \n",
              "98              0.758720  cuda:0  \n",
              "99              0.777104  cuda:0  \n",
              "\n",
              "[100 rows x 6 columns]"
            ]
          },
          "execution_count": 42,
          "metadata": {},
          "output_type": "execute_result"
        }
      ],
      "source": [
        "df = pd.DataFrame(data, columns=['n_groups', 'batch size', 'FLOPS', 'model params count', 'batch inference time', 'device'])\n",
        "df"
      ]
    },
    {
      "cell_type": "code",
      "execution_count": 16,
      "metadata": {},
      "outputs": [
        {
          "data": {
            "text/html": [
              "<div>\n",
              "<style scoped>\n",
              "    .dataframe tbody tr th:only-of-type {\n",
              "        vertical-align: middle;\n",
              "    }\n",
              "\n",
              "    .dataframe tbody tr th {\n",
              "        vertical-align: top;\n",
              "    }\n",
              "\n",
              "    .dataframe thead th {\n",
              "        text-align: right;\n",
              "    }\n",
              "</style>\n",
              "<table border=\"1\" class=\"dataframe\">\n",
              "  <thead>\n",
              "    <tr style=\"text-align: right;\">\n",
              "      <th></th>\n",
              "      <th>n_groups</th>\n",
              "      <th>batch size</th>\n",
              "      <th>FLOPS</th>\n",
              "      <th>model params count</th>\n",
              "      <th>batch inference time</th>\n",
              "      <th>device</th>\n",
              "    </tr>\n",
              "  </thead>\n",
              "  <tbody>\n",
              "    <tr>\n",
              "      <th>0</th>\n",
              "      <td>1</td>\n",
              "      <td>1</td>\n",
              "      <td>2299520.0</td>\n",
              "      <td>29156</td>\n",
              "      <td>0.927199</td>\n",
              "      <td>cpu</td>\n",
              "    </tr>\n",
              "    <tr>\n",
              "      <th>1</th>\n",
              "      <td>1</td>\n",
              "      <td>2</td>\n",
              "      <td>4599040.0</td>\n",
              "      <td>29156</td>\n",
              "      <td>0.819839</td>\n",
              "      <td>cpu</td>\n",
              "    </tr>\n",
              "    <tr>\n",
              "      <th>2</th>\n",
              "      <td>1</td>\n",
              "      <td>4</td>\n",
              "      <td>9198080.0</td>\n",
              "      <td>29156</td>\n",
              "      <td>0.785863</td>\n",
              "      <td>cpu</td>\n",
              "    </tr>\n",
              "    <tr>\n",
              "      <th>3</th>\n",
              "      <td>1</td>\n",
              "      <td>8</td>\n",
              "      <td>18396160.0</td>\n",
              "      <td>29156</td>\n",
              "      <td>0.805671</td>\n",
              "      <td>cpu</td>\n",
              "    </tr>\n",
              "    <tr>\n",
              "      <th>4</th>\n",
              "      <td>1</td>\n",
              "      <td>16</td>\n",
              "      <td>36792320.0</td>\n",
              "      <td>29156</td>\n",
              "      <td>0.789685</td>\n",
              "      <td>cpu</td>\n",
              "    </tr>\n",
              "    <tr>\n",
              "      <th>...</th>\n",
              "      <td>...</td>\n",
              "      <td>...</td>\n",
              "      <td>...</td>\n",
              "      <td>...</td>\n",
              "      <td>...</td>\n",
              "      <td>...</td>\n",
              "    </tr>\n",
              "    <tr>\n",
              "      <th>95</th>\n",
              "      <td>16</td>\n",
              "      <td>32</td>\n",
              "      <td>5017600.0</td>\n",
              "      <td>2276</td>\n",
              "      <td>0.777854</td>\n",
              "      <td>cuda:0</td>\n",
              "    </tr>\n",
              "    <tr>\n",
              "      <th>96</th>\n",
              "      <td>16</td>\n",
              "      <td>64</td>\n",
              "      <td>10035200.0</td>\n",
              "      <td>2276</td>\n",
              "      <td>0.767040</td>\n",
              "      <td>cuda:0</td>\n",
              "    </tr>\n",
              "    <tr>\n",
              "      <th>97</th>\n",
              "      <td>16</td>\n",
              "      <td>128</td>\n",
              "      <td>20070400.0</td>\n",
              "      <td>2276</td>\n",
              "      <td>0.769361</td>\n",
              "      <td>cuda:0</td>\n",
              "    </tr>\n",
              "    <tr>\n",
              "      <th>98</th>\n",
              "      <td>16</td>\n",
              "      <td>256</td>\n",
              "      <td>40140800.0</td>\n",
              "      <td>2276</td>\n",
              "      <td>0.767772</td>\n",
              "      <td>cuda:0</td>\n",
              "    </tr>\n",
              "    <tr>\n",
              "      <th>99</th>\n",
              "      <td>16</td>\n",
              "      <td>512</td>\n",
              "      <td>80281600.0</td>\n",
              "      <td>2276</td>\n",
              "      <td>0.789050</td>\n",
              "      <td>cuda:0</td>\n",
              "    </tr>\n",
              "  </tbody>\n",
              "</table>\n",
              "<p>100 rows × 6 columns</p>\n",
              "</div>"
            ],
            "text/plain": [
              "    n_groups  batch size       FLOPS  model params count  \\\n",
              "0          1           1   2299520.0               29156   \n",
              "1          1           2   4599040.0               29156   \n",
              "2          1           4   9198080.0               29156   \n",
              "3          1           8  18396160.0               29156   \n",
              "4          1          16  36792320.0               29156   \n",
              "..       ...         ...         ...                 ...   \n",
              "95        16          32   5017600.0                2276   \n",
              "96        16          64  10035200.0                2276   \n",
              "97        16         128  20070400.0                2276   \n",
              "98        16         256  40140800.0                2276   \n",
              "99        16         512  80281600.0                2276   \n",
              "\n",
              "    batch inference time  device  \n",
              "0               0.927199     cpu  \n",
              "1               0.819839     cpu  \n",
              "2               0.785863     cpu  \n",
              "3               0.805671     cpu  \n",
              "4               0.789685     cpu  \n",
              "..                   ...     ...  \n",
              "95              0.777854  cuda:0  \n",
              "96              0.767040  cuda:0  \n",
              "97              0.769361  cuda:0  \n",
              "98              0.767772  cuda:0  \n",
              "99              0.789050  cuda:0  \n",
              "\n",
              "[100 rows x 6 columns]"
            ]
          },
          "execution_count": 16,
          "metadata": {},
          "output_type": "execute_result"
        }
      ],
      "source": [
        "df = pd.DataFrame(data, columns=['n_groups', 'batch size', 'FLOPS', 'model params count', 'batch inference time', 'device'])\n",
        "df"
      ]
    },
    {
      "cell_type": "code",
      "execution_count": 40,
      "metadata": {},
      "outputs": [
        {
          "data": {
            "application/vnd.plotly.v1+json": {
              "config": {
                "plotlyServerURL": "https://plot.ly"
              },
              "data": [
                {
                  "hovertemplate": "batch size=1<br>device=cpu<br>n_groups=%{x}<br>FLOPS=%{y}<extra></extra>",
                  "legendgroup": "1",
                  "line": {
                    "color": "#636efa",
                    "dash": "solid",
                    "shape": "spline"
                  },
                  "marker": {
                    "symbol": "circle"
                  },
                  "mode": "lines",
                  "name": "1",
                  "orientation": "v",
                  "showlegend": true,
                  "type": "scatter",
                  "x": {
                    "bdata": "AQIECBA=",
                    "dtype": "i1"
                  },
                  "xaxis": "x",
                  "y": {
                    "bdata": "AAAAAECLQUEAAAAAgKYxQQAAAAAA3SFBAAAAAABKEkEAAAAAACQDQQ==",
                    "dtype": "f8"
                  },
                  "yaxis": "y"
                },
                {
                  "hovertemplate": "batch size=1<br>device=cuda:0<br>n_groups=%{x}<br>FLOPS=%{y}<extra></extra>",
                  "legendgroup": "1",
                  "line": {
                    "color": "#636efa",
                    "dash": "solid",
                    "shape": "spline"
                  },
                  "marker": {
                    "symbol": "circle"
                  },
                  "mode": "lines",
                  "name": "1",
                  "orientation": "v",
                  "showlegend": false,
                  "type": "scatter",
                  "x": {
                    "bdata": "AQIECBA=",
                    "dtype": "i1"
                  },
                  "xaxis": "x2",
                  "y": {
                    "bdata": "AAAAAECLQUEAAAAAgKYxQQAAAAAA3SFBAAAAAABKEkEAAAAAACQDQQ==",
                    "dtype": "f8"
                  },
                  "yaxis": "y2"
                },
                {
                  "hovertemplate": "batch size=2<br>device=cpu<br>n_groups=%{x}<br>FLOPS=%{y}<extra></extra>",
                  "legendgroup": "2",
                  "line": {
                    "color": "#EF553B",
                    "dash": "solid",
                    "shape": "spline"
                  },
                  "marker": {
                    "symbol": "circle"
                  },
                  "mode": "lines",
                  "name": "2",
                  "orientation": "v",
                  "showlegend": true,
                  "type": "scatter",
                  "x": {
                    "bdata": "AQIECBA=",
                    "dtype": "i1"
                  },
                  "xaxis": "x",
                  "y": {
                    "bdata": "AAAAAECLUUEAAAAAgKZBQQAAAAAA3TFBAAAAAABKIkEAAAAAACQTQQ==",
                    "dtype": "f8"
                  },
                  "yaxis": "y"
                },
                {
                  "hovertemplate": "batch size=2<br>device=cuda:0<br>n_groups=%{x}<br>FLOPS=%{y}<extra></extra>",
                  "legendgroup": "2",
                  "line": {
                    "color": "#EF553B",
                    "dash": "solid",
                    "shape": "spline"
                  },
                  "marker": {
                    "symbol": "circle"
                  },
                  "mode": "lines",
                  "name": "2",
                  "orientation": "v",
                  "showlegend": false,
                  "type": "scatter",
                  "x": {
                    "bdata": "AQIECBA=",
                    "dtype": "i1"
                  },
                  "xaxis": "x2",
                  "y": {
                    "bdata": "AAAAAECLUUEAAAAAgKZBQQAAAAAA3TFBAAAAAABKIkEAAAAAACQTQQ==",
                    "dtype": "f8"
                  },
                  "yaxis": "y2"
                },
                {
                  "hovertemplate": "batch size=4<br>device=cpu<br>n_groups=%{x}<br>FLOPS=%{y}<extra></extra>",
                  "legendgroup": "4",
                  "line": {
                    "color": "#00cc96",
                    "dash": "solid",
                    "shape": "spline"
                  },
                  "marker": {
                    "symbol": "circle"
                  },
                  "mode": "lines",
                  "name": "4",
                  "orientation": "v",
                  "showlegend": true,
                  "type": "scatter",
                  "x": {
                    "bdata": "AQIECBA=",
                    "dtype": "i1"
                  },
                  "xaxis": "x",
                  "y": {
                    "bdata": "AAAAAECLYUEAAAAAgKZRQQAAAAAA3UFBAAAAAABKMkEAAAAAACQjQQ==",
                    "dtype": "f8"
                  },
                  "yaxis": "y"
                },
                {
                  "hovertemplate": "batch size=4<br>device=cuda:0<br>n_groups=%{x}<br>FLOPS=%{y}<extra></extra>",
                  "legendgroup": "4",
                  "line": {
                    "color": "#00cc96",
                    "dash": "solid",
                    "shape": "spline"
                  },
                  "marker": {
                    "symbol": "circle"
                  },
                  "mode": "lines",
                  "name": "4",
                  "orientation": "v",
                  "showlegend": false,
                  "type": "scatter",
                  "x": {
                    "bdata": "AQIECBA=",
                    "dtype": "i1"
                  },
                  "xaxis": "x2",
                  "y": {
                    "bdata": "AAAAAECLYUEAAAAAgKZRQQAAAAAA3UFBAAAAAABKMkEAAAAAACQjQQ==",
                    "dtype": "f8"
                  },
                  "yaxis": "y2"
                },
                {
                  "hovertemplate": "batch size=8<br>device=cpu<br>n_groups=%{x}<br>FLOPS=%{y}<extra></extra>",
                  "legendgroup": "8",
                  "line": {
                    "color": "#ab63fa",
                    "dash": "solid",
                    "shape": "spline"
                  },
                  "marker": {
                    "symbol": "circle"
                  },
                  "mode": "lines",
                  "name": "8",
                  "orientation": "v",
                  "showlegend": true,
                  "type": "scatter",
                  "x": {
                    "bdata": "AQIECBA=",
                    "dtype": "i1"
                  },
                  "xaxis": "x",
                  "y": {
                    "bdata": "AAAAAECLcUEAAAAAgKZhQQAAAAAA3VFBAAAAAABKQkEAAAAAACQzQQ==",
                    "dtype": "f8"
                  },
                  "yaxis": "y"
                },
                {
                  "hovertemplate": "batch size=8<br>device=cuda:0<br>n_groups=%{x}<br>FLOPS=%{y}<extra></extra>",
                  "legendgroup": "8",
                  "line": {
                    "color": "#ab63fa",
                    "dash": "solid",
                    "shape": "spline"
                  },
                  "marker": {
                    "symbol": "circle"
                  },
                  "mode": "lines",
                  "name": "8",
                  "orientation": "v",
                  "showlegend": false,
                  "type": "scatter",
                  "x": {
                    "bdata": "AQIECBA=",
                    "dtype": "i1"
                  },
                  "xaxis": "x2",
                  "y": {
                    "bdata": "AAAAAECLcUEAAAAAgKZhQQAAAAAA3VFBAAAAAABKQkEAAAAAACQzQQ==",
                    "dtype": "f8"
                  },
                  "yaxis": "y2"
                },
                {
                  "hovertemplate": "batch size=16<br>device=cpu<br>n_groups=%{x}<br>FLOPS=%{y}<extra></extra>",
                  "legendgroup": "16",
                  "line": {
                    "color": "#FFA15A",
                    "dash": "solid",
                    "shape": "spline"
                  },
                  "marker": {
                    "symbol": "circle"
                  },
                  "mode": "lines",
                  "name": "16",
                  "orientation": "v",
                  "showlegend": true,
                  "type": "scatter",
                  "x": {
                    "bdata": "AQIECBA=",
                    "dtype": "i1"
                  },
                  "xaxis": "x",
                  "y": {
                    "bdata": "AAAAAECLgUEAAAAAgKZxQQAAAAAA3WFBAAAAAABKUkEAAAAAACRDQQ==",
                    "dtype": "f8"
                  },
                  "yaxis": "y"
                },
                {
                  "hovertemplate": "batch size=16<br>device=cuda:0<br>n_groups=%{x}<br>FLOPS=%{y}<extra></extra>",
                  "legendgroup": "16",
                  "line": {
                    "color": "#FFA15A",
                    "dash": "solid",
                    "shape": "spline"
                  },
                  "marker": {
                    "symbol": "circle"
                  },
                  "mode": "lines",
                  "name": "16",
                  "orientation": "v",
                  "showlegend": false,
                  "type": "scatter",
                  "x": {
                    "bdata": "AQIECBA=",
                    "dtype": "i1"
                  },
                  "xaxis": "x2",
                  "y": {
                    "bdata": "AAAAAECLgUEAAAAAgKZxQQAAAAAA3WFBAAAAAABKUkEAAAAAACRDQQ==",
                    "dtype": "f8"
                  },
                  "yaxis": "y2"
                },
                {
                  "hovertemplate": "batch size=32<br>device=cpu<br>n_groups=%{x}<br>FLOPS=%{y}<extra></extra>",
                  "legendgroup": "32",
                  "line": {
                    "color": "#19d3f3",
                    "dash": "solid",
                    "shape": "spline"
                  },
                  "marker": {
                    "symbol": "circle"
                  },
                  "mode": "lines",
                  "name": "32",
                  "orientation": "v",
                  "showlegend": true,
                  "type": "scatter",
                  "x": {
                    "bdata": "AQIECBA=",
                    "dtype": "i1"
                  },
                  "xaxis": "x",
                  "y": {
                    "bdata": "AAAAAECLkUEAAAAAgKaBQQAAAAAA3XFBAAAAAABKYkEAAAAAACRTQQ==",
                    "dtype": "f8"
                  },
                  "yaxis": "y"
                },
                {
                  "hovertemplate": "batch size=32<br>device=cuda:0<br>n_groups=%{x}<br>FLOPS=%{y}<extra></extra>",
                  "legendgroup": "32",
                  "line": {
                    "color": "#19d3f3",
                    "dash": "solid",
                    "shape": "spline"
                  },
                  "marker": {
                    "symbol": "circle"
                  },
                  "mode": "lines",
                  "name": "32",
                  "orientation": "v",
                  "showlegend": false,
                  "type": "scatter",
                  "x": {
                    "bdata": "AQIECBA=",
                    "dtype": "i1"
                  },
                  "xaxis": "x2",
                  "y": {
                    "bdata": "AAAAAECLkUEAAAAAgKaBQQAAAAAA3XFBAAAAAABKYkEAAAAAACRTQQ==",
                    "dtype": "f8"
                  },
                  "yaxis": "y2"
                },
                {
                  "hovertemplate": "batch size=64<br>device=cpu<br>n_groups=%{x}<br>FLOPS=%{y}<extra></extra>",
                  "legendgroup": "64",
                  "line": {
                    "color": "#FF6692",
                    "dash": "solid",
                    "shape": "spline"
                  },
                  "marker": {
                    "symbol": "circle"
                  },
                  "mode": "lines",
                  "name": "64",
                  "orientation": "v",
                  "showlegend": true,
                  "type": "scatter",
                  "x": {
                    "bdata": "AQIECBA=",
                    "dtype": "i1"
                  },
                  "xaxis": "x",
                  "y": {
                    "bdata": "AAAAAECLoUEAAAAAgKaRQQAAAAAA3YFBAAAAAABKckEAAAAAACRjQQ==",
                    "dtype": "f8"
                  },
                  "yaxis": "y"
                },
                {
                  "hovertemplate": "batch size=64<br>device=cuda:0<br>n_groups=%{x}<br>FLOPS=%{y}<extra></extra>",
                  "legendgroup": "64",
                  "line": {
                    "color": "#FF6692",
                    "dash": "solid",
                    "shape": "spline"
                  },
                  "marker": {
                    "symbol": "circle"
                  },
                  "mode": "lines",
                  "name": "64",
                  "orientation": "v",
                  "showlegend": false,
                  "type": "scatter",
                  "x": {
                    "bdata": "AQIECBA=",
                    "dtype": "i1"
                  },
                  "xaxis": "x2",
                  "y": {
                    "bdata": "AAAAAECLoUEAAAAAgKaRQQAAAAAA3YFBAAAAAABKckEAAAAAACRjQQ==",
                    "dtype": "f8"
                  },
                  "yaxis": "y2"
                },
                {
                  "hovertemplate": "batch size=128<br>device=cpu<br>n_groups=%{x}<br>FLOPS=%{y}<extra></extra>",
                  "legendgroup": "128",
                  "line": {
                    "color": "#B6E880",
                    "dash": "solid",
                    "shape": "spline"
                  },
                  "marker": {
                    "symbol": "circle"
                  },
                  "mode": "lines",
                  "name": "128",
                  "orientation": "v",
                  "showlegend": true,
                  "type": "scatter",
                  "x": {
                    "bdata": "AQIECBA=",
                    "dtype": "i1"
                  },
                  "xaxis": "x",
                  "y": {
                    "bdata": "AAAAAECLsUEAAAAAgKahQQAAAAAA3ZFBAAAAAABKgkEAAAAAACRzQQ==",
                    "dtype": "f8"
                  },
                  "yaxis": "y"
                },
                {
                  "hovertemplate": "batch size=128<br>device=cuda:0<br>n_groups=%{x}<br>FLOPS=%{y}<extra></extra>",
                  "legendgroup": "128",
                  "line": {
                    "color": "#B6E880",
                    "dash": "solid",
                    "shape": "spline"
                  },
                  "marker": {
                    "symbol": "circle"
                  },
                  "mode": "lines",
                  "name": "128",
                  "orientation": "v",
                  "showlegend": false,
                  "type": "scatter",
                  "x": {
                    "bdata": "AQIECBA=",
                    "dtype": "i1"
                  },
                  "xaxis": "x2",
                  "y": {
                    "bdata": "AAAAAECLsUEAAAAAgKahQQAAAAAA3ZFBAAAAAABKgkEAAAAAACRzQQ==",
                    "dtype": "f8"
                  },
                  "yaxis": "y2"
                },
                {
                  "hovertemplate": "batch size=256<br>device=cpu<br>n_groups=%{x}<br>FLOPS=%{y}<extra></extra>",
                  "legendgroup": "256",
                  "line": {
                    "color": "#FF97FF",
                    "dash": "solid",
                    "shape": "spline"
                  },
                  "marker": {
                    "symbol": "circle"
                  },
                  "mode": "lines",
                  "name": "256",
                  "orientation": "v",
                  "showlegend": true,
                  "type": "scatter",
                  "x": {
                    "bdata": "AQIECBA=",
                    "dtype": "i1"
                  },
                  "xaxis": "x",
                  "y": {
                    "bdata": "AAAAAECLwUEAAAAAgKaxQQAAAAAA3aFBAAAAAABKkkEAAAAAACSDQQ==",
                    "dtype": "f8"
                  },
                  "yaxis": "y"
                },
                {
                  "hovertemplate": "batch size=256<br>device=cuda:0<br>n_groups=%{x}<br>FLOPS=%{y}<extra></extra>",
                  "legendgroup": "256",
                  "line": {
                    "color": "#FF97FF",
                    "dash": "solid",
                    "shape": "spline"
                  },
                  "marker": {
                    "symbol": "circle"
                  },
                  "mode": "lines",
                  "name": "256",
                  "orientation": "v",
                  "showlegend": false,
                  "type": "scatter",
                  "x": {
                    "bdata": "AQIECBA=",
                    "dtype": "i1"
                  },
                  "xaxis": "x2",
                  "y": {
                    "bdata": "AAAAAECLwUEAAAAAgKaxQQAAAAAA3aFBAAAAAABKkkEAAAAAACSDQQ==",
                    "dtype": "f8"
                  },
                  "yaxis": "y2"
                },
                {
                  "hovertemplate": "batch size=512<br>device=cpu<br>n_groups=%{x}<br>FLOPS=%{y}<extra></extra>",
                  "legendgroup": "512",
                  "line": {
                    "color": "#FECB52",
                    "dash": "solid",
                    "shape": "spline"
                  },
                  "marker": {
                    "symbol": "circle"
                  },
                  "mode": "lines",
                  "name": "512",
                  "orientation": "v",
                  "showlegend": true,
                  "type": "scatter",
                  "x": {
                    "bdata": "AQIECBA=",
                    "dtype": "i1"
                  },
                  "xaxis": "x",
                  "y": {
                    "bdata": "AAAAAECL0UEAAAAAgKbBQQAAAAAA3bFBAAAAAABKokEAAAAAACSTQQ==",
                    "dtype": "f8"
                  },
                  "yaxis": "y"
                },
                {
                  "hovertemplate": "batch size=512<br>device=cuda:0<br>n_groups=%{x}<br>FLOPS=%{y}<extra></extra>",
                  "legendgroup": "512",
                  "line": {
                    "color": "#FECB52",
                    "dash": "solid",
                    "shape": "spline"
                  },
                  "marker": {
                    "symbol": "circle"
                  },
                  "mode": "lines",
                  "name": "512",
                  "orientation": "v",
                  "showlegend": false,
                  "type": "scatter",
                  "x": {
                    "bdata": "AQIECBA=",
                    "dtype": "i1"
                  },
                  "xaxis": "x2",
                  "y": {
                    "bdata": "AAAAAECL0UEAAAAAgKbBQQAAAAAA3bFBAAAAAABKokEAAAAAACSTQQ==",
                    "dtype": "f8"
                  },
                  "yaxis": "y2"
                }
              ],
              "layout": {
                "annotations": [
                  {
                    "font": {},
                    "showarrow": false,
                    "text": "device=cpu",
                    "x": 0.245,
                    "xanchor": "center",
                    "xref": "paper",
                    "y": 1,
                    "yanchor": "bottom",
                    "yref": "paper"
                  },
                  {
                    "font": {},
                    "showarrow": false,
                    "text": "device=cuda:0",
                    "x": 0.755,
                    "xanchor": "center",
                    "xref": "paper",
                    "y": 1,
                    "yanchor": "bottom",
                    "yref": "paper"
                  }
                ],
                "legend": {
                  "title": {
                    "text": "batch size"
                  },
                  "tracegroupgap": 0
                },
                "margin": {
                  "t": 60
                },
                "template": {
                  "data": {
                    "bar": [
                      {
                        "error_x": {
                          "color": "#2a3f5f"
                        },
                        "error_y": {
                          "color": "#2a3f5f"
                        },
                        "marker": {
                          "line": {
                            "color": "#E5ECF6",
                            "width": 0.5
                          },
                          "pattern": {
                            "fillmode": "overlay",
                            "size": 10,
                            "solidity": 0.2
                          }
                        },
                        "type": "bar"
                      }
                    ],
                    "barpolar": [
                      {
                        "marker": {
                          "line": {
                            "color": "#E5ECF6",
                            "width": 0.5
                          },
                          "pattern": {
                            "fillmode": "overlay",
                            "size": 10,
                            "solidity": 0.2
                          }
                        },
                        "type": "barpolar"
                      }
                    ],
                    "carpet": [
                      {
                        "aaxis": {
                          "endlinecolor": "#2a3f5f",
                          "gridcolor": "white",
                          "linecolor": "white",
                          "minorgridcolor": "white",
                          "startlinecolor": "#2a3f5f"
                        },
                        "baxis": {
                          "endlinecolor": "#2a3f5f",
                          "gridcolor": "white",
                          "linecolor": "white",
                          "minorgridcolor": "white",
                          "startlinecolor": "#2a3f5f"
                        },
                        "type": "carpet"
                      }
                    ],
                    "choropleth": [
                      {
                        "colorbar": {
                          "outlinewidth": 0,
                          "ticks": ""
                        },
                        "type": "choropleth"
                      }
                    ],
                    "contour": [
                      {
                        "colorbar": {
                          "outlinewidth": 0,
                          "ticks": ""
                        },
                        "colorscale": [
                          [
                            0,
                            "#0d0887"
                          ],
                          [
                            0.1111111111111111,
                            "#46039f"
                          ],
                          [
                            0.2222222222222222,
                            "#7201a8"
                          ],
                          [
                            0.3333333333333333,
                            "#9c179e"
                          ],
                          [
                            0.4444444444444444,
                            "#bd3786"
                          ],
                          [
                            0.5555555555555556,
                            "#d8576b"
                          ],
                          [
                            0.6666666666666666,
                            "#ed7953"
                          ],
                          [
                            0.7777777777777778,
                            "#fb9f3a"
                          ],
                          [
                            0.8888888888888888,
                            "#fdca26"
                          ],
                          [
                            1,
                            "#f0f921"
                          ]
                        ],
                        "type": "contour"
                      }
                    ],
                    "contourcarpet": [
                      {
                        "colorbar": {
                          "outlinewidth": 0,
                          "ticks": ""
                        },
                        "type": "contourcarpet"
                      }
                    ],
                    "heatmap": [
                      {
                        "colorbar": {
                          "outlinewidth": 0,
                          "ticks": ""
                        },
                        "colorscale": [
                          [
                            0,
                            "#0d0887"
                          ],
                          [
                            0.1111111111111111,
                            "#46039f"
                          ],
                          [
                            0.2222222222222222,
                            "#7201a8"
                          ],
                          [
                            0.3333333333333333,
                            "#9c179e"
                          ],
                          [
                            0.4444444444444444,
                            "#bd3786"
                          ],
                          [
                            0.5555555555555556,
                            "#d8576b"
                          ],
                          [
                            0.6666666666666666,
                            "#ed7953"
                          ],
                          [
                            0.7777777777777778,
                            "#fb9f3a"
                          ],
                          [
                            0.8888888888888888,
                            "#fdca26"
                          ],
                          [
                            1,
                            "#f0f921"
                          ]
                        ],
                        "type": "heatmap"
                      }
                    ],
                    "histogram": [
                      {
                        "marker": {
                          "pattern": {
                            "fillmode": "overlay",
                            "size": 10,
                            "solidity": 0.2
                          }
                        },
                        "type": "histogram"
                      }
                    ],
                    "histogram2d": [
                      {
                        "colorbar": {
                          "outlinewidth": 0,
                          "ticks": ""
                        },
                        "colorscale": [
                          [
                            0,
                            "#0d0887"
                          ],
                          [
                            0.1111111111111111,
                            "#46039f"
                          ],
                          [
                            0.2222222222222222,
                            "#7201a8"
                          ],
                          [
                            0.3333333333333333,
                            "#9c179e"
                          ],
                          [
                            0.4444444444444444,
                            "#bd3786"
                          ],
                          [
                            0.5555555555555556,
                            "#d8576b"
                          ],
                          [
                            0.6666666666666666,
                            "#ed7953"
                          ],
                          [
                            0.7777777777777778,
                            "#fb9f3a"
                          ],
                          [
                            0.8888888888888888,
                            "#fdca26"
                          ],
                          [
                            1,
                            "#f0f921"
                          ]
                        ],
                        "type": "histogram2d"
                      }
                    ],
                    "histogram2dcontour": [
                      {
                        "colorbar": {
                          "outlinewidth": 0,
                          "ticks": ""
                        },
                        "colorscale": [
                          [
                            0,
                            "#0d0887"
                          ],
                          [
                            0.1111111111111111,
                            "#46039f"
                          ],
                          [
                            0.2222222222222222,
                            "#7201a8"
                          ],
                          [
                            0.3333333333333333,
                            "#9c179e"
                          ],
                          [
                            0.4444444444444444,
                            "#bd3786"
                          ],
                          [
                            0.5555555555555556,
                            "#d8576b"
                          ],
                          [
                            0.6666666666666666,
                            "#ed7953"
                          ],
                          [
                            0.7777777777777778,
                            "#fb9f3a"
                          ],
                          [
                            0.8888888888888888,
                            "#fdca26"
                          ],
                          [
                            1,
                            "#f0f921"
                          ]
                        ],
                        "type": "histogram2dcontour"
                      }
                    ],
                    "mesh3d": [
                      {
                        "colorbar": {
                          "outlinewidth": 0,
                          "ticks": ""
                        },
                        "type": "mesh3d"
                      }
                    ],
                    "parcoords": [
                      {
                        "line": {
                          "colorbar": {
                            "outlinewidth": 0,
                            "ticks": ""
                          }
                        },
                        "type": "parcoords"
                      }
                    ],
                    "pie": [
                      {
                        "automargin": true,
                        "type": "pie"
                      }
                    ],
                    "scatter": [
                      {
                        "fillpattern": {
                          "fillmode": "overlay",
                          "size": 10,
                          "solidity": 0.2
                        },
                        "type": "scatter"
                      }
                    ],
                    "scatter3d": [
                      {
                        "line": {
                          "colorbar": {
                            "outlinewidth": 0,
                            "ticks": ""
                          }
                        },
                        "marker": {
                          "colorbar": {
                            "outlinewidth": 0,
                            "ticks": ""
                          }
                        },
                        "type": "scatter3d"
                      }
                    ],
                    "scattercarpet": [
                      {
                        "marker": {
                          "colorbar": {
                            "outlinewidth": 0,
                            "ticks": ""
                          }
                        },
                        "type": "scattercarpet"
                      }
                    ],
                    "scattergeo": [
                      {
                        "marker": {
                          "colorbar": {
                            "outlinewidth": 0,
                            "ticks": ""
                          }
                        },
                        "type": "scattergeo"
                      }
                    ],
                    "scattergl": [
                      {
                        "marker": {
                          "colorbar": {
                            "outlinewidth": 0,
                            "ticks": ""
                          }
                        },
                        "type": "scattergl"
                      }
                    ],
                    "scattermap": [
                      {
                        "marker": {
                          "colorbar": {
                            "outlinewidth": 0,
                            "ticks": ""
                          }
                        },
                        "type": "scattermap"
                      }
                    ],
                    "scattermapbox": [
                      {
                        "marker": {
                          "colorbar": {
                            "outlinewidth": 0,
                            "ticks": ""
                          }
                        },
                        "type": "scattermapbox"
                      }
                    ],
                    "scatterpolar": [
                      {
                        "marker": {
                          "colorbar": {
                            "outlinewidth": 0,
                            "ticks": ""
                          }
                        },
                        "type": "scatterpolar"
                      }
                    ],
                    "scatterpolargl": [
                      {
                        "marker": {
                          "colorbar": {
                            "outlinewidth": 0,
                            "ticks": ""
                          }
                        },
                        "type": "scatterpolargl"
                      }
                    ],
                    "scatterternary": [
                      {
                        "marker": {
                          "colorbar": {
                            "outlinewidth": 0,
                            "ticks": ""
                          }
                        },
                        "type": "scatterternary"
                      }
                    ],
                    "surface": [
                      {
                        "colorbar": {
                          "outlinewidth": 0,
                          "ticks": ""
                        },
                        "colorscale": [
                          [
                            0,
                            "#0d0887"
                          ],
                          [
                            0.1111111111111111,
                            "#46039f"
                          ],
                          [
                            0.2222222222222222,
                            "#7201a8"
                          ],
                          [
                            0.3333333333333333,
                            "#9c179e"
                          ],
                          [
                            0.4444444444444444,
                            "#bd3786"
                          ],
                          [
                            0.5555555555555556,
                            "#d8576b"
                          ],
                          [
                            0.6666666666666666,
                            "#ed7953"
                          ],
                          [
                            0.7777777777777778,
                            "#fb9f3a"
                          ],
                          [
                            0.8888888888888888,
                            "#fdca26"
                          ],
                          [
                            1,
                            "#f0f921"
                          ]
                        ],
                        "type": "surface"
                      }
                    ],
                    "table": [
                      {
                        "cells": {
                          "fill": {
                            "color": "#EBF0F8"
                          },
                          "line": {
                            "color": "white"
                          }
                        },
                        "header": {
                          "fill": {
                            "color": "#C8D4E3"
                          },
                          "line": {
                            "color": "white"
                          }
                        },
                        "type": "table"
                      }
                    ]
                  },
                  "layout": {
                    "annotationdefaults": {
                      "arrowcolor": "#2a3f5f",
                      "arrowhead": 0,
                      "arrowwidth": 1
                    },
                    "autotypenumbers": "strict",
                    "coloraxis": {
                      "colorbar": {
                        "outlinewidth": 0,
                        "ticks": ""
                      }
                    },
                    "colorscale": {
                      "diverging": [
                        [
                          0,
                          "#8e0152"
                        ],
                        [
                          0.1,
                          "#c51b7d"
                        ],
                        [
                          0.2,
                          "#de77ae"
                        ],
                        [
                          0.3,
                          "#f1b6da"
                        ],
                        [
                          0.4,
                          "#fde0ef"
                        ],
                        [
                          0.5,
                          "#f7f7f7"
                        ],
                        [
                          0.6,
                          "#e6f5d0"
                        ],
                        [
                          0.7,
                          "#b8e186"
                        ],
                        [
                          0.8,
                          "#7fbc41"
                        ],
                        [
                          0.9,
                          "#4d9221"
                        ],
                        [
                          1,
                          "#276419"
                        ]
                      ],
                      "sequential": [
                        [
                          0,
                          "#0d0887"
                        ],
                        [
                          0.1111111111111111,
                          "#46039f"
                        ],
                        [
                          0.2222222222222222,
                          "#7201a8"
                        ],
                        [
                          0.3333333333333333,
                          "#9c179e"
                        ],
                        [
                          0.4444444444444444,
                          "#bd3786"
                        ],
                        [
                          0.5555555555555556,
                          "#d8576b"
                        ],
                        [
                          0.6666666666666666,
                          "#ed7953"
                        ],
                        [
                          0.7777777777777778,
                          "#fb9f3a"
                        ],
                        [
                          0.8888888888888888,
                          "#fdca26"
                        ],
                        [
                          1,
                          "#f0f921"
                        ]
                      ],
                      "sequentialminus": [
                        [
                          0,
                          "#0d0887"
                        ],
                        [
                          0.1111111111111111,
                          "#46039f"
                        ],
                        [
                          0.2222222222222222,
                          "#7201a8"
                        ],
                        [
                          0.3333333333333333,
                          "#9c179e"
                        ],
                        [
                          0.4444444444444444,
                          "#bd3786"
                        ],
                        [
                          0.5555555555555556,
                          "#d8576b"
                        ],
                        [
                          0.6666666666666666,
                          "#ed7953"
                        ],
                        [
                          0.7777777777777778,
                          "#fb9f3a"
                        ],
                        [
                          0.8888888888888888,
                          "#fdca26"
                        ],
                        [
                          1,
                          "#f0f921"
                        ]
                      ]
                    },
                    "colorway": [
                      "#636efa",
                      "#EF553B",
                      "#00cc96",
                      "#ab63fa",
                      "#FFA15A",
                      "#19d3f3",
                      "#FF6692",
                      "#B6E880",
                      "#FF97FF",
                      "#FECB52"
                    ],
                    "font": {
                      "color": "#2a3f5f"
                    },
                    "geo": {
                      "bgcolor": "white",
                      "lakecolor": "white",
                      "landcolor": "#E5ECF6",
                      "showlakes": true,
                      "showland": true,
                      "subunitcolor": "white"
                    },
                    "hoverlabel": {
                      "align": "left"
                    },
                    "hovermode": "closest",
                    "mapbox": {
                      "style": "light"
                    },
                    "paper_bgcolor": "white",
                    "plot_bgcolor": "#E5ECF6",
                    "polar": {
                      "angularaxis": {
                        "gridcolor": "white",
                        "linecolor": "white",
                        "ticks": ""
                      },
                      "bgcolor": "#E5ECF6",
                      "radialaxis": {
                        "gridcolor": "white",
                        "linecolor": "white",
                        "ticks": ""
                      }
                    },
                    "scene": {
                      "xaxis": {
                        "backgroundcolor": "#E5ECF6",
                        "gridcolor": "white",
                        "gridwidth": 2,
                        "linecolor": "white",
                        "showbackground": true,
                        "ticks": "",
                        "zerolinecolor": "white"
                      },
                      "yaxis": {
                        "backgroundcolor": "#E5ECF6",
                        "gridcolor": "white",
                        "gridwidth": 2,
                        "linecolor": "white",
                        "showbackground": true,
                        "ticks": "",
                        "zerolinecolor": "white"
                      },
                      "zaxis": {
                        "backgroundcolor": "#E5ECF6",
                        "gridcolor": "white",
                        "gridwidth": 2,
                        "linecolor": "white",
                        "showbackground": true,
                        "ticks": "",
                        "zerolinecolor": "white"
                      }
                    },
                    "shapedefaults": {
                      "line": {
                        "color": "#2a3f5f"
                      }
                    },
                    "ternary": {
                      "aaxis": {
                        "gridcolor": "white",
                        "linecolor": "white",
                        "ticks": ""
                      },
                      "baxis": {
                        "gridcolor": "white",
                        "linecolor": "white",
                        "ticks": ""
                      },
                      "bgcolor": "#E5ECF6",
                      "caxis": {
                        "gridcolor": "white",
                        "linecolor": "white",
                        "ticks": ""
                      }
                    },
                    "title": {
                      "x": 0.05
                    },
                    "xaxis": {
                      "automargin": true,
                      "gridcolor": "white",
                      "linecolor": "white",
                      "ticks": "",
                      "title": {
                        "standoff": 15
                      },
                      "zerolinecolor": "white",
                      "zerolinewidth": 2
                    },
                    "yaxis": {
                      "automargin": true,
                      "gridcolor": "white",
                      "linecolor": "white",
                      "ticks": "",
                      "title": {
                        "standoff": 15
                      },
                      "zerolinecolor": "white",
                      "zerolinewidth": 2
                    }
                  }
                },
                "xaxis": {
                  "anchor": "y",
                  "domain": [
                    0,
                    0.49
                  ],
                  "title": {
                    "text": "n_groups"
                  }
                },
                "xaxis2": {
                  "anchor": "y2",
                  "domain": [
                    0.51,
                    1
                  ],
                  "matches": "x",
                  "title": {
                    "text": "n_groups"
                  }
                },
                "yaxis": {
                  "anchor": "x",
                  "domain": [
                    0,
                    1
                  ],
                  "title": {
                    "text": "FLOPS"
                  }
                },
                "yaxis2": {
                  "anchor": "x2",
                  "domain": [
                    0,
                    1
                  ],
                  "matches": "y",
                  "showticklabels": false
                }
              }
            }
          },
          "metadata": {},
          "output_type": "display_data"
        }
      ],
      "source": [
        "px.line(df, x='n_groups', y='FLOPS', color='batch size', facet_col='device', line_shape='spline')"
      ]
    },
    {
      "cell_type": "code",
      "execution_count": 56,
      "metadata": {},
      "outputs": [
        {
          "data": {
            "text/html": [
              "<div>\n",
              "<style scoped>\n",
              "    .dataframe tbody tr th:only-of-type {\n",
              "        vertical-align: middle;\n",
              "    }\n",
              "\n",
              "    .dataframe tbody tr th {\n",
              "        vertical-align: top;\n",
              "    }\n",
              "\n",
              "    .dataframe thead th {\n",
              "        text-align: right;\n",
              "    }\n",
              "</style>\n",
              "<table border=\"1\" class=\"dataframe\">\n",
              "  <thead>\n",
              "    <tr style=\"text-align: right;\">\n",
              "      <th></th>\n",
              "      <th>n_groups</th>\n",
              "      <th>batch size</th>\n",
              "      <th>FLOPS</th>\n",
              "      <th>model params count</th>\n",
              "      <th>batch inference time</th>\n",
              "      <th>device</th>\n",
              "    </tr>\n",
              "  </thead>\n",
              "  <tbody>\n",
              "    <tr>\n",
              "      <th>0</th>\n",
              "      <td>1</td>\n",
              "      <td>1</td>\n",
              "      <td>2299520.0</td>\n",
              "      <td>29156</td>\n",
              "      <td>0.816918</td>\n",
              "      <td>cpu</td>\n",
              "    </tr>\n",
              "    <tr>\n",
              "      <th>1</th>\n",
              "      <td>1</td>\n",
              "      <td>2</td>\n",
              "      <td>4599040.0</td>\n",
              "      <td>29156</td>\n",
              "      <td>0.774386</td>\n",
              "      <td>cpu</td>\n",
              "    </tr>\n",
              "    <tr>\n",
              "      <th>2</th>\n",
              "      <td>1</td>\n",
              "      <td>4</td>\n",
              "      <td>9198080.0</td>\n",
              "      <td>29156</td>\n",
              "      <td>0.787228</td>\n",
              "      <td>cpu</td>\n",
              "    </tr>\n",
              "    <tr>\n",
              "      <th>3</th>\n",
              "      <td>1</td>\n",
              "      <td>8</td>\n",
              "      <td>18396160.0</td>\n",
              "      <td>29156</td>\n",
              "      <td>0.829974</td>\n",
              "      <td>cpu</td>\n",
              "    </tr>\n",
              "    <tr>\n",
              "      <th>4</th>\n",
              "      <td>1</td>\n",
              "      <td>16</td>\n",
              "      <td>36792320.0</td>\n",
              "      <td>29156</td>\n",
              "      <td>0.796389</td>\n",
              "      <td>cpu</td>\n",
              "    </tr>\n",
              "    <tr>\n",
              "      <th>...</th>\n",
              "      <td>...</td>\n",
              "      <td>...</td>\n",
              "      <td>...</td>\n",
              "      <td>...</td>\n",
              "      <td>...</td>\n",
              "      <td>...</td>\n",
              "    </tr>\n",
              "    <tr>\n",
              "      <th>95</th>\n",
              "      <td>16</td>\n",
              "      <td>32</td>\n",
              "      <td>5017600.0</td>\n",
              "      <td>2276</td>\n",
              "      <td>0.777234</td>\n",
              "      <td>cuda:0</td>\n",
              "    </tr>\n",
              "    <tr>\n",
              "      <th>96</th>\n",
              "      <td>16</td>\n",
              "      <td>64</td>\n",
              "      <td>10035200.0</td>\n",
              "      <td>2276</td>\n",
              "      <td>0.761743</td>\n",
              "      <td>cuda:0</td>\n",
              "    </tr>\n",
              "    <tr>\n",
              "      <th>97</th>\n",
              "      <td>16</td>\n",
              "      <td>128</td>\n",
              "      <td>20070400.0</td>\n",
              "      <td>2276</td>\n",
              "      <td>0.765219</td>\n",
              "      <td>cuda:0</td>\n",
              "    </tr>\n",
              "    <tr>\n",
              "      <th>98</th>\n",
              "      <td>16</td>\n",
              "      <td>256</td>\n",
              "      <td>40140800.0</td>\n",
              "      <td>2276</td>\n",
              "      <td>0.760201</td>\n",
              "      <td>cuda:0</td>\n",
              "    </tr>\n",
              "    <tr>\n",
              "      <th>99</th>\n",
              "      <td>16</td>\n",
              "      <td>512</td>\n",
              "      <td>80281600.0</td>\n",
              "      <td>2276</td>\n",
              "      <td>0.756881</td>\n",
              "      <td>cuda:0</td>\n",
              "    </tr>\n",
              "  </tbody>\n",
              "</table>\n",
              "<p>100 rows × 6 columns</p>\n",
              "</div>"
            ],
            "text/plain": [
              "    n_groups  batch size       FLOPS  model params count  \\\n",
              "0          1           1   2299520.0               29156   \n",
              "1          1           2   4599040.0               29156   \n",
              "2          1           4   9198080.0               29156   \n",
              "3          1           8  18396160.0               29156   \n",
              "4          1          16  36792320.0               29156   \n",
              "..       ...         ...         ...                 ...   \n",
              "95        16          32   5017600.0                2276   \n",
              "96        16          64  10035200.0                2276   \n",
              "97        16         128  20070400.0                2276   \n",
              "98        16         256  40140800.0                2276   \n",
              "99        16         512  80281600.0                2276   \n",
              "\n",
              "    batch inference time  device  \n",
              "0               0.816918     cpu  \n",
              "1               0.774386     cpu  \n",
              "2               0.787228     cpu  \n",
              "3               0.829974     cpu  \n",
              "4               0.796389     cpu  \n",
              "..                   ...     ...  \n",
              "95              0.777234  cuda:0  \n",
              "96              0.761743  cuda:0  \n",
              "97              0.765219  cuda:0  \n",
              "98              0.760201  cuda:0  \n",
              "99              0.756881  cuda:0  \n",
              "\n",
              "[100 rows x 6 columns]"
            ]
          },
          "execution_count": 56,
          "metadata": {},
          "output_type": "execute_result"
        }
      ],
      "source": [
        "df"
      ]
    },
    {
      "cell_type": "code",
      "execution_count": 51,
      "metadata": {},
      "outputs": [
        {
          "data": {
            "application/vnd.plotly.v1+json": {
              "config": {
                "plotlyServerURL": "https://plot.ly"
              },
              "data": [
                {
                  "hovertemplate": "batch size=1<br>device=cpu<br>n_groups=%{x}<br>batch inference time=%{y}<extra></extra>",
                  "legendgroup": "1",
                  "line": {
                    "color": "#636efa",
                    "dash": "solid"
                  },
                  "marker": {
                    "symbol": "circle"
                  },
                  "mode": "lines",
                  "name": "1",
                  "orientation": "v",
                  "showlegend": true,
                  "type": "scatter",
                  "x": {
                    "bdata": "AQIECBA=",
                    "dtype": "i1"
                  },
                  "xaxis": "x",
                  "y": {
                    "bdata": "AAAAADIk6j8AAACAnIboPwAAAACmbOg/AAAAgAle5z8AAACAPhroPw==",
                    "dtype": "f8"
                  },
                  "yaxis": "y"
                },
                {
                  "hovertemplate": "batch size=1<br>device=cuda:0<br>n_groups=%{x}<br>batch inference time=%{y}<extra></extra>",
                  "legendgroup": "1",
                  "line": {
                    "color": "#636efa",
                    "dash": "solid"
                  },
                  "marker": {
                    "symbol": "circle"
                  },
                  "mode": "lines",
                  "name": "1",
                  "orientation": "v",
                  "showlegend": false,
                  "type": "scatter",
                  "x": {
                    "bdata": "AQIECBA=",
                    "dtype": "i1"
                  },
                  "xaxis": "x2",
                  "y": {
                    "bdata": "AAAAAKNB6D8AAAAAV8LnPwAAAIDc2uc/AAAAgNsI6D8AAACAMbLoPw==",
                    "dtype": "f8"
                  },
                  "yaxis": "y2"
                },
                {
                  "hovertemplate": "batch size=2<br>device=cpu<br>n_groups=%{x}<br>batch inference time=%{y}<extra></extra>",
                  "legendgroup": "2",
                  "line": {
                    "color": "#EF553B",
                    "dash": "solid"
                  },
                  "marker": {
                    "symbol": "circle"
                  },
                  "mode": "lines",
                  "name": "2",
                  "orientation": "v",
                  "showlegend": true,
                  "type": "scatter",
                  "x": {
                    "bdata": "AQIECBA=",
                    "dtype": "i1"
                  },
                  "xaxis": "x",
                  "y": {
                    "bdata": "AAAAgMXH6D8AAACAf2roPwAAAIAoK+g/AAAAAAOn5z8AAACALwboPw==",
                    "dtype": "f8"
                  },
                  "yaxis": "y"
                },
                {
                  "hovertemplate": "batch size=2<br>device=cuda:0<br>n_groups=%{x}<br>batch inference time=%{y}<extra></extra>",
                  "legendgroup": "2",
                  "line": {
                    "color": "#EF553B",
                    "dash": "solid"
                  },
                  "marker": {
                    "symbol": "circle"
                  },
                  "mode": "lines",
                  "name": "2",
                  "orientation": "v",
                  "showlegend": false,
                  "type": "scatter",
                  "x": {
                    "bdata": "AQIECBA=",
                    "dtype": "i1"
                  },
                  "xaxis": "x2",
                  "y": {
                    "bdata": "AAAAAKWd6D8AAAAAMTHoPwAAAIC5B+g/AAAAACxq6T8AAAAAkbnoPw==",
                    "dtype": "f8"
                  },
                  "yaxis": "y2"
                },
                {
                  "hovertemplate": "batch size=4<br>device=cpu<br>n_groups=%{x}<br>batch inference time=%{y}<extra></extra>",
                  "legendgroup": "4",
                  "line": {
                    "color": "#00cc96",
                    "dash": "solid"
                  },
                  "marker": {
                    "symbol": "circle"
                  },
                  "mode": "lines",
                  "name": "4",
                  "orientation": "v",
                  "showlegend": true,
                  "type": "scatter",
                  "x": {
                    "bdata": "AQIECBA=",
                    "dtype": "i1"
                  },
                  "xaxis": "x",
                  "y": {
                    "bdata": "AAAAgPkw6T8AAAAA2HXoPwAAAIC93Oc/AAAAgJ2C5z8AAAAAoSXoPw==",
                    "dtype": "f8"
                  },
                  "yaxis": "y"
                },
                {
                  "hovertemplate": "batch size=4<br>device=cuda:0<br>n_groups=%{x}<br>batch inference time=%{y}<extra></extra>",
                  "legendgroup": "4",
                  "line": {
                    "color": "#00cc96",
                    "dash": "solid"
                  },
                  "marker": {
                    "symbol": "circle"
                  },
                  "mode": "lines",
                  "name": "4",
                  "orientation": "v",
                  "showlegend": false,
                  "type": "scatter",
                  "x": {
                    "bdata": "AQIECBA=",
                    "dtype": "i1"
                  },
                  "xaxis": "x2",
                  "y": {
                    "bdata": "AAAAACal6D8AAAAA/uboPwAAAADbAeg/AAAAgKmB6T8AAAAACLzoPw==",
                    "dtype": "f8"
                  },
                  "yaxis": "y2"
                },
                {
                  "hovertemplate": "batch size=8<br>device=cpu<br>n_groups=%{x}<br>batch inference time=%{y}<extra></extra>",
                  "legendgroup": "8",
                  "line": {
                    "color": "#ab63fa",
                    "dash": "solid"
                  },
                  "marker": {
                    "symbol": "circle"
                  },
                  "mode": "lines",
                  "name": "8",
                  "orientation": "v",
                  "showlegend": true,
                  "type": "scatter",
                  "x": {
                    "bdata": "AQIECBA=",
                    "dtype": "i1"
                  },
                  "xaxis": "x",
                  "y": {
                    "bdata": "AAAAgCWP6j8AAAAAUPznPwAAAABW1uc/AAAAgPB15z8AAAAAPxjoPw==",
                    "dtype": "f8"
                  },
                  "yaxis": "y"
                },
                {
                  "hovertemplate": "batch size=8<br>device=cuda:0<br>n_groups=%{x}<br>batch inference time=%{y}<extra></extra>",
                  "legendgroup": "8",
                  "line": {
                    "color": "#ab63fa",
                    "dash": "solid"
                  },
                  "marker": {
                    "symbol": "circle"
                  },
                  "mode": "lines",
                  "name": "8",
                  "orientation": "v",
                  "showlegend": false,
                  "type": "scatter",
                  "x": {
                    "bdata": "AQIECBA=",
                    "dtype": "i1"
                  },
                  "xaxis": "x2",
                  "y": {
                    "bdata": "AAAAAL1d6D8AAACAvnToPwAAAIBcP+g/AAAAgMna6D8AAAAAo8/oPw==",
                    "dtype": "f8"
                  },
                  "yaxis": "y2"
                },
                {
                  "hovertemplate": "batch size=16<br>device=cpu<br>n_groups=%{x}<br>batch inference time=%{y}<extra></extra>",
                  "legendgroup": "16",
                  "line": {
                    "color": "#FFA15A",
                    "dash": "solid"
                  },
                  "marker": {
                    "symbol": "circle"
                  },
                  "mode": "lines",
                  "name": "16",
                  "orientation": "v",
                  "showlegend": true,
                  "type": "scatter",
                  "x": {
                    "bdata": "AQIECBA=",
                    "dtype": "i1"
                  },
                  "xaxis": "x",
                  "y": {
                    "bdata": "AAAAAAV86T8AAACA79jnPwAAAIAl1+c/AAAAABiR5z8AAAAAbz3oPw==",
                    "dtype": "f8"
                  },
                  "yaxis": "y"
                },
                {
                  "hovertemplate": "batch size=16<br>device=cuda:0<br>n_groups=%{x}<br>batch inference time=%{y}<extra></extra>",
                  "legendgroup": "16",
                  "line": {
                    "color": "#FFA15A",
                    "dash": "solid"
                  },
                  "marker": {
                    "symbol": "circle"
                  },
                  "mode": "lines",
                  "name": "16",
                  "orientation": "v",
                  "showlegend": false,
                  "type": "scatter",
                  "x": {
                    "bdata": "AQIECBA=",
                    "dtype": "i1"
                  },
                  "xaxis": "x2",
                  "y": {
                    "bdata": "AAAAABvk5z8AAACAy8/oPwAAAIBbvuc/AAAAgCZ/6D8AAACA/arpPw==",
                    "dtype": "f8"
                  },
                  "yaxis": "y2"
                },
                {
                  "hovertemplate": "batch size=32<br>device=cpu<br>n_groups=%{x}<br>batch inference time=%{y}<extra></extra>",
                  "legendgroup": "32",
                  "line": {
                    "color": "#19d3f3",
                    "dash": "solid"
                  },
                  "marker": {
                    "symbol": "circle"
                  },
                  "mode": "lines",
                  "name": "32",
                  "orientation": "v",
                  "showlegend": true,
                  "type": "scatter",
                  "x": {
                    "bdata": "AQIECBA=",
                    "dtype": "i1"
                  },
                  "xaxis": "x",
                  "y": {
                    "bdata": "AAAAgAmX6T8AAAAA5x7oPwAAAIDjYeg/AAAAgI7l5z8AAACADRfoPw==",
                    "dtype": "f8"
                  },
                  "yaxis": "y"
                },
                {
                  "hovertemplate": "batch size=32<br>device=cuda:0<br>n_groups=%{x}<br>batch inference time=%{y}<extra></extra>",
                  "legendgroup": "32",
                  "line": {
                    "color": "#19d3f3",
                    "dash": "solid"
                  },
                  "marker": {
                    "symbol": "circle"
                  },
                  "mode": "lines",
                  "name": "32",
                  "orientation": "v",
                  "showlegend": false,
                  "type": "scatter",
                  "x": {
                    "bdata": "AQIECBA=",
                    "dtype": "i1"
                  },
                  "xaxis": "x2",
                  "y": {
                    "bdata": "AAAAABS+5z8AAACA3kvoPwAAAABDyOc/AAAAgCZB6T8AAACAGt/oPw==",
                    "dtype": "f8"
                  },
                  "yaxis": "y2"
                },
                {
                  "hovertemplate": "batch size=64<br>device=cpu<br>n_groups=%{x}<br>batch inference time=%{y}<extra></extra>",
                  "legendgroup": "64",
                  "line": {
                    "color": "#FF6692",
                    "dash": "solid"
                  },
                  "marker": {
                    "symbol": "circle"
                  },
                  "mode": "lines",
                  "name": "64",
                  "orientation": "v",
                  "showlegend": true,
                  "type": "scatter",
                  "x": {
                    "bdata": "AQIECBA=",
                    "dtype": "i1"
                  },
                  "xaxis": "x",
                  "y": {
                    "bdata": "AAAAAE//6D8AAACAZhToPwAAAAAUjOg/AAAAgOMy6D8AAACAOifpPw==",
                    "dtype": "f8"
                  },
                  "yaxis": "y"
                },
                {
                  "hovertemplate": "batch size=64<br>device=cuda:0<br>n_groups=%{x}<br>batch inference time=%{y}<extra></extra>",
                  "legendgroup": "64",
                  "line": {
                    "color": "#FF6692",
                    "dash": "solid"
                  },
                  "marker": {
                    "symbol": "circle"
                  },
                  "mode": "lines",
                  "name": "64",
                  "orientation": "v",
                  "showlegend": false,
                  "type": "scatter",
                  "x": {
                    "bdata": "AQIECBA=",
                    "dtype": "i1"
                  },
                  "xaxis": "x2",
                  "y": {
                    "bdata": "AAAAgFrj5z8AAACAiz/oPwAAAIDTxec/AAAAgG//6T8AAACAM2DoPw==",
                    "dtype": "f8"
                  },
                  "yaxis": "y2"
                },
                {
                  "hovertemplate": "batch size=128<br>device=cpu<br>n_groups=%{x}<br>batch inference time=%{y}<extra></extra>",
                  "legendgroup": "128",
                  "line": {
                    "color": "#B6E880",
                    "dash": "solid"
                  },
                  "marker": {
                    "symbol": "circle"
                  },
                  "mode": "lines",
                  "name": "128",
                  "orientation": "v",
                  "showlegend": true,
                  "type": "scatter",
                  "x": {
                    "bdata": "AQIECBA=",
                    "dtype": "i1"
                  },
                  "xaxis": "x",
                  "y": {
                    "bdata": "AAAAgJGI6T8AAAAAMyvoPwAAAADUXeg/AAAAgLTJ6D8AAACAmproPw==",
                    "dtype": "f8"
                  },
                  "yaxis": "y"
                },
                {
                  "hovertemplate": "batch size=128<br>device=cuda:0<br>n_groups=%{x}<br>batch inference time=%{y}<extra></extra>",
                  "legendgroup": "128",
                  "line": {
                    "color": "#B6E880",
                    "dash": "solid"
                  },
                  "marker": {
                    "symbol": "circle"
                  },
                  "mode": "lines",
                  "name": "128",
                  "orientation": "v",
                  "showlegend": false,
                  "type": "scatter",
                  "x": {
                    "bdata": "AQIECBA=",
                    "dtype": "i1"
                  },
                  "xaxis": "x2",
                  "y": {
                    "bdata": "AAAAgETD5z8AAACAIwXpPwAAAIAs0ec/AAAAAKXB6D8AAAAArHzoPw==",
                    "dtype": "f8"
                  },
                  "yaxis": "y2"
                },
                {
                  "hovertemplate": "batch size=256<br>device=cpu<br>n_groups=%{x}<br>batch inference time=%{y}<extra></extra>",
                  "legendgroup": "256",
                  "line": {
                    "color": "#FF97FF",
                    "dash": "solid"
                  },
                  "marker": {
                    "symbol": "circle"
                  },
                  "mode": "lines",
                  "name": "256",
                  "orientation": "v",
                  "showlegend": true,
                  "type": "scatter",
                  "x": {
                    "bdata": "AQIECBA=",
                    "dtype": "i1"
                  },
                  "xaxis": "x",
                  "y": {
                    "bdata": "AAAAAI1Z6j8AAACAL8PoPwAAAAArj+k/AAAAAFqj6T8AAACAYb/oPw==",
                    "dtype": "f8"
                  },
                  "yaxis": "y"
                },
                {
                  "hovertemplate": "batch size=256<br>device=cuda:0<br>n_groups=%{x}<br>batch inference time=%{y}<extra></extra>",
                  "legendgroup": "256",
                  "line": {
                    "color": "#FF97FF",
                    "dash": "solid"
                  },
                  "marker": {
                    "symbol": "circle"
                  },
                  "mode": "lines",
                  "name": "256",
                  "orientation": "v",
                  "showlegend": false,
                  "type": "scatter",
                  "x": {
                    "bdata": "AQIECBA=",
                    "dtype": "i1"
                  },
                  "xaxis": "x2",
                  "y": {
                    "bdata": "AAAAgG665z8AAAAAfZjpPwAAAADlxuc/AAAAgAPb6D8AAACAkFPoPw==",
                    "dtype": "f8"
                  },
                  "yaxis": "y2"
                },
                {
                  "hovertemplate": "batch size=512<br>device=cpu<br>n_groups=%{x}<br>batch inference time=%{y}<extra></extra>",
                  "legendgroup": "512",
                  "line": {
                    "color": "#FECB52",
                    "dash": "solid"
                  },
                  "marker": {
                    "symbol": "circle"
                  },
                  "mode": "lines",
                  "name": "512",
                  "orientation": "v",
                  "showlegend": true,
                  "type": "scatter",
                  "x": {
                    "bdata": "AQIECBA=",
                    "dtype": "i1"
                  },
                  "xaxis": "x",
                  "y": {
                    "bdata": "AAAAgIvH6j8AAACAyQbqPwAAAIA4F+o/AAAAAMLu6T8AAACAygzrPw==",
                    "dtype": "f8"
                  },
                  "yaxis": "y"
                },
                {
                  "hovertemplate": "batch size=512<br>device=cuda:0<br>n_groups=%{x}<br>batch inference time=%{y}<extra></extra>",
                  "legendgroup": "512",
                  "line": {
                    "color": "#FECB52",
                    "dash": "solid"
                  },
                  "marker": {
                    "symbol": "circle"
                  },
                  "mode": "lines",
                  "name": "512",
                  "orientation": "v",
                  "showlegend": false,
                  "type": "scatter",
                  "x": {
                    "bdata": "AQIECBA=",
                    "dtype": "i1"
                  },
                  "xaxis": "x2",
                  "y": {
                    "bdata": "AAAAAKiV5z8AAAAALgPpPwAAAABzrec/AAAAAAGx6D8AAACAXjjoPw==",
                    "dtype": "f8"
                  },
                  "yaxis": "y2"
                }
              ],
              "layout": {
                "annotations": [
                  {
                    "font": {},
                    "showarrow": false,
                    "text": "device=cpu",
                    "x": 0.245,
                    "xanchor": "center",
                    "xref": "paper",
                    "y": 1,
                    "yanchor": "bottom",
                    "yref": "paper"
                  },
                  {
                    "font": {},
                    "showarrow": false,
                    "text": "device=cuda:0",
                    "x": 0.755,
                    "xanchor": "center",
                    "xref": "paper",
                    "y": 1,
                    "yanchor": "bottom",
                    "yref": "paper"
                  }
                ],
                "legend": {
                  "title": {
                    "text": "batch size"
                  },
                  "tracegroupgap": 0
                },
                "margin": {
                  "t": 60
                },
                "template": {
                  "data": {
                    "bar": [
                      {
                        "error_x": {
                          "color": "#2a3f5f"
                        },
                        "error_y": {
                          "color": "#2a3f5f"
                        },
                        "marker": {
                          "line": {
                            "color": "#E5ECF6",
                            "width": 0.5
                          },
                          "pattern": {
                            "fillmode": "overlay",
                            "size": 10,
                            "solidity": 0.2
                          }
                        },
                        "type": "bar"
                      }
                    ],
                    "barpolar": [
                      {
                        "marker": {
                          "line": {
                            "color": "#E5ECF6",
                            "width": 0.5
                          },
                          "pattern": {
                            "fillmode": "overlay",
                            "size": 10,
                            "solidity": 0.2
                          }
                        },
                        "type": "barpolar"
                      }
                    ],
                    "carpet": [
                      {
                        "aaxis": {
                          "endlinecolor": "#2a3f5f",
                          "gridcolor": "white",
                          "linecolor": "white",
                          "minorgridcolor": "white",
                          "startlinecolor": "#2a3f5f"
                        },
                        "baxis": {
                          "endlinecolor": "#2a3f5f",
                          "gridcolor": "white",
                          "linecolor": "white",
                          "minorgridcolor": "white",
                          "startlinecolor": "#2a3f5f"
                        },
                        "type": "carpet"
                      }
                    ],
                    "choropleth": [
                      {
                        "colorbar": {
                          "outlinewidth": 0,
                          "ticks": ""
                        },
                        "type": "choropleth"
                      }
                    ],
                    "contour": [
                      {
                        "colorbar": {
                          "outlinewidth": 0,
                          "ticks": ""
                        },
                        "colorscale": [
                          [
                            0,
                            "#0d0887"
                          ],
                          [
                            0.1111111111111111,
                            "#46039f"
                          ],
                          [
                            0.2222222222222222,
                            "#7201a8"
                          ],
                          [
                            0.3333333333333333,
                            "#9c179e"
                          ],
                          [
                            0.4444444444444444,
                            "#bd3786"
                          ],
                          [
                            0.5555555555555556,
                            "#d8576b"
                          ],
                          [
                            0.6666666666666666,
                            "#ed7953"
                          ],
                          [
                            0.7777777777777778,
                            "#fb9f3a"
                          ],
                          [
                            0.8888888888888888,
                            "#fdca26"
                          ],
                          [
                            1,
                            "#f0f921"
                          ]
                        ],
                        "type": "contour"
                      }
                    ],
                    "contourcarpet": [
                      {
                        "colorbar": {
                          "outlinewidth": 0,
                          "ticks": ""
                        },
                        "type": "contourcarpet"
                      }
                    ],
                    "heatmap": [
                      {
                        "colorbar": {
                          "outlinewidth": 0,
                          "ticks": ""
                        },
                        "colorscale": [
                          [
                            0,
                            "#0d0887"
                          ],
                          [
                            0.1111111111111111,
                            "#46039f"
                          ],
                          [
                            0.2222222222222222,
                            "#7201a8"
                          ],
                          [
                            0.3333333333333333,
                            "#9c179e"
                          ],
                          [
                            0.4444444444444444,
                            "#bd3786"
                          ],
                          [
                            0.5555555555555556,
                            "#d8576b"
                          ],
                          [
                            0.6666666666666666,
                            "#ed7953"
                          ],
                          [
                            0.7777777777777778,
                            "#fb9f3a"
                          ],
                          [
                            0.8888888888888888,
                            "#fdca26"
                          ],
                          [
                            1,
                            "#f0f921"
                          ]
                        ],
                        "type": "heatmap"
                      }
                    ],
                    "histogram": [
                      {
                        "marker": {
                          "pattern": {
                            "fillmode": "overlay",
                            "size": 10,
                            "solidity": 0.2
                          }
                        },
                        "type": "histogram"
                      }
                    ],
                    "histogram2d": [
                      {
                        "colorbar": {
                          "outlinewidth": 0,
                          "ticks": ""
                        },
                        "colorscale": [
                          [
                            0,
                            "#0d0887"
                          ],
                          [
                            0.1111111111111111,
                            "#46039f"
                          ],
                          [
                            0.2222222222222222,
                            "#7201a8"
                          ],
                          [
                            0.3333333333333333,
                            "#9c179e"
                          ],
                          [
                            0.4444444444444444,
                            "#bd3786"
                          ],
                          [
                            0.5555555555555556,
                            "#d8576b"
                          ],
                          [
                            0.6666666666666666,
                            "#ed7953"
                          ],
                          [
                            0.7777777777777778,
                            "#fb9f3a"
                          ],
                          [
                            0.8888888888888888,
                            "#fdca26"
                          ],
                          [
                            1,
                            "#f0f921"
                          ]
                        ],
                        "type": "histogram2d"
                      }
                    ],
                    "histogram2dcontour": [
                      {
                        "colorbar": {
                          "outlinewidth": 0,
                          "ticks": ""
                        },
                        "colorscale": [
                          [
                            0,
                            "#0d0887"
                          ],
                          [
                            0.1111111111111111,
                            "#46039f"
                          ],
                          [
                            0.2222222222222222,
                            "#7201a8"
                          ],
                          [
                            0.3333333333333333,
                            "#9c179e"
                          ],
                          [
                            0.4444444444444444,
                            "#bd3786"
                          ],
                          [
                            0.5555555555555556,
                            "#d8576b"
                          ],
                          [
                            0.6666666666666666,
                            "#ed7953"
                          ],
                          [
                            0.7777777777777778,
                            "#fb9f3a"
                          ],
                          [
                            0.8888888888888888,
                            "#fdca26"
                          ],
                          [
                            1,
                            "#f0f921"
                          ]
                        ],
                        "type": "histogram2dcontour"
                      }
                    ],
                    "mesh3d": [
                      {
                        "colorbar": {
                          "outlinewidth": 0,
                          "ticks": ""
                        },
                        "type": "mesh3d"
                      }
                    ],
                    "parcoords": [
                      {
                        "line": {
                          "colorbar": {
                            "outlinewidth": 0,
                            "ticks": ""
                          }
                        },
                        "type": "parcoords"
                      }
                    ],
                    "pie": [
                      {
                        "automargin": true,
                        "type": "pie"
                      }
                    ],
                    "scatter": [
                      {
                        "fillpattern": {
                          "fillmode": "overlay",
                          "size": 10,
                          "solidity": 0.2
                        },
                        "type": "scatter"
                      }
                    ],
                    "scatter3d": [
                      {
                        "line": {
                          "colorbar": {
                            "outlinewidth": 0,
                            "ticks": ""
                          }
                        },
                        "marker": {
                          "colorbar": {
                            "outlinewidth": 0,
                            "ticks": ""
                          }
                        },
                        "type": "scatter3d"
                      }
                    ],
                    "scattercarpet": [
                      {
                        "marker": {
                          "colorbar": {
                            "outlinewidth": 0,
                            "ticks": ""
                          }
                        },
                        "type": "scattercarpet"
                      }
                    ],
                    "scattergeo": [
                      {
                        "marker": {
                          "colorbar": {
                            "outlinewidth": 0,
                            "ticks": ""
                          }
                        },
                        "type": "scattergeo"
                      }
                    ],
                    "scattergl": [
                      {
                        "marker": {
                          "colorbar": {
                            "outlinewidth": 0,
                            "ticks": ""
                          }
                        },
                        "type": "scattergl"
                      }
                    ],
                    "scattermap": [
                      {
                        "marker": {
                          "colorbar": {
                            "outlinewidth": 0,
                            "ticks": ""
                          }
                        },
                        "type": "scattermap"
                      }
                    ],
                    "scattermapbox": [
                      {
                        "marker": {
                          "colorbar": {
                            "outlinewidth": 0,
                            "ticks": ""
                          }
                        },
                        "type": "scattermapbox"
                      }
                    ],
                    "scatterpolar": [
                      {
                        "marker": {
                          "colorbar": {
                            "outlinewidth": 0,
                            "ticks": ""
                          }
                        },
                        "type": "scatterpolar"
                      }
                    ],
                    "scatterpolargl": [
                      {
                        "marker": {
                          "colorbar": {
                            "outlinewidth": 0,
                            "ticks": ""
                          }
                        },
                        "type": "scatterpolargl"
                      }
                    ],
                    "scatterternary": [
                      {
                        "marker": {
                          "colorbar": {
                            "outlinewidth": 0,
                            "ticks": ""
                          }
                        },
                        "type": "scatterternary"
                      }
                    ],
                    "surface": [
                      {
                        "colorbar": {
                          "outlinewidth": 0,
                          "ticks": ""
                        },
                        "colorscale": [
                          [
                            0,
                            "#0d0887"
                          ],
                          [
                            0.1111111111111111,
                            "#46039f"
                          ],
                          [
                            0.2222222222222222,
                            "#7201a8"
                          ],
                          [
                            0.3333333333333333,
                            "#9c179e"
                          ],
                          [
                            0.4444444444444444,
                            "#bd3786"
                          ],
                          [
                            0.5555555555555556,
                            "#d8576b"
                          ],
                          [
                            0.6666666666666666,
                            "#ed7953"
                          ],
                          [
                            0.7777777777777778,
                            "#fb9f3a"
                          ],
                          [
                            0.8888888888888888,
                            "#fdca26"
                          ],
                          [
                            1,
                            "#f0f921"
                          ]
                        ],
                        "type": "surface"
                      }
                    ],
                    "table": [
                      {
                        "cells": {
                          "fill": {
                            "color": "#EBF0F8"
                          },
                          "line": {
                            "color": "white"
                          }
                        },
                        "header": {
                          "fill": {
                            "color": "#C8D4E3"
                          },
                          "line": {
                            "color": "white"
                          }
                        },
                        "type": "table"
                      }
                    ]
                  },
                  "layout": {
                    "annotationdefaults": {
                      "arrowcolor": "#2a3f5f",
                      "arrowhead": 0,
                      "arrowwidth": 1
                    },
                    "autotypenumbers": "strict",
                    "coloraxis": {
                      "colorbar": {
                        "outlinewidth": 0,
                        "ticks": ""
                      }
                    },
                    "colorscale": {
                      "diverging": [
                        [
                          0,
                          "#8e0152"
                        ],
                        [
                          0.1,
                          "#c51b7d"
                        ],
                        [
                          0.2,
                          "#de77ae"
                        ],
                        [
                          0.3,
                          "#f1b6da"
                        ],
                        [
                          0.4,
                          "#fde0ef"
                        ],
                        [
                          0.5,
                          "#f7f7f7"
                        ],
                        [
                          0.6,
                          "#e6f5d0"
                        ],
                        [
                          0.7,
                          "#b8e186"
                        ],
                        [
                          0.8,
                          "#7fbc41"
                        ],
                        [
                          0.9,
                          "#4d9221"
                        ],
                        [
                          1,
                          "#276419"
                        ]
                      ],
                      "sequential": [
                        [
                          0,
                          "#0d0887"
                        ],
                        [
                          0.1111111111111111,
                          "#46039f"
                        ],
                        [
                          0.2222222222222222,
                          "#7201a8"
                        ],
                        [
                          0.3333333333333333,
                          "#9c179e"
                        ],
                        [
                          0.4444444444444444,
                          "#bd3786"
                        ],
                        [
                          0.5555555555555556,
                          "#d8576b"
                        ],
                        [
                          0.6666666666666666,
                          "#ed7953"
                        ],
                        [
                          0.7777777777777778,
                          "#fb9f3a"
                        ],
                        [
                          0.8888888888888888,
                          "#fdca26"
                        ],
                        [
                          1,
                          "#f0f921"
                        ]
                      ],
                      "sequentialminus": [
                        [
                          0,
                          "#0d0887"
                        ],
                        [
                          0.1111111111111111,
                          "#46039f"
                        ],
                        [
                          0.2222222222222222,
                          "#7201a8"
                        ],
                        [
                          0.3333333333333333,
                          "#9c179e"
                        ],
                        [
                          0.4444444444444444,
                          "#bd3786"
                        ],
                        [
                          0.5555555555555556,
                          "#d8576b"
                        ],
                        [
                          0.6666666666666666,
                          "#ed7953"
                        ],
                        [
                          0.7777777777777778,
                          "#fb9f3a"
                        ],
                        [
                          0.8888888888888888,
                          "#fdca26"
                        ],
                        [
                          1,
                          "#f0f921"
                        ]
                      ]
                    },
                    "colorway": [
                      "#636efa",
                      "#EF553B",
                      "#00cc96",
                      "#ab63fa",
                      "#FFA15A",
                      "#19d3f3",
                      "#FF6692",
                      "#B6E880",
                      "#FF97FF",
                      "#FECB52"
                    ],
                    "font": {
                      "color": "#2a3f5f"
                    },
                    "geo": {
                      "bgcolor": "white",
                      "lakecolor": "white",
                      "landcolor": "#E5ECF6",
                      "showlakes": true,
                      "showland": true,
                      "subunitcolor": "white"
                    },
                    "hoverlabel": {
                      "align": "left"
                    },
                    "hovermode": "closest",
                    "mapbox": {
                      "style": "light"
                    },
                    "paper_bgcolor": "white",
                    "plot_bgcolor": "#E5ECF6",
                    "polar": {
                      "angularaxis": {
                        "gridcolor": "white",
                        "linecolor": "white",
                        "ticks": ""
                      },
                      "bgcolor": "#E5ECF6",
                      "radialaxis": {
                        "gridcolor": "white",
                        "linecolor": "white",
                        "ticks": ""
                      }
                    },
                    "scene": {
                      "xaxis": {
                        "backgroundcolor": "#E5ECF6",
                        "gridcolor": "white",
                        "gridwidth": 2,
                        "linecolor": "white",
                        "showbackground": true,
                        "ticks": "",
                        "zerolinecolor": "white"
                      },
                      "yaxis": {
                        "backgroundcolor": "#E5ECF6",
                        "gridcolor": "white",
                        "gridwidth": 2,
                        "linecolor": "white",
                        "showbackground": true,
                        "ticks": "",
                        "zerolinecolor": "white"
                      },
                      "zaxis": {
                        "backgroundcolor": "#E5ECF6",
                        "gridcolor": "white",
                        "gridwidth": 2,
                        "linecolor": "white",
                        "showbackground": true,
                        "ticks": "",
                        "zerolinecolor": "white"
                      }
                    },
                    "shapedefaults": {
                      "line": {
                        "color": "#2a3f5f"
                      }
                    },
                    "ternary": {
                      "aaxis": {
                        "gridcolor": "white",
                        "linecolor": "white",
                        "ticks": ""
                      },
                      "baxis": {
                        "gridcolor": "white",
                        "linecolor": "white",
                        "ticks": ""
                      },
                      "bgcolor": "#E5ECF6",
                      "caxis": {
                        "gridcolor": "white",
                        "linecolor": "white",
                        "ticks": ""
                      }
                    },
                    "title": {
                      "x": 0.05
                    },
                    "xaxis": {
                      "automargin": true,
                      "gridcolor": "white",
                      "linecolor": "white",
                      "ticks": "",
                      "title": {
                        "standoff": 15
                      },
                      "zerolinecolor": "white",
                      "zerolinewidth": 2
                    },
                    "yaxis": {
                      "automargin": true,
                      "gridcolor": "white",
                      "linecolor": "white",
                      "ticks": "",
                      "title": {
                        "standoff": 15
                      },
                      "zerolinecolor": "white",
                      "zerolinewidth": 2
                    }
                  }
                },
                "xaxis": {
                  "anchor": "y",
                  "domain": [
                    0,
                    0.49
                  ],
                  "title": {
                    "text": "n_groups"
                  }
                },
                "xaxis2": {
                  "anchor": "y2",
                  "domain": [
                    0.51,
                    1
                  ],
                  "matches": "x",
                  "title": {
                    "text": "n_groups"
                  }
                },
                "yaxis": {
                  "anchor": "x",
                  "domain": [
                    0,
                    1
                  ],
                  "title": {
                    "text": "batch inference time"
                  }
                },
                "yaxis2": {
                  "anchor": "x2",
                  "domain": [
                    0,
                    1
                  ],
                  "matches": "y",
                  "showticklabels": false
                }
              }
            }
          },
          "metadata": {},
          "output_type": "display_data"
        }
      ],
      "source": [
        "px.line(df, x='n_groups', y='batch inference time', color='batch size', facet_col='device')"
      ]
    },
    {
      "cell_type": "code",
      "execution_count": 19,
      "metadata": {},
      "outputs": [
        {
          "data": {
            "application/vnd.plotly.v1+json": {
              "config": {
                "plotlyServerURL": "https://plot.ly"
              },
              "data": [
                {
                  "hovertemplate": "n_groups=%{x}<br>model params count=%{y}<extra></extra>",
                  "legendgroup": "",
                  "line": {
                    "color": "#636efa",
                    "dash": "solid",
                    "shape": "spline"
                  },
                  "marker": {
                    "symbol": "circle"
                  },
                  "mode": "lines",
                  "name": "",
                  "orientation": "v",
                  "showlegend": false,
                  "type": "scatter",
                  "x": {
                    "bdata": "AQEBAQEBAQEBAQEBAQEBAQEBAQECAgICAgICAgICAgICAgICAgICAgQEBAQEBAQEBAQEBAQEBAQEBAQECAgICAgICAgICAgICAgICAgICAgQEBAQEBAQEBAQEBAQEBAQEBAQEA==",
                    "dtype": "i1"
                  },
                  "xaxis": "x",
                  "y": {
                    "bdata": "5HHkceRx5HHkceRx5HHkceRx5HHkceRx5HHkceRx5HHkceRx5HHkceQ55DnkOeQ55DnkOeQ55DnkOeQ55DnkOeQ55DnkOeQ55DnkOeQ55DnkHeQd5B3kHeQd5B3kHeQd5B3kHeQd5B3kHeQd5B3kHeQd5B3kHeQd5A/kD+QP5A/kD+QP5A/kD+QP5A/kD+QP5A/kD+QP5A/kD+QP5A/kD+QI5AjkCOQI5AjkCOQI5AjkCOQI5AjkCOQI5AjkCOQI5AjkCOQI5Ag=",
                    "dtype": "i2"
                  },
                  "yaxis": "y"
                }
              ],
              "layout": {
                "legend": {
                  "tracegroupgap": 0
                },
                "margin": {
                  "t": 60
                },
                "template": {
                  "data": {
                    "bar": [
                      {
                        "error_x": {
                          "color": "#2a3f5f"
                        },
                        "error_y": {
                          "color": "#2a3f5f"
                        },
                        "marker": {
                          "line": {
                            "color": "#E5ECF6",
                            "width": 0.5
                          },
                          "pattern": {
                            "fillmode": "overlay",
                            "size": 10,
                            "solidity": 0.2
                          }
                        },
                        "type": "bar"
                      }
                    ],
                    "barpolar": [
                      {
                        "marker": {
                          "line": {
                            "color": "#E5ECF6",
                            "width": 0.5
                          },
                          "pattern": {
                            "fillmode": "overlay",
                            "size": 10,
                            "solidity": 0.2
                          }
                        },
                        "type": "barpolar"
                      }
                    ],
                    "carpet": [
                      {
                        "aaxis": {
                          "endlinecolor": "#2a3f5f",
                          "gridcolor": "white",
                          "linecolor": "white",
                          "minorgridcolor": "white",
                          "startlinecolor": "#2a3f5f"
                        },
                        "baxis": {
                          "endlinecolor": "#2a3f5f",
                          "gridcolor": "white",
                          "linecolor": "white",
                          "minorgridcolor": "white",
                          "startlinecolor": "#2a3f5f"
                        },
                        "type": "carpet"
                      }
                    ],
                    "choropleth": [
                      {
                        "colorbar": {
                          "outlinewidth": 0,
                          "ticks": ""
                        },
                        "type": "choropleth"
                      }
                    ],
                    "contour": [
                      {
                        "colorbar": {
                          "outlinewidth": 0,
                          "ticks": ""
                        },
                        "colorscale": [
                          [
                            0,
                            "#0d0887"
                          ],
                          [
                            0.1111111111111111,
                            "#46039f"
                          ],
                          [
                            0.2222222222222222,
                            "#7201a8"
                          ],
                          [
                            0.3333333333333333,
                            "#9c179e"
                          ],
                          [
                            0.4444444444444444,
                            "#bd3786"
                          ],
                          [
                            0.5555555555555556,
                            "#d8576b"
                          ],
                          [
                            0.6666666666666666,
                            "#ed7953"
                          ],
                          [
                            0.7777777777777778,
                            "#fb9f3a"
                          ],
                          [
                            0.8888888888888888,
                            "#fdca26"
                          ],
                          [
                            1,
                            "#f0f921"
                          ]
                        ],
                        "type": "contour"
                      }
                    ],
                    "contourcarpet": [
                      {
                        "colorbar": {
                          "outlinewidth": 0,
                          "ticks": ""
                        },
                        "type": "contourcarpet"
                      }
                    ],
                    "heatmap": [
                      {
                        "colorbar": {
                          "outlinewidth": 0,
                          "ticks": ""
                        },
                        "colorscale": [
                          [
                            0,
                            "#0d0887"
                          ],
                          [
                            0.1111111111111111,
                            "#46039f"
                          ],
                          [
                            0.2222222222222222,
                            "#7201a8"
                          ],
                          [
                            0.3333333333333333,
                            "#9c179e"
                          ],
                          [
                            0.4444444444444444,
                            "#bd3786"
                          ],
                          [
                            0.5555555555555556,
                            "#d8576b"
                          ],
                          [
                            0.6666666666666666,
                            "#ed7953"
                          ],
                          [
                            0.7777777777777778,
                            "#fb9f3a"
                          ],
                          [
                            0.8888888888888888,
                            "#fdca26"
                          ],
                          [
                            1,
                            "#f0f921"
                          ]
                        ],
                        "type": "heatmap"
                      }
                    ],
                    "histogram": [
                      {
                        "marker": {
                          "pattern": {
                            "fillmode": "overlay",
                            "size": 10,
                            "solidity": 0.2
                          }
                        },
                        "type": "histogram"
                      }
                    ],
                    "histogram2d": [
                      {
                        "colorbar": {
                          "outlinewidth": 0,
                          "ticks": ""
                        },
                        "colorscale": [
                          [
                            0,
                            "#0d0887"
                          ],
                          [
                            0.1111111111111111,
                            "#46039f"
                          ],
                          [
                            0.2222222222222222,
                            "#7201a8"
                          ],
                          [
                            0.3333333333333333,
                            "#9c179e"
                          ],
                          [
                            0.4444444444444444,
                            "#bd3786"
                          ],
                          [
                            0.5555555555555556,
                            "#d8576b"
                          ],
                          [
                            0.6666666666666666,
                            "#ed7953"
                          ],
                          [
                            0.7777777777777778,
                            "#fb9f3a"
                          ],
                          [
                            0.8888888888888888,
                            "#fdca26"
                          ],
                          [
                            1,
                            "#f0f921"
                          ]
                        ],
                        "type": "histogram2d"
                      }
                    ],
                    "histogram2dcontour": [
                      {
                        "colorbar": {
                          "outlinewidth": 0,
                          "ticks": ""
                        },
                        "colorscale": [
                          [
                            0,
                            "#0d0887"
                          ],
                          [
                            0.1111111111111111,
                            "#46039f"
                          ],
                          [
                            0.2222222222222222,
                            "#7201a8"
                          ],
                          [
                            0.3333333333333333,
                            "#9c179e"
                          ],
                          [
                            0.4444444444444444,
                            "#bd3786"
                          ],
                          [
                            0.5555555555555556,
                            "#d8576b"
                          ],
                          [
                            0.6666666666666666,
                            "#ed7953"
                          ],
                          [
                            0.7777777777777778,
                            "#fb9f3a"
                          ],
                          [
                            0.8888888888888888,
                            "#fdca26"
                          ],
                          [
                            1,
                            "#f0f921"
                          ]
                        ],
                        "type": "histogram2dcontour"
                      }
                    ],
                    "mesh3d": [
                      {
                        "colorbar": {
                          "outlinewidth": 0,
                          "ticks": ""
                        },
                        "type": "mesh3d"
                      }
                    ],
                    "parcoords": [
                      {
                        "line": {
                          "colorbar": {
                            "outlinewidth": 0,
                            "ticks": ""
                          }
                        },
                        "type": "parcoords"
                      }
                    ],
                    "pie": [
                      {
                        "automargin": true,
                        "type": "pie"
                      }
                    ],
                    "scatter": [
                      {
                        "fillpattern": {
                          "fillmode": "overlay",
                          "size": 10,
                          "solidity": 0.2
                        },
                        "type": "scatter"
                      }
                    ],
                    "scatter3d": [
                      {
                        "line": {
                          "colorbar": {
                            "outlinewidth": 0,
                            "ticks": ""
                          }
                        },
                        "marker": {
                          "colorbar": {
                            "outlinewidth": 0,
                            "ticks": ""
                          }
                        },
                        "type": "scatter3d"
                      }
                    ],
                    "scattercarpet": [
                      {
                        "marker": {
                          "colorbar": {
                            "outlinewidth": 0,
                            "ticks": ""
                          }
                        },
                        "type": "scattercarpet"
                      }
                    ],
                    "scattergeo": [
                      {
                        "marker": {
                          "colorbar": {
                            "outlinewidth": 0,
                            "ticks": ""
                          }
                        },
                        "type": "scattergeo"
                      }
                    ],
                    "scattergl": [
                      {
                        "marker": {
                          "colorbar": {
                            "outlinewidth": 0,
                            "ticks": ""
                          }
                        },
                        "type": "scattergl"
                      }
                    ],
                    "scattermap": [
                      {
                        "marker": {
                          "colorbar": {
                            "outlinewidth": 0,
                            "ticks": ""
                          }
                        },
                        "type": "scattermap"
                      }
                    ],
                    "scattermapbox": [
                      {
                        "marker": {
                          "colorbar": {
                            "outlinewidth": 0,
                            "ticks": ""
                          }
                        },
                        "type": "scattermapbox"
                      }
                    ],
                    "scatterpolar": [
                      {
                        "marker": {
                          "colorbar": {
                            "outlinewidth": 0,
                            "ticks": ""
                          }
                        },
                        "type": "scatterpolar"
                      }
                    ],
                    "scatterpolargl": [
                      {
                        "marker": {
                          "colorbar": {
                            "outlinewidth": 0,
                            "ticks": ""
                          }
                        },
                        "type": "scatterpolargl"
                      }
                    ],
                    "scatterternary": [
                      {
                        "marker": {
                          "colorbar": {
                            "outlinewidth": 0,
                            "ticks": ""
                          }
                        },
                        "type": "scatterternary"
                      }
                    ],
                    "surface": [
                      {
                        "colorbar": {
                          "outlinewidth": 0,
                          "ticks": ""
                        },
                        "colorscale": [
                          [
                            0,
                            "#0d0887"
                          ],
                          [
                            0.1111111111111111,
                            "#46039f"
                          ],
                          [
                            0.2222222222222222,
                            "#7201a8"
                          ],
                          [
                            0.3333333333333333,
                            "#9c179e"
                          ],
                          [
                            0.4444444444444444,
                            "#bd3786"
                          ],
                          [
                            0.5555555555555556,
                            "#d8576b"
                          ],
                          [
                            0.6666666666666666,
                            "#ed7953"
                          ],
                          [
                            0.7777777777777778,
                            "#fb9f3a"
                          ],
                          [
                            0.8888888888888888,
                            "#fdca26"
                          ],
                          [
                            1,
                            "#f0f921"
                          ]
                        ],
                        "type": "surface"
                      }
                    ],
                    "table": [
                      {
                        "cells": {
                          "fill": {
                            "color": "#EBF0F8"
                          },
                          "line": {
                            "color": "white"
                          }
                        },
                        "header": {
                          "fill": {
                            "color": "#C8D4E3"
                          },
                          "line": {
                            "color": "white"
                          }
                        },
                        "type": "table"
                      }
                    ]
                  },
                  "layout": {
                    "annotationdefaults": {
                      "arrowcolor": "#2a3f5f",
                      "arrowhead": 0,
                      "arrowwidth": 1
                    },
                    "autotypenumbers": "strict",
                    "coloraxis": {
                      "colorbar": {
                        "outlinewidth": 0,
                        "ticks": ""
                      }
                    },
                    "colorscale": {
                      "diverging": [
                        [
                          0,
                          "#8e0152"
                        ],
                        [
                          0.1,
                          "#c51b7d"
                        ],
                        [
                          0.2,
                          "#de77ae"
                        ],
                        [
                          0.3,
                          "#f1b6da"
                        ],
                        [
                          0.4,
                          "#fde0ef"
                        ],
                        [
                          0.5,
                          "#f7f7f7"
                        ],
                        [
                          0.6,
                          "#e6f5d0"
                        ],
                        [
                          0.7,
                          "#b8e186"
                        ],
                        [
                          0.8,
                          "#7fbc41"
                        ],
                        [
                          0.9,
                          "#4d9221"
                        ],
                        [
                          1,
                          "#276419"
                        ]
                      ],
                      "sequential": [
                        [
                          0,
                          "#0d0887"
                        ],
                        [
                          0.1111111111111111,
                          "#46039f"
                        ],
                        [
                          0.2222222222222222,
                          "#7201a8"
                        ],
                        [
                          0.3333333333333333,
                          "#9c179e"
                        ],
                        [
                          0.4444444444444444,
                          "#bd3786"
                        ],
                        [
                          0.5555555555555556,
                          "#d8576b"
                        ],
                        [
                          0.6666666666666666,
                          "#ed7953"
                        ],
                        [
                          0.7777777777777778,
                          "#fb9f3a"
                        ],
                        [
                          0.8888888888888888,
                          "#fdca26"
                        ],
                        [
                          1,
                          "#f0f921"
                        ]
                      ],
                      "sequentialminus": [
                        [
                          0,
                          "#0d0887"
                        ],
                        [
                          0.1111111111111111,
                          "#46039f"
                        ],
                        [
                          0.2222222222222222,
                          "#7201a8"
                        ],
                        [
                          0.3333333333333333,
                          "#9c179e"
                        ],
                        [
                          0.4444444444444444,
                          "#bd3786"
                        ],
                        [
                          0.5555555555555556,
                          "#d8576b"
                        ],
                        [
                          0.6666666666666666,
                          "#ed7953"
                        ],
                        [
                          0.7777777777777778,
                          "#fb9f3a"
                        ],
                        [
                          0.8888888888888888,
                          "#fdca26"
                        ],
                        [
                          1,
                          "#f0f921"
                        ]
                      ]
                    },
                    "colorway": [
                      "#636efa",
                      "#EF553B",
                      "#00cc96",
                      "#ab63fa",
                      "#FFA15A",
                      "#19d3f3",
                      "#FF6692",
                      "#B6E880",
                      "#FF97FF",
                      "#FECB52"
                    ],
                    "font": {
                      "color": "#2a3f5f"
                    },
                    "geo": {
                      "bgcolor": "white",
                      "lakecolor": "white",
                      "landcolor": "#E5ECF6",
                      "showlakes": true,
                      "showland": true,
                      "subunitcolor": "white"
                    },
                    "hoverlabel": {
                      "align": "left"
                    },
                    "hovermode": "closest",
                    "mapbox": {
                      "style": "light"
                    },
                    "paper_bgcolor": "white",
                    "plot_bgcolor": "#E5ECF6",
                    "polar": {
                      "angularaxis": {
                        "gridcolor": "white",
                        "linecolor": "white",
                        "ticks": ""
                      },
                      "bgcolor": "#E5ECF6",
                      "radialaxis": {
                        "gridcolor": "white",
                        "linecolor": "white",
                        "ticks": ""
                      }
                    },
                    "scene": {
                      "xaxis": {
                        "backgroundcolor": "#E5ECF6",
                        "gridcolor": "white",
                        "gridwidth": 2,
                        "linecolor": "white",
                        "showbackground": true,
                        "ticks": "",
                        "zerolinecolor": "white"
                      },
                      "yaxis": {
                        "backgroundcolor": "#E5ECF6",
                        "gridcolor": "white",
                        "gridwidth": 2,
                        "linecolor": "white",
                        "showbackground": true,
                        "ticks": "",
                        "zerolinecolor": "white"
                      },
                      "zaxis": {
                        "backgroundcolor": "#E5ECF6",
                        "gridcolor": "white",
                        "gridwidth": 2,
                        "linecolor": "white",
                        "showbackground": true,
                        "ticks": "",
                        "zerolinecolor": "white"
                      }
                    },
                    "shapedefaults": {
                      "line": {
                        "color": "#2a3f5f"
                      }
                    },
                    "ternary": {
                      "aaxis": {
                        "gridcolor": "white",
                        "linecolor": "white",
                        "ticks": ""
                      },
                      "baxis": {
                        "gridcolor": "white",
                        "linecolor": "white",
                        "ticks": ""
                      },
                      "bgcolor": "#E5ECF6",
                      "caxis": {
                        "gridcolor": "white",
                        "linecolor": "white",
                        "ticks": ""
                      }
                    },
                    "title": {
                      "x": 0.05
                    },
                    "xaxis": {
                      "automargin": true,
                      "gridcolor": "white",
                      "linecolor": "white",
                      "ticks": "",
                      "title": {
                        "standoff": 15
                      },
                      "zerolinecolor": "white",
                      "zerolinewidth": 2
                    },
                    "yaxis": {
                      "automargin": true,
                      "gridcolor": "white",
                      "linecolor": "white",
                      "ticks": "",
                      "title": {
                        "standoff": 15
                      },
                      "zerolinecolor": "white",
                      "zerolinewidth": 2
                    }
                  }
                },
                "xaxis": {
                  "anchor": "y",
                  "domain": [
                    0,
                    1
                  ],
                  "title": {
                    "text": "n_groups"
                  }
                },
                "yaxis": {
                  "anchor": "x",
                  "domain": [
                    0,
                    1
                  ],
                  "title": {
                    "text": "model params count"
                  }
                }
              }
            }
          },
          "metadata": {},
          "output_type": "display_data"
        }
      ],
      "source": [
        "px.line(df, x='n_groups', y='model params count', line_shape='spline')"
      ]
    }
  ],
  "metadata": {
    "colab": {
      "provenance": []
    },
    "kernelspec": {
      "display_name": ".venv",
      "language": "python",
      "name": "python3"
    },
    "language_info": {
      "codemirror_mode": {
        "name": "ipython",
        "version": 3
      },
      "file_extension": ".py",
      "mimetype": "text/x-python",
      "name": "python",
      "nbconvert_exporter": "python",
      "pygments_lexer": "ipython3",
      "version": "3.13.2"
    }
  },
  "nbformat": 4,
  "nbformat_minor": 0
}
