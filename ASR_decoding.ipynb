{
 "cells": [
  {
   "cell_type": "code",
   "execution_count": 1,
   "metadata": {
    "id": "Q9u9I0jVUup1"
   },
   "outputs": [],
   "source": [
    "# !sudo sh -c 'apt-get update && apt-get upgrade && apt-get install cmake'\n",
    "# !pip3 install https://github.com/kpu/kenlm/archive/master.zip\n",
    "# !pip3 install levenshtein"
   ]
  },
  {
   "cell_type": "code",
   "execution_count": 2,
   "metadata": {
    "id": "OfUKf_Vmiynu"
   },
   "outputs": [],
   "source": [
    "# !git clone https://github.com/AntonOkhotnikov/ai-talent-hub-itmo-speech-course.git\n",
    "# !mv ai-talent-hub-itmo-speech-course/assignments/assignment2/* ."
   ]
  },
  {
   "cell_type": "code",
   "execution_count": null,
   "metadata": {
    "id": "N8wdTTKposOL"
   },
   "outputs": [],
   "source": [
    "!wget https://www.openslr.org/resources/11/3-gram.arpa.gz -P lm\n",
    "!wget https://www.openslr.org/resources/11/3-gram.pruned.3e-7.arpa.gz -P lm\n",
    "!wget https://www.openslr.org/resources/11/4-gram.arpa.gz -P lm"
   ]
  },
  {
   "cell_type": "code",
   "execution_count": 4,
   "metadata": {
    "colab": {
     "base_uri": "https://localhost:8080/"
    },
    "id": "V_rCOv4ulXGQ",
    "outputId": "081c09ea-86c3-43a0-8c9a-70ad5d4d06ad"
   },
   "outputs": [
    {
     "name": "stdout",
     "output_type": "stream",
     "text": [
      "geopandas==1.0.1\n",
      "kenlm @ https://github.com/kpu/kenlm/archive/master.zip#sha256=f935c2ac0be6dd1bf96a5852973dad6103c48e866cf33532459fb1336bea4bfe\n",
      "Levenshtein==0.27.1\n",
      "numpy==2.0.2\n",
      "pandas==2.2.2\n",
      "pandas-datareader==0.10.0\n",
      "pandas-gbq==0.28.0\n",
      "pandas-stubs==2.2.2.240909\n",
      "sentence-transformers==3.4.1\n",
      "sklearn-pandas==2.2.0\n",
      "torch @ https://download.pytorch.org/whl/cu124/torch-2.6.0%2Bcu124-cp311-cp311-linux_x86_64.whl\n",
      "torchaudio @ https://download.pytorch.org/whl/cu124/torchaudio-2.6.0%2Bcu124-cp311-cp311-linux_x86_64.whl\n",
      "torchsummary==1.5.1\n",
      "torchvision @ https://download.pytorch.org/whl/cu124/torchvision-0.21.0%2Bcu124-cp311-cp311-linux_x86_64.whl\n",
      "transformers==4.50.3\n"
     ]
    }
   ],
   "source": [
    "!pip3 freeze | grep -E \"kenlm|torch*|Levenshtein|transformers|numpy|pandas\""
   ]
  },
  {
   "cell_type": "code",
   "execution_count": 5,
   "metadata": {
    "id": "XzFHRBOBl8VI"
   },
   "outputs": [],
   "source": [
    "import math\n",
    "import time\n",
    "import heapq\n",
    "from pathlib import Path\n",
    "from typing import List, Tuple, Union\n",
    "\n",
    "import kenlm\n",
    "import torch\n",
    "import torchaudio\n",
    "import Levenshtein\n",
    "import numpy as np\n",
    "import pandas as pd\n",
    "import torch.nn.functional as F\n",
    "from tqdm import tqdm\n",
    "from transformers import Wav2Vec2Processor, Wav2Vec2ForCTC"
   ]
  },
  {
   "cell_type": "code",
   "execution_count": 6,
   "metadata": {
    "id": "6jJfhWuVUCpR"
   },
   "outputs": [],
   "source": [
    "class Wav2Vec2Decoder:\n",
    "    def __init__(\n",
    "            self,\n",
    "            model_name=\"facebook/wav2vec2-base-960h\",\n",
    "            lm_model_path=\"lm/3-gram.pruned.1e-7.arpa.gz\",\n",
    "            beam_width=3,\n",
    "            alpha=1.0,\n",
    "            beta=1.0\n",
    "        ):\n",
    "        self.processor = Wav2Vec2Processor.from_pretrained(model_name)\n",
    "        self.model = Wav2Vec2ForCTC.from_pretrained(model_name)\n",
    "\n",
    "        self.vocab = {i: c for c, i in self.processor.tokenizer.get_vocab().items()}\n",
    "        self.blank_token_id = self.processor.tokenizer.pad_token_id\n",
    "        self.word_delimiter = self.processor.tokenizer.word_delimiter_token\n",
    "        self.beam_width = beam_width\n",
    "        self.alpha = alpha\n",
    "        self.beta = beta\n",
    "        self.lm_model = kenlm.Model(lm_model_path) if lm_model_path else None\n",
    "\n",
    "    def greedy_decode(self, logits: torch.Tensor) -> str:\n",
    "        pred_idxs = torch.argmax(logits, dim=-1)\n",
    "        return self._seq_to_transcript(pred_idxs.tolist())\n",
    "\n",
    "    def _seq_to_transcript(self, seq):\n",
    "        tokens = []\n",
    "        prev_token = None\n",
    "        for idx in seq:\n",
    "            if idx != self.blank_token_id and idx != prev_token:\n",
    "                tokens.append(self.vocab[idx])\n",
    "            prev_token = idx\n",
    "        return ''.join(tokens).replace(self.word_delimiter, ' ').strip()\n",
    "\n",
    "    def beam_search_decode(self, logits: torch.Tensor, return_beams: bool = False):\n",
    "        log_probs = F.log_softmax(logits, dim=-1)\n",
    "        T, V = log_probs.shape\n",
    "\n",
    "        beams = [([], 0.0)]  # (sequence, score)\n",
    "\n",
    "        for t in range(T):\n",
    "            new_beams = []\n",
    "            for seq, score in beams:\n",
    "                for v in range(V):\n",
    "                    new_seq = seq + [v]\n",
    "                    new_score = score + log_probs[t, v].item()\n",
    "                    new_beams.append((new_seq, new_score))\n",
    "            beams = heapq.nlargest(self.beam_width, new_beams, key=lambda x: x[1])\n",
    "\n",
    "        if return_beams:\n",
    "            return beams\n",
    "        else:\n",
    "            return self._seq_to_transcript(beams[0][0])\n",
    "\n",
    "    def beam_search_with_lm(self, logits: torch.Tensor) -> str:\n",
    "        log_probs = F.log_softmax(logits, dim=-1)\n",
    "        T, V = log_probs.shape\n",
    "\n",
    "        beams = [([], 0.0, \"<s>\")]  # (sequence, score, LM state)\n",
    "\n",
    "        for t in range(T):\n",
    "            new_beams = []\n",
    "            for seq, score, lm_prefix in beams:\n",
    "                for v in range(V):\n",
    "                    new_seq = seq + [v]\n",
    "                    token = self.vocab[v]\n",
    "                    new_score = score + log_probs[t, v].item()\n",
    "\n",
    "                    # Apply LM shallow fusion\n",
    "                    if token != self.word_delimiter and token != self.processor.tokenizer.pad_token:\n",
    "                        lm_state = lm_prefix + token\n",
    "                        lm_score = self.lm_model.score(lm_state, bos=True, eos=False)\n",
    "                        new_score += self.alpha * lm_score + self.beta\n",
    "                        new_beams.append((new_seq, new_score, lm_state))\n",
    "                    else:\n",
    "                        new_beams.append((new_seq, new_score, lm_prefix))\n",
    "\n",
    "            beams = heapq.nlargest(self.beam_width, new_beams, key=lambda x: x[1])\n",
    "\n",
    "        return self._seq_to_transcript(beams[0][0])\n",
    "\n",
    "    def lm_rescore(self, beams: List[Tuple[str, float]]) -> str:\n",
    "        rescored = []\n",
    "        for seq, score in beams:\n",
    "            transcript = self._seq_to_transcript(seq)\n",
    "            words = transcript.split()\n",
    "            lm_score = self.lm_model.score(\" \".join(words), bos=True, eos=True)\n",
    "            total_score = self.alpha * lm_score + self.beta * len(words) + score\n",
    "            rescored.append((transcript, total_score))\n",
    "        rescored.sort(key=lambda x: x[1], reverse=True)\n",
    "        return rescored[0][0]\n",
    "\n",
    "    def decode(self, audio_input: torch.Tensor, method: str = \"greedy\") -> str:\n",
    "        inputs = self.processor(audio_input, return_tensors=\"pt\", sampling_rate=16000)\n",
    "        with torch.no_grad():\n",
    "            logits = self.model(inputs.input_values.squeeze(0)).logits[0]\n",
    "\n",
    "        if method == \"greedy\":\n",
    "            return self.greedy_decode(logits)\n",
    "        elif method == \"beam\":\n",
    "            return self.beam_search_decode(logits)\n",
    "        elif method == \"beam_lm\":\n",
    "            return self.beam_search_with_lm(logits)\n",
    "        elif method == \"beam_lm_rescore\":\n",
    "            beams = self.beam_search_decode(logits, return_beams=True)\n",
    "            return self.lm_rescore(beams)\n",
    "        else:\n",
    "            raise ValueError(\"Invalid decoding method. Choose one of 'greedy', 'beam', 'beam_lm', 'beam_lm_rescore'.\")\n",
    "\n",
    "\n",
    "def test(decoder, audio_path, true_transcription):\n",
    "\n",
    "    res_dict = {}\n",
    "    audio_input, sr = torchaudio.load(audio_path)\n",
    "    assert sr == 16000, \"Audio sample rate must be 16kHz\"\n",
    "\n",
    "    print(\"=\" * 60)\n",
    "    print(\"Target transcription\")\n",
    "    print(true_transcription)\n",
    "\n",
    "    # Print all decoding methods results\n",
    "    for d_strategy in [\"greedy\", \"beam\", \"beam_lm\", \"beam_lm_rescore\"]:\n",
    "        print(\"-\" * 60)\n",
    "        print(f\"{d_strategy} decoding\")\n",
    "        t0 = time.perf_counter()\n",
    "        transcript = decoder.decode(audio_input, method=d_strategy).strip()\n",
    "        res_dict[f'{d_strategy}_t'] = time.perf_counter() - t0\n",
    "        print(f\"{transcript}\")\n",
    "        score = Levenshtein.distance(true_transcription, transcript) / max(len(true_transcription), len(transcript))\n",
    "        print(f\"Character-level Levenshtein distance: {score}\")\n",
    "        res_dict[f'{d_strategy}_levenshtein'] = score\n",
    "    return res_dict"
   ]
  },
  {
   "cell_type": "code",
   "execution_count": 7,
   "metadata": {
    "id": "wxzWu8cLhP3I"
   },
   "outputs": [],
   "source": [
    "  test_samples = [\n",
    "      (\"examples/sample1.wav\", \"IF YOU ARE GENEROUS HERE IS A FITTING OPPORTUNITY FOR THE EXERCISE OF YOUR MAGNANIMITY IF YOU ARE PROUD HERE AM I YOUR RIVAL READY TO ACKNOWLEDGE MYSELF YOUR DEBTOR FOR AN ACT OF THE MOST NOBLE FORBEARANCE\"),\n",
    "      (\"examples/sample2.wav\", \"AND IF ANY OF THE OTHER COPS HAD PRIVATE RACKETS OF THEIR OWN IZZY WAS UNDOUBTEDLY THE MAN TO FIND IT OUT AND USE THE INFORMATION WITH A BEAT SUCH AS THAT EVEN GOING HALVES AND WITH ALL THE GRAFT TO THE UPPER BRACKETS HE'D STILL BE ABLE TO MAKE HIS PILE IN A MATTER OF MONTHS\"),\n",
    "      (\"examples/sample3.wav\", \"GUESS A MAN GETS USED TO ANYTHING HELL MAYBE I CAN HIRE SOME BUMS TO SIT AROUND AND WHOOP IT UP WHEN THE SHIPS COME IN AND BILL THIS AS A REAL OLD MARTIAN DEN OF SIN\"),\n",
    "      (\"examples/sample4.wav\", \"IT WAS A TUNE THEY HAD ALL HEARD HUNDREDS OF TIMES SO THERE WAS NO DIFFICULTY IN TURNING OUT A PASSABLE IMITATION OF IT TO THE IMPROVISED STRAINS OF I DIDN'T WANT TO DO IT THE PRISONER STRODE FORTH TO FREEDOM\"),\n",
    "      (\"examples/sample5.wav\", \"MARGUERITE TIRED OUT WITH THIS LONG CONFESSION THREW HERSELF BACK ON THE SOFA AND TO STIFLE A SLIGHT COUGH PUT UP HER HANDKERCHIEF TO HER LIPS AND FROM THAT TO HER EYES\"),\n",
    "      (\"examples/sample6.wav\", \"AT THIS TIME ALL PARTICIPANTS ARE IN A LISTEN ONLY MODE\"),\n",
    "      (\"examples/sample7.wav\", \"THE INCREASE WAS MAINLY ATTRIBUTABLE TO THE NET INCREASE IN THE AVERAGE SIZE OF OUR FLEETS\"),\n",
    "      (\"examples/sample8.wav\", \"OPERATING SURPLUS IS A NON CAP FINANCIAL MEASURE WHICH IS DEFINED AS FULLY IN OUR PRESS RELEASE\"),\n",
    "  ]\n"
   ]
  },
  {
   "cell_type": "code",
   "execution_count": 8,
   "metadata": {
    "id": "Kiarsb6MdC12"
   },
   "outputs": [],
   "source": [
    "def score(decoder, audio_input, true_transcription, d_strategies, lm_model_name=None):\n",
    "    res_records = []\n",
    "    try:\n",
    "        for d_strategy in d_strategies:\n",
    "            res_dict = {'method': d_strategy, 'beam_width': decoder.beam_width,\n",
    "                        'alpha': decoder.alpha, 'beta': decoder.beta,\n",
    "                        'lm_model': lm_model_name}\n",
    "            t0 = time.perf_counter()\n",
    "            transcript = decoder.decode(audio_input, method=d_strategy)\n",
    "            res_dict[f't'] = time.perf_counter() - t0\n",
    "            res_dict[f'transcript'] = transcript\n",
    "            score = Levenshtein.distance(true_transcription, transcript.strip())  / max(len(true_transcription), len(transcript))\n",
    "            res_dict[f'levenshtein'] = score\n",
    "            res_records.append(res_dict)\n",
    "        print(res_records)\n",
    "    except Exception as e:\n",
    "        print(e)\n",
    "    finally:\n",
    "        return res_records"
   ]
  },
  {
   "cell_type": "code",
   "execution_count": null,
   "metadata": {},
   "outputs": [],
   "source": [
    "import pandas as pd"
   ]
  },
  {
   "cell_type": "code",
   "execution_count": 9,
   "metadata": {
    "colab": {
     "base_uri": "https://localhost:8080/"
    },
    "id": "PjQXxuVejSIN",
    "outputId": "dc090977-cb6f-4c78-954f-d00842e38dcc"
   },
   "outputs": [
    {
     "data": {
      "text/plain": [
       "([PosixPath('lm/4-gram.arpa.gz'),\n",
       "  PosixPath('lm/3-gram.pruned.1e-7.arpa.gz'),\n",
       "  PosixPath('lm/3-gram.pruned.3e-7.arpa.gz'),\n",
       "  PosixPath('lm/3-gram.arpa.gz')],\n",
       " array([ 1,  3,  5,  7, 10]),\n",
       " array([0.1  , 0.325, 0.55 , 0.775, 1.   ]),\n",
       " array([1, 2, 3, 4, 5]))"
      ]
     },
     "execution_count": 9,
     "metadata": {},
     "output_type": "execute_result"
    }
   ],
   "source": [
    "model_paths = list(filter(lambda x: x.is_file(), Path('lm').glob('*')))\n",
    "beam_width_grid = np.linspace(1, 10, 5, dtype=int)\n",
    "ratio_grid = np.linspace(0.1, 1, 5, dtype=float)\n",
    "scale_grid = np.linspace(1, 5, 5, dtype=int)\n",
    "model_paths, beam_width_grid, ratio_grid, scale_grid"
   ]
  },
  {
   "cell_type": "code",
   "execution_count": null,
   "metadata": {
    "colab": {
     "base_uri": "https://localhost:8080/"
    },
    "id": "bom3IenPrbrY",
    "outputId": "64d83464-048b-43d8-ef24-d1fdf846379e"
   },
   "outputs": [
    {
     "name": "stderr",
     "output_type": "stream",
     "text": [
      "\r  0%|          | 0/11744 [00:00<?, ?it/s]/usr/local/lib/python3.11/dist-packages/huggingface_hub/utils/_auth.py:94: UserWarning: \n",
      "The secret `HF_TOKEN` does not exist in your Colab secrets.\n",
      "To authenticate with the Hugging Face Hub, create a token in your settings tab (https://huggingface.co/settings/tokens), set it as secret in your Google Colab and restart your session.\n",
      "You will be able to reuse this secret in all of your notebooks.\n",
      "Please note that authentication is recommended but still optional to access public models or datasets.\n",
      "  warnings.warn(\n",
      "Some weights of Wav2Vec2ForCTC were not initialized from the model checkpoint at facebook/wav2vec2-base-960h and are newly initialized: ['wav2vec2.masked_spec_embed']\n",
      "You should probably TRAIN this model on a down-stream task to be able to use it for predictions and inference.\n",
      "  0%|          | 4/11744 [02:47<136:14:52, 41.78s/it]"
     ]
    },
    {
     "name": "stdout",
     "output_type": "stream",
     "text": [
      "[{'method': 'greedy', 'beam_width': 1, 'alpha': 0.1, 'beta': 0.9, 'lm_model': '4-gram.arpa', 't': 4.258842862000165, 'transcript': 'IF YOU ARE GENEROUS HERE IS A FITTING OPPORTUNITY FOR THE EXERCISE OF YOUR MAGNANIMITY IF YOU ARE PROUD HERE AM I YOUR RIVAL RETER TO ACKNOWLEDGE MYSELF YOUR DEPTOR FOR AN ACT OF MOST NOBLE FORBEARANCE', 'levenshtein': 0.03902439024390244}, {'method': 'beam', 'beam_width': 1, 'alpha': 0.1, 'beta': 0.9, 'lm_model': '4-gram.arpa', 't': 5.452081368999643, 'transcript': 'IF YOU ARE GENEROUS HERE IS A FITTING OPPORTUNITY FOR THE EXERCISE OF YOUR MAGNANIMITY IF YOU ARE PROUD HERE AM I YOUR RIVAL RETER TO ACKNOWLEDGE MYSELF YOUR DEPTOR FOR AN ACT OF MOST NOBLE FORBEARANCE', 'levenshtein': 0.03902439024390244}, {'method': 'beam_lm', 'beam_width': 1, 'alpha': 0.1, 'beta': 0.9, 'lm_model': '4-gram.arpa', 't': 4.385218063998764, 'transcript': 'IF YOU ARE GENEROUS HERE IS A FITTING OPPORTUNITY FOR THE EXERCISE OF YOUR MAGNANIMITY IF YOU ARE PROUD HERE AM I YOUR RIVAL RETHER TO ACKNOWLEDGE MYSELF YOUR DEPTOR FOR AN ACT OF MOST NOBLE FORBEARANCE', 'levenshtein': 0.04390243902439024}, {'method': 'beam_lm_rescore', 'beam_width': 1, 'alpha': 0.1, 'beta': 0.9, 'lm_model': '4-gram.arpa', 't': 4.738234677002765, 'transcript': 'IF YOU ARE GENEROUS HERE IS A FITTING OPPORTUNITY FOR THE EXERCISE OF YOUR MAGNANIMITY IF YOU ARE PROUD HERE AM I YOUR RIVAL RETER TO ACKNOWLEDGE MYSELF YOUR DEPTOR FOR AN ACT OF MOST NOBLE FORBEARANCE', 'levenshtein': 0.03902439024390244}]\n"
     ]
    },
    {
     "name": "stderr",
     "output_type": "stream",
     "text": [
      "\r  0%|          | 7/11744 [03:03<74:49:07, 22.95s/it] "
     ]
    },
    {
     "name": "stdout",
     "output_type": "stream",
     "text": [
      "[{'method': 'beam', 'beam_width': 3, 'alpha': 0.1, 'beta': 0.9, 'lm_model': '4-gram.arpa', 't': 5.271629992999806, 'transcript': 'IF YOU ARE GENEROUS HERE IS A FITTING OPPORTUNITY FOR THE EXERCISE OF YOUR MAGNANIMITY IF YOU ARE PROUD HERE AM I YOUR RIVAL RETER TO ACKNOWLEDGE MYSELF YOUR DEPTOR FOR AN ACT OF MOST NOBLE FORBEARANCE', 'levenshtein': 0.03902439024390244}, {'method': 'beam_lm', 'beam_width': 3, 'alpha': 0.1, 'beta': 0.9, 'lm_model': '4-gram.arpa', 't': 5.010692875999666, 'transcript': 'IF YOU ARE GENEROUS HERE IS A FITTING OPPORTUNITY FOR THE EXERCISE OF YOUR MAGNANIMITY IF YOU ARE PROUD HERE AM I YOUR RIVAL RETHER TO ACKNOWLEDGE MYSELF YOUR DEPTOR FOR AN ACT OF MOST NOBLE FORBEARANCE', 'levenshtein': 0.04390243902439024}, {'method': 'beam_lm_rescore', 'beam_width': 3, 'alpha': 0.1, 'beta': 0.9, 'lm_model': '4-gram.arpa', 't': 5.833143184998335, 'transcript': 'IF YOU ARE GENEROUS HERE IS A FITTING OPPORTUNITY FOR THE EXERCISE OF YOUR MAGNANIMITY IF YOU ARE PROUD HERE AM I YOUR RIVAL RETER TO ACKNOWLEDGE MYSELF YOUR DEPTOR FOR AN ACT OF MOST NOBLE FORBEARANCE', 'levenshtein': 0.03902439024390244}]\n"
     ]
    },
    {
     "name": "stderr",
     "output_type": "stream",
     "text": [
      "\r  0%|          | 9/11744 [03:14<55:56:58, 17.16s/it]"
     ]
    },
    {
     "name": "stdout",
     "output_type": "stream",
     "text": [
      "[{'method': 'beam_lm', 'beam_width': 3, 'alpha': np.float64(0.6), 'beta': np.float64(1.4), 'lm_model': '4-gram.arpa', 't': 5.161972469999455, 'transcript': 'IF YOU ARE GENEROUS HERE IS A FITTING OPPORTUNITY FOR THE EXERCISE OF YOUR MAGNANIMITY IF YOU ARE PROUD HERE AM I YOUR RIVAL RETER TO ACKNOWLEDGE MYSELF YOUR DEPTOR FOR AN ACT OF MOST NOBLE FORBEARANCE', 'levenshtein': 0.03902439024390244}, {'method': 'beam_lm_rescore', 'beam_width': 3, 'alpha': np.float64(0.6), 'beta': np.float64(1.4), 'lm_model': '4-gram.arpa', 't': 5.677810481000051, 'transcript': 'IF YOU ARE GENEROUS HERE IS A FITTING OPPORTUNITY FOR THE EXERCISE OF YOUR MAGNANIMITY IF YOU ARE PROUD HERE AM I YOUR RIVAL RETER TO ACKNOWLEDGE MYSELF YOUR DEPTOR FOR AN ACT OF MOST NOBLE FORBEARANCE', 'levenshtein': 0.03902439024390244}]\n"
     ]
    },
    {
     "name": "stderr",
     "output_type": "stream",
     "text": [
      "\r  0%|          | 11/11744 [03:23<43:10:38, 13.25s/it]"
     ]
    },
    {
     "name": "stdout",
     "output_type": "stream",
     "text": [
      "[{'method': 'beam_lm', 'beam_width': 3, 'alpha': np.float64(1.0), 'beta': np.float64(2.0), 'lm_model': '4-gram.arpa', 't': 5.160644843999762, 'transcript': 'IF YOU ARE GENEROUS HERE IS A FITTING OPPORTUNITY FOR THE EXERCISE OF YOUR MAGNANIMITY IF YOU ARE PROUD HERE AM I YOUR RIVAL RETER TO CKNOWLEDGE MYSELF YOUR DEPTOR FOR AN ACT OF MOST NOBLE FORBEARANCE', 'levenshtein': 0.04390243902439024}, {'method': 'beam_lm_rescore', 'beam_width': 3, 'alpha': np.float64(1.0), 'beta': np.float64(2.0), 'lm_model': '4-gram.arpa', 't': 4.721983560000808, 'transcript': 'IF YOU ARE GENEROUS HERE IS A FITTING OPPORTUNITY FOR THE EXERCISE OF YOUR MAGNANIMITY IF YOU ARE PROUD HERE AM I YOUR RIVAL RETER TO ACKNOWLEDGE MYSELF YOUR DEPTOR FOR AN ACT OF MOST NOBLE FORBEARANCE', 'levenshtein': 0.03902439024390244}]\n"
     ]
    },
    {
     "name": "stderr",
     "output_type": "stream",
     "text": [
      "\r  0%|          | 13/11744 [03:34<35:13:39, 10.81s/it]"
     ]
    },
    {
     "name": "stdout",
     "output_type": "stream",
     "text": [
      "[{'method': 'beam_lm', 'beam_width': 3, 'alpha': np.float64(1.3), 'beta': np.float64(2.7), 'lm_model': '4-gram.arpa', 't': 6.243335874001787, 'transcript': 'IF YOU ARE GENEROUS HERE IS A FITTING OPPORTUNITY FOR THE EXERCISE OF YOUR MAGNANIMITY IF YOU ARE PROUD HERE AM I YOUR RIVAL RETER TO CKNOWLEDGE MYSELF YOUR DEPTOR FOR AN ACT OF MOST NOBLE FORBEARANCE', 'levenshtein': 0.04390243902439024}, {'method': 'beam_lm_rescore', 'beam_width': 3, 'alpha': np.float64(1.3), 'beta': np.float64(2.7), 'lm_model': '4-gram.arpa', 't': 4.726361402998009, 'transcript': 'IF YOU ARE GENEROUS HERE IS A FITTING OPPORTUNITY FOR THE EXERCISE OF YOUR MAGNANIMITY IF YOU ARE PROUD HERE AM I YOUR RIVAL RETER TO ACKNOWLEDGE MYSELF YOUR DEPTOR FOR AN ACT OF MOST NOBLE FORBEARANCE', 'levenshtein': 0.03902439024390244}]\n"
     ]
    },
    {
     "name": "stderr",
     "output_type": "stream",
     "text": [
      "\r  0%|          | 15/11744 [03:45<29:52:42,  9.17s/it]"
     ]
    },
    {
     "name": "stdout",
     "output_type": "stream",
     "text": [
      "[{'method': 'beam_lm', 'beam_width': 3, 'alpha': np.float64(1.6), 'beta': np.float64(3.4), 'lm_model': '4-gram.arpa', 't': 6.256669280999631, 'transcript': 'IF YOU ARE GENEROUS HERE IS A FITTING OPPORTUNITY FOR THE EXERCISE OF YOUR MAGNANIMITY IF YOU ARE PROUD HERE AM I YOUR RIVAL RETER TO CKNOWLEDGE MYSELF YOUR DEPTOR FOR AN ACT OF MOST NOBLE FORBEARANCE', 'levenshtein': 0.04390243902439024}, {'method': 'beam_lm_rescore', 'beam_width': 3, 'alpha': np.float64(1.6), 'beta': np.float64(3.4), 'lm_model': '4-gram.arpa', 't': 4.771244810999633, 'transcript': 'IF YOU ARE GENEROUS HERE IS A FITTING OPPORTUNITY FOR THE EXERCISE OF YOUR MAGNANIMITY IF YOU ARE PROUD HERE AM I YOUR RIVAL RETER TO ACKNOWLEDGE MYSELF YOUR DEPTOR FOR AN ACT OF MOST NOBLE FORBEARANCE', 'levenshtein': 0.03902439024390244}]\n"
     ]
    },
    {
     "name": "stderr",
     "output_type": "stream",
     "text": [
      "\r  0%|          | 17/11744 [03:56<26:03:45,  8.00s/it]"
     ]
    },
    {
     "name": "stdout",
     "output_type": "stream",
     "text": [
      "[{'method': 'beam_lm', 'beam_width': 3, 'alpha': np.float64(1.1), 'beta': np.float64(0.9), 'lm_model': '4-gram.arpa', 't': 5.748098172000027, 'transcript': 'IF YOU ARE GENEROUS HERE IS A FITTING OPPORTUNITY FOR THE EXERCISE OF YOUR MAGNANIMITY IF YOU ARE PROUD HERE AM I YOUR RIVAL RETE TO CKNOWLEDGE MYSELF YOUR DEPTOR FOR AN ACT OF MOST NOBLE FORBEARANCE', 'levenshtein': 0.04390243902439024}, {'method': 'beam_lm_rescore', 'beam_width': 3, 'alpha': np.float64(1.1), 'beta': np.float64(0.9), 'lm_model': '4-gram.arpa', 't': 4.963669361000939, 'transcript': 'IF YOU ARE GENEROUS HERE IS A FITTING OPPORTUNITY FOR THE EXERCISE OF YOUR MAGNANIMITY IF YOU ARE PROUD HERE AM I YOUR RIVAL RETER TO ACKNOWLEDGE MYSELF YOUR DEPTOR FOR AN ACT OF MOST NOBLE FORBEARANCE', 'levenshtein': 0.03902439024390244}]\n"
     ]
    },
    {
     "name": "stderr",
     "output_type": "stream",
     "text": [
      "\r  0%|          | 19/11744 [04:07<23:32:12,  7.23s/it]"
     ]
    },
    {
     "name": "stdout",
     "output_type": "stream",
     "text": [
      "[{'method': 'beam_lm', 'beam_width': 3, 'alpha': np.float64(1.6), 'beta': np.float64(1.4), 'lm_model': '4-gram.arpa', 't': 5.10224330499841, 'transcript': 'IF YOU ARE GENEROUS HERE IS A FITTING OPPORTUNITY FOR THE EXERCISE OF YOUR MAGNANIMITY IF YOU ARE PROUD HERE AM I YOUR RIVAL RETE O KNOWLEDGE MYSELF YOUR DEPTOR FOR AN ACT OF MOST NOBLE FORBEARANCE', 'levenshtein': 0.05365853658536585}, {'method': 'beam_lm_rescore', 'beam_width': 3, 'alpha': np.float64(1.6), 'beta': np.float64(1.4), 'lm_model': '4-gram.arpa', 't': 5.815839079001307, 'transcript': 'IF YOU ARE GENEROUS HERE IS A FITTING OPPORTUNITY FOR THE EXERCISE OF YOUR MAGNANIMITY IF YOU ARE PROUD HERE AM I YOUR RIVAL RETER TO ACKNOWLEDGE MYSELF YOUR DEPTOR FOR AN ACT OF MOST NOBLE FORBEARANCE', 'levenshtein': 0.03902439024390244}]\n"
     ]
    },
    {
     "name": "stderr",
     "output_type": "stream",
     "text": [
      "\r  0%|          | 21/11744 [04:18<21:47:15,  6.69s/it]"
     ]
    },
    {
     "name": "stdout",
     "output_type": "stream",
     "text": [
      "[{'method': 'beam_lm', 'beam_width': 3, 'alpha': np.float64(2.2), 'beta': np.float64(1.8), 'lm_model': '4-gram.arpa', 't': 5.122574447999796, 'transcript': 'IF YOU ARE GENEROUS HERE IS A FITTING OPPORTUNITY FOR THE EXERCISE OF YOUR MAGANIMITY IF YOU ARE PROUD HERE AM I YOU RIVAL RET  KNOWLEDG MYSELF YOUR DEPTOR FOR AN ACT OF MOST NOBLE FORBEARANCE', 'levenshtein': 0.07317073170731707}, {'method': 'beam_lm_rescore', 'beam_width': 3, 'alpha': np.float64(2.2), 'beta': np.float64(1.8), 'lm_model': '4-gram.arpa', 't': 5.79449888399904, 'transcript': 'IF YOU ARE GENEROUS HERE IS A FITTING OPPORTUNITY FOR THE EXERCISE OF YOUR MAGNANIMITY IF YOU ARE PROUD HERE AM I YOUR RIVAL RETER TO ACKNOWLEDGE MYSELF YOUR DEPTOR FOR AN ACT OF MOST NOBLE FORBEARANCE', 'levenshtein': 0.03902439024390244}]\n"
     ]
    },
    {
     "name": "stderr",
     "output_type": "stream",
     "text": [
      "\r  0%|          | 23/11744 [04:28<20:04:39,  6.17s/it]"
     ]
    },
    {
     "name": "stdout",
     "output_type": "stream",
     "text": [
      "[{'method': 'beam_lm', 'beam_width': 3, 'alpha': np.float64(2.8), 'beta': np.float64(2.2), 'lm_model': '4-gram.arpa', 't': 5.099968244998308, 'transcript': 'IF YOU ARE GENEROUS HERE IS A FITTING OPPORTUNITY FOR THE EXERCISE OF YOUR MGANIMITY IF YOU ARE PROUD HERE AM I O RIVAL RET  KNOWLEDG MYSELF YOU EPTOR FOR A ACT OF MOST NOBLE FORBEARANCE', 'levenshtein': 0.1024390243902439}, {'method': 'beam_lm_rescore', 'beam_width': 3, 'alpha': np.float64(2.8), 'beta': np.float64(2.2), 'lm_model': '4-gram.arpa', 't': 4.810227185000258, 'transcript': 'IF YOU ARE GENEROUS HERE IS A FITTING OPPORTUNITY FOR THE EXERCISE OF YOUR MAGNANIMITY IF YOU ARE PROUD HERE AM I YOUR RIVAL RETER TO ACKNOWLEDGE MYSELF YOUR DEPTOR FOR AN ACT OF MOST NOBLE FORBEARANCE', 'levenshtein': 0.03902439024390244}]\n"
     ]
    },
    {
     "name": "stderr",
     "output_type": "stream",
     "text": [
      "\r  0%|          | 25/11744 [04:39<19:18:27,  5.93s/it]"
     ]
    },
    {
     "name": "stdout",
     "output_type": "stream",
     "text": [
      "[{'method': 'beam_lm', 'beam_width': 3, 'alpha': np.float64(1.6), 'beta': np.float64(0.4), 'lm_model': '4-gram.arpa', 't': 6.0691728009987855, 'transcript': 'IF YOU ARE GENEROUS HERE IS A FITTING OPPORTUNITY FOR THE EXERCISE OF YOUR MAGANIMITY IF YOU ARE PROUD HERE AM I YOU RIVAL RET  KNOWLEDG MYSELF YOUR DEPTOR FOR AN ACT OF MOST NOBLE FORBEARANCE', 'levenshtein': 0.07317073170731707}, {'method': 'beam_lm_rescore', 'beam_width': 3, 'alpha': np.float64(1.6), 'beta': np.float64(0.4), 'lm_model': '4-gram.arpa', 't': 4.6951851379999425, 'transcript': 'IF YOU ARE GENEROUS HERE IS A FITTING OPPORTUNITY FOR THE EXERCISE OF YOUR MAGNANIMITY IF YOU ARE PROUD HERE AM I YOUR RIVAL RETER TO ACKNOWLEDGE MYSELF YOUR DEPTOR FOR AN ACT OF MOST NOBLE FORBEARANCE', 'levenshtein': 0.03902439024390244}]\n"
     ]
    },
    {
     "name": "stderr",
     "output_type": "stream",
     "text": [
      "\r  0%|          | 27/11744 [04:50<18:51:40,  5.80s/it]"
     ]
    },
    {
     "name": "stdout",
     "output_type": "stream",
     "text": [
      "[{'method': 'beam_lm', 'beam_width': 3, 'alpha': np.float64(2.3), 'beta': np.float64(0.7), 'lm_model': '4-gram.arpa', 't': 6.252894322999055, 'transcript': 'IF YOU ARE GENEROUS HERE IS A FITTING OPPORTUNITY FOR THE EXERCISE OF YOUR MGANIMITY IF YOU ARE PROUD HERE AM I O RIVAL RET  NOWLEDG MYSELF YO EPOR FOR A ACT OF MOST NOBLE FORBEARANE', 'levenshtein': 0.12195121951219512}, {'method': 'beam_lm_rescore', 'beam_width': 3, 'alpha': np.float64(2.3), 'beta': np.float64(0.7), 'lm_model': '4-gram.arpa', 't': 4.7043322780009476, 'transcript': 'IF YOU ARE GENEROUS HERE IS A FITTING OPPORTUNITY FOR THE EXERCISE OF YOUR MAGNANIMITY IF YOU ARE PROUD HERE AM I YOUR RIVAL RETER TO ACKNOWLEDGE MYSELF YOUR DEPTOR FOR AN ACT OF MOST NOBLE FORBEARANCE', 'levenshtein': 0.03902439024390244}]\n"
     ]
    },
    {
     "name": "stderr",
     "output_type": "stream",
     "text": [
      "\r  0%|          | 29/11744 [05:01<18:30:53,  5.69s/it]"
     ]
    },
    {
     "name": "stdout",
     "output_type": "stream",
     "text": [
      "[{'method': 'beam_lm', 'beam_width': 3, 'alpha': np.float64(3.1), 'beta': np.float64(0.9), 'lm_model': '4-gram.arpa', 't': 6.077698748002149, 'transcript': 'IF YOU ARE GENEROUS HER IS FITIN OPPORTUNITY FOR THE EXERCISE OF OR AIMY IF YOU ARE PROUD HEE AM I O IVAL ET  NO MYSELF YO ER FOR ACT OF MOST NOBLE FORBEARANE', 'levenshtein': 0.23414634146341465}, {'method': 'beam_lm_rescore', 'beam_width': 3, 'alpha': np.float64(3.1), 'beta': np.float64(0.9), 'lm_model': '4-gram.arpa', 't': 4.809657072000846, 'transcript': 'IF YOU ARE GENEROUS HERE IS A FITTING OPPORTUNITY FOR THE EXERCISE OF YOUR MAGNANIMITY IF YOU ARE PROUD HERE AM I YOUR RIVAL RETER TO ACKNOWLEDGE MYSELF YOUR DEPTOR FOR AN ACT OF MOST NOBLE FORBEARANCE', 'levenshtein': 0.03902439024390244}]\n"
     ]
    },
    {
     "name": "stderr",
     "output_type": "stream",
     "text": [
      "\r  0%|          | 31/11744 [05:12<18:19:41,  5.63s/it]"
     ]
    },
    {
     "name": "stdout",
     "output_type": "stream",
     "text": [
      "[{'method': 'beam_lm', 'beam_width': 3, 'alpha': np.float64(3.9), 'beta': np.float64(1.1), 'lm_model': '4-gram.arpa', 't': 5.161175915000058, 'transcript': 'IF YU AR GENEOS HE IS FI IN OPPORTUNITY FOR THE EXEIE OF  M IF YOU RE PROUD HE AM I  IVAL    NO MYSELF    OR ACT OF MOST NOBLE FRBERAN', 'levenshtein': 0.36097560975609755}, {'method': 'beam_lm_rescore', 'beam_width': 3, 'alpha': np.float64(3.9), 'beta': np.float64(1.1), 'lm_model': '4-gram.arpa', 't': 5.841240166002535, 'transcript': 'IF YOU ARE GENEROUS HERE IS A FITTING OPPORTUNITY FOR THE EXERCISE OF YOUR MAGNANIMITY IF YOU ARE PROUD HERE AM I YOUR RIVAL RETER TO ACKNOWLEDGE MYSELF YOUR DEPTOR FOR AN ACT OF MOST NOBLE FORBEARANCE', 'levenshtein': 0.03902439024390244}]\n"
     ]
    },
    {
     "name": "stderr",
     "output_type": "stream",
     "text": [
      "\r  0%|          | 33/11744 [05:23<18:10:11,  5.59s/it]"
     ]
    },
    {
     "name": "stdout",
     "output_type": "stream",
     "text": [
      "[{'method': 'beam_lm', 'beam_width': 3, 'alpha': np.float64(2.0), 'beta': np.float64(0.0), 'lm_model': '4-gram.arpa', 't': 5.124639107998519, 'transcript': 'IF YOU ARE GENEROUS HERE IS A FITTING OPPORTUNITY FOR THE EXERCISE OF YOUR MGANIMITY IF YOU ARE PROUD HERE AM I O RIVAL RET  NOWLEDG MYSELF YO EPOR FOR A ACT OF MOST NOBLE FORBEARANE', 'levenshtein': 0.12195121951219512}, {'method': 'beam_lm_rescore', 'beam_width': 3, 'alpha': np.float64(2.0), 'beta': np.float64(0.0), 'lm_model': '4-gram.arpa', 't': 5.822573385001306, 'transcript': 'IF YOU ARE GENEROUS HERE IS A FITTING OPPORTUNITY FOR THE EXERCISE OF YOUR MAGNANIMITY IF YOU ARE PROUD HERE AM I YOUR RIVAL RETER TO ACKNOWLEDGE MYSELF YOUR DEPTOR FOR AN ACT OF MOST NOBLE FORBEARANCE', 'levenshtein': 0.03902439024390244}]\n"
     ]
    },
    {
     "name": "stderr",
     "output_type": "stream",
     "text": [
      "\r  0%|          | 35/11744 [05:33<17:49:57,  5.48s/it]"
     ]
    },
    {
     "name": "stdout",
     "output_type": "stream",
     "text": [
      "[{'method': 'beam_lm', 'beam_width': 3, 'alpha': np.float64(3.0), 'beta': np.float64(0.0), 'lm_model': '4-gram.arpa', 't': 5.1427272359978815, 'transcript': 'IF YOU AR GENEROS HER IS FI IN OPPORTUNITY FOR THE EXECISE OF O AMY IF YOU ARE PROUD HE AM I  IVAL    NO MYSELF YO E FOR ACT OF MOST NOBLE FRBEARAN', 'levenshtein': 0.2926829268292683}, {'method': 'beam_lm_rescore', 'beam_width': 3, 'alpha': np.float64(3.0), 'beta': np.float64(0.0), 'lm_model': '4-gram.arpa', 't': 5.342914569999266, 'transcript': 'IF YOU ARE GENEROUS HERE IS A FITTING OPPORTUNITY FOR THE EXERCISE OF YOUR MAGNANIMITY IF YOU ARE PROUD HERE AM I YOUR RIVAL RETER TO ACKNOWLEDGE MYSELF YOUR DEPTOR FOR AN ACT OF MOST NOBLE FORBEARANCE', 'levenshtein': 0.03902439024390244}]\n"
     ]
    },
    {
     "name": "stderr",
     "output_type": "stream",
     "text": [
      "\r  0%|          | 37/11744 [05:43<17:29:22,  5.38s/it]"
     ]
    },
    {
     "name": "stdout",
     "output_type": "stream",
     "text": [
      "[{'method': 'beam_lm', 'beam_width': 3, 'alpha': np.float64(4.0), 'beta': np.float64(0.0), 'lm_model': '4-gram.arpa', 't': 5.541168550000293, 'transcript': 'IF Y R GENES E I F IN PORTNIY OR H EXI    IF Y R PROUD E AM I  IAL     MYSELF    O AT O MOST NOBLE FBRAN', 'levenshtein': 0.5073170731707317}, {'method': 'beam_lm_rescore', 'beam_width': 3, 'alpha': np.float64(4.0), 'beta': np.float64(0.0), 'lm_model': '4-gram.arpa', 't': 4.726127300000371, 'transcript': 'IF YOU ARE GENEROUS HERE IS A FITTING OPPORTUNITY FOR THE EXERCISE OF YOUR MAGNANIMITY IF YOU ARE PROUD HERE AM I YOUR RIVAL RETER TO ACKNOWLEDGE MYSELF YOUR DEPTOR FOR AN ACT OF MOST NOBLE FORBEARANCE', 'levenshtein': 0.03902439024390244}]\n"
     ]
    },
    {
     "name": "stderr",
     "output_type": "stream",
     "text": [
      "\r  0%|          | 39/11744 [05:54<17:36:12,  5.41s/it]"
     ]
    },
    {
     "name": "stdout",
     "output_type": "stream",
     "text": [
      "[{'method': 'beam_lm', 'beam_width': 3, 'alpha': np.float64(5.0), 'beta': np.float64(0.0), 'lm_model': '4-gram.arpa', 't': 6.271282574001816, 'transcript': 'G      PRNY   X    F             SEL     AT  OS OB FBR', 'levenshtein': 0.7463414634146341}, {'method': 'beam_lm_rescore', 'beam_width': 3, 'alpha': np.float64(5.0), 'beta': np.float64(0.0), 'lm_model': '4-gram.arpa', 't': 4.723537460002262, 'transcript': 'IF YOU ARE GENEROUS HERE IS A FITTING OPPORTUNITY FOR THE EXERCISE OF YOUR MAGNANIMITY IF YOU ARE PROUD HERE AM I YOUR RIVAL RETER TO ACKNOWLEDGE MYSELF YOUR DEPTOR FOR AN ACT OF MOST NOBLE FORBEARANCE', 'levenshtein': 0.03902439024390244}]\n"
     ]
    },
    {
     "name": "stderr",
     "output_type": "stream",
     "text": [
      "\r  0%|          | 42/11744 [06:13<18:43:54,  5.76s/it]"
     ]
    },
    {
     "name": "stdout",
     "output_type": "stream",
     "text": [
      "[{'method': 'beam', 'beam_width': 5, 'alpha': np.float64(5.0), 'beta': np.float64(0.0), 'lm_model': '4-gram.arpa', 't': 6.84252663299776, 'transcript': 'IF YOU ARE GENEROUS HERE IS A FITTING OPPORTUNITY FOR THE EXERCISE OF YOUR MAGNANIMITY IF YOU ARE PROUD HERE AM I YOUR RIVAL RETER TO ACKNOWLEDGE MYSELF YOUR DEPTOR FOR AN ACT OF MOST NOBLE FORBEARANCE', 'levenshtein': 0.03902439024390244}, {'method': 'beam_lm', 'beam_width': 5, 'alpha': np.float64(5.0), 'beta': np.float64(0.0), 'lm_model': '4-gram.arpa', 't': 5.868420179001987, 'transcript': 'G      PRNY   X    F             SEL     AT  OS OB FBR', 'levenshtein': 0.7463414634146341}, {'method': 'beam_lm_rescore', 'beam_width': 5, 'alpha': np.float64(5.0), 'beta': np.float64(0.0), 'lm_model': '4-gram.arpa', 't': 6.200988062999386, 'transcript': 'IF YOU ARE GENEROUS HERE IS A FITTING OPPORTUNITY FOR THE EXERCISE OF YOUR MAGNANIMITY IF YOU ARE PROUD HERE AM I YOUR RIVAL RETER TO ACKNOWLEDGE MYSELF YOUR DEPTOR FOR AN ACT OF MOST NOBLE FORBEARANCE', 'levenshtein': 0.03902439024390244}]\n"
     ]
    },
    {
     "name": "stderr",
     "output_type": "stream",
     "text": [
      "\r  0%|          | 44/11744 [06:25<18:51:37,  5.80s/it]"
     ]
    },
    {
     "name": "stdout",
     "output_type": "stream",
     "text": [
      "[{'method': 'beam_lm', 'beam_width': 5, 'alpha': np.float64(0.6), 'beta': np.float64(1.4), 'lm_model': '4-gram.arpa', 't': 5.816548544000398, 'transcript': 'IF YOU ARE GENEROUS HERE IS A FITTING OPPORTUNITY FOR THE EXERCISE OF YOUR MAGNANIMITY IF YOU ARE PROUD HERE AM I YOUR RIVAL RETER TO ACKNOWLEDGE MYSELF YOUR DEPTOR FOR AN ACT OF MOST NOBLE FORBEARANCE', 'levenshtein': 0.03902439024390244}, {'method': 'beam_lm_rescore', 'beam_width': 5, 'alpha': np.float64(0.6), 'beta': np.float64(1.4), 'lm_model': '4-gram.arpa', 't': 6.006188594001287, 'transcript': 'IF YOU ARE GENEROUS HERE IS A FITTING OPPORTUNITY FOR THE EXERCISE OF YOUR MAGNANIMITY IF YOU ARE PROUD HERE AM I YOUR RIVAL RETER TO ACKNOWLEDGE MYSELF YOUR DEPTOR FOR AN ACT OF MOST NOBLE FORBEARANCE', 'levenshtein': 0.03902439024390244}]\n"
     ]
    },
    {
     "name": "stderr",
     "output_type": "stream",
     "text": [
      "\r  0%|          | 46/11744 [06:37<18:48:50,  5.79s/it]"
     ]
    },
    {
     "name": "stdout",
     "output_type": "stream",
     "text": [
      "[{'method': 'beam_lm', 'beam_width': 5, 'alpha': np.float64(1.0), 'beta': np.float64(2.0), 'lm_model': '4-gram.arpa', 't': 5.959910092999053, 'transcript': 'IF YOU ARE GENEROUS HERE IS A FITTING OPPORTUNITY FOR THE EXERCISE OF YOUR MAGNANIMITY IF YOU ARE PROUD HERE AM I YOUR RIVAL RETER TO CKNOWLEDGE MYSELF YOUR DEPTOR FOR AN ACT OF MOST NOBLE FORBEARANCE', 'levenshtein': 0.04390243902439024}, {'method': 'beam_lm_rescore', 'beam_width': 5, 'alpha': np.float64(1.0), 'beta': np.float64(2.0), 'lm_model': '4-gram.arpa', 't': 5.546454428000288, 'transcript': 'IF YOU ARE GENEROUS HERE IS A FITTING OPPORTUNITY FOR THE EXERCISE OF YOUR MAGNANIMITY IF YOU ARE PROUD HERE AM I YOUR RIVAL RETER TO ACKNOWLEDGE MYSELF YOUR DEPTOR FOR AN ACT OF MOST NOBLE FORBEARANCE', 'levenshtein': 0.03902439024390244}]\n"
     ]
    },
    {
     "name": "stderr",
     "output_type": "stream",
     "text": [
      "\r  0%|          | 48/11744 [06:48<18:44:13,  5.77s/it]"
     ]
    },
    {
     "name": "stdout",
     "output_type": "stream",
     "text": [
      "[{'method': 'beam_lm', 'beam_width': 5, 'alpha': np.float64(1.3), 'beta': np.float64(2.7), 'lm_model': '4-gram.arpa', 't': 6.322760308998113, 'transcript': 'IF YOU ARE GENEROUS HERE IS A FITTING OPPORTUNITY FOR THE EXERCISE OF YOUR MAGNANIMITY IF YOU ARE PROUD HERE AM I YOUR RIVAL RETER TO CKNOWLEDGE MYSELF YOUR DEPTOR FOR AN ACT OF MOST NOBLE FORBEARANCE', 'levenshtein': 0.04390243902439024}, {'method': 'beam_lm_rescore', 'beam_width': 5, 'alpha': np.float64(1.3), 'beta': np.float64(2.7), 'lm_model': '4-gram.arpa', 't': 5.094452956000168, 'transcript': 'IF YOU ARE GENEROUS HERE IS A FITTING OPPORTUNITY FOR THE EXERCISE OF YOUR MAGNANIMITY IF YOU ARE PROUD HERE AM I YOUR RIVAL RETER TO ACKNOWLEDGE MYSELF YOUR DEPTOR FOR AN ACT OF MOST NOBLE FORBEARANCE', 'levenshtein': 0.03902439024390244}]\n"
     ]
    },
    {
     "name": "stderr",
     "output_type": "stream",
     "text": [
      "\r  0%|          | 50/11744 [07:00<18:58:33,  5.84s/it]"
     ]
    },
    {
     "name": "stdout",
     "output_type": "stream",
     "text": [
      "[{'method': 'beam_lm', 'beam_width': 5, 'alpha': np.float64(1.6), 'beta': np.float64(3.4), 'lm_model': '4-gram.arpa', 't': 6.976399593000679, 'transcript': 'IF YOU ARE GENEROUS HERE IS A FITTING OPPORTUNITY FOR THE EXERCISE OF YOUR MAGNANIMITY IF YOU ARE PROUD HERE AM I YOUR RIVAL RETER TO CKNOWLEDGE MYSELF YOUR DEPTOR FOR AN ACT OF MOST NOBLE FORBEARANCE', 'levenshtein': 0.04390243902439024}, {'method': 'beam_lm_rescore', 'beam_width': 5, 'alpha': np.float64(1.6), 'beta': np.float64(3.4), 'lm_model': '4-gram.arpa', 't': 5.071521665999171, 'transcript': 'IF YOU ARE GENEROUS HERE IS A FITTING OPPORTUNITY FOR THE EXERCISE OF YOUR MAGNANIMITY IF YOU ARE PROUD HERE AM I YOUR RIVAL RETER TO ACKNOWLEDGE MYSELF YOUR DEPTOR FOR AN ACT OF MOST NOBLE FORBEARANCE', 'levenshtein': 0.03902439024390244}]\n"
     ]
    },
    {
     "name": "stderr",
     "output_type": "stream",
     "text": [
      "\r  0%|          | 52/11744 [07:12<19:07:03,  5.89s/it]"
     ]
    },
    {
     "name": "stdout",
     "output_type": "stream",
     "text": [
      "[{'method': 'beam_lm', 'beam_width': 5, 'alpha': np.float64(1.1), 'beta': np.float64(0.9), 'lm_model': '4-gram.arpa', 't': 6.9285675959981745, 'transcript': 'IF YOU ARE GENEROUS HERE IS A FITTING OPPORTUNITY FOR THE EXERCISE OF YOUR MAGNANIMITY IF YOU ARE PROUD HERE AM I YOUR RIVAL RETE TO CKNOWLEDGE MYSELF YOUR DEPTOR FOR AN ACT OF MOST NOBLE FORBEARANCE', 'levenshtein': 0.04390243902439024}, {'method': 'beam_lm_rescore', 'beam_width': 5, 'alpha': np.float64(1.1), 'beta': np.float64(0.9), 'lm_model': '4-gram.arpa', 't': 5.05861184099922, 'transcript': 'IF YOU ARE GENEROUS HERE IS A FITTING OPPORTUNITY FOR THE EXERCISE OF YOUR MAGNANIMITY IF YOU ARE PROUD HERE AM I YOUR RIVAL RETER TO ACKNOWLEDGE MYSELF YOUR DEPTOR FOR AN ACT OF MOST NOBLE FORBEARANCE', 'levenshtein': 0.03902439024390244}]\n"
     ]
    },
    {
     "name": "stderr",
     "output_type": "stream",
     "text": [
      "\r  0%|          | 54/11744 [07:24<19:14:46,  5.93s/it]"
     ]
    },
    {
     "name": "stdout",
     "output_type": "stream",
     "text": [
      "[{'method': 'beam_lm', 'beam_width': 5, 'alpha': np.float64(1.6), 'beta': np.float64(1.4), 'lm_model': '4-gram.arpa', 't': 6.953317966999748, 'transcript': 'IF YOU ARE GENEROUS HERE IS A FITTING OPPORTUNITY FOR THE EXERCISE OF YOUR MAGNANIMITY IF YOU ARE PROUD HERE AM I YOUR RIVAL RETE O KNOWLEDGE MYSELF YOUR DEPTOR FOR AN ACT OF MOST NOBLE FORBEARANCE', 'levenshtein': 0.05365853658536585}, {'method': 'beam_lm_rescore', 'beam_width': 5, 'alpha': np.float64(1.6), 'beta': np.float64(1.4), 'lm_model': '4-gram.arpa', 't': 5.093225304000953, 'transcript': 'IF YOU ARE GENEROUS HERE IS A FITTING OPPORTUNITY FOR THE EXERCISE OF YOUR MAGNANIMITY IF YOU ARE PROUD HERE AM I YOUR RIVAL RETER TO ACKNOWLEDGE MYSELF YOUR DEPTOR FOR AN ACT OF MOST NOBLE FORBEARANCE', 'levenshtein': 0.03902439024390244}]\n"
     ]
    },
    {
     "name": "stderr",
     "output_type": "stream",
     "text": [
      "\r  0%|          | 56/11744 [07:36<19:23:30,  5.97s/it]"
     ]
    },
    {
     "name": "stdout",
     "output_type": "stream",
     "text": [
      "[{'method': 'beam_lm', 'beam_width': 5, 'alpha': np.float64(2.2), 'beta': np.float64(1.8), 'lm_model': '4-gram.arpa', 't': 6.948760582999967, 'transcript': 'IF YOU ARE GENEROUS HERE IS A FITTING OPPORTUNITY FOR THE EXERCISE OF YOUR MAGANIMITY IF YOU ARE PROUD HERE AM I YOU RIVAL RET  KNOWLEDG MYSELF YOUR DEPTOR FOR AN ACT OF MOST NOBLE FORBEARANCE', 'levenshtein': 0.07317073170731707}, {'method': 'beam_lm_rescore', 'beam_width': 5, 'alpha': np.float64(2.2), 'beta': np.float64(1.8), 'lm_model': '4-gram.arpa', 't': 5.21296857699781, 'transcript': 'IF YOU ARE GENEROUS HERE IS A FITTING OPPORTUNITY FOR THE EXERCISE OF YOUR MAGNANIMITY IF YOU ARE PROUD HERE AM I YOUR RIVAL RETER TO ACKNOWLEDGE MYSELF YOUR DEPTOR FOR AN ACT OF MOST NOBLE FORBEARANCE', 'levenshtein': 0.03902439024390244}]\n"
     ]
    },
    {
     "name": "stderr",
     "output_type": "stream",
     "text": [
      "\r  0%|          | 58/11744 [07:48<19:25:30,  5.98s/it]"
     ]
    },
    {
     "name": "stdout",
     "output_type": "stream",
     "text": [
      "[{'method': 'beam_lm', 'beam_width': 5, 'alpha': np.float64(2.8), 'beta': np.float64(2.2), 'lm_model': '4-gram.arpa', 't': 6.909812592999515, 'transcript': 'IF YOU ARE GENEROUS HERE IS A FITTING OPPORTUNITY FOR THE EXERCISE OF YOUR MGANIMITY IF YOU ARE PROUD HERE AM I O RIVAL RET  KNOWLEDG MYSELF YOU EPTOR FOR A ACT OF MOST NOBLE FORBEARANCE', 'levenshtein': 0.1024390243902439}, {'method': 'beam_lm_rescore', 'beam_width': 5, 'alpha': np.float64(2.8), 'beta': np.float64(2.2), 'lm_model': '4-gram.arpa', 't': 5.110794293999788, 'transcript': 'IF YOU ARE GENEROUS HERE IS A FITTING OPPORTUNITY FOR THE EXERCISE OF YOUR MAGNANIMITY IF YOU ARE PROUD HERE AM I YOUR RIVAL RETER TO ACKNOWLEDGE MYSELF YOUR DEPTOR FOR AN ACT OF MOST NOBLE FORBEARANCE', 'levenshtein': 0.03902439024390244}]\n"
     ]
    },
    {
     "name": "stderr",
     "output_type": "stream",
     "text": [
      "\r  1%|          | 60/11744 [08:00<19:23:12,  5.97s/it]"
     ]
    },
    {
     "name": "stdout",
     "output_type": "stream",
     "text": [
      "[{'method': 'beam_lm', 'beam_width': 5, 'alpha': np.float64(1.6), 'beta': np.float64(0.4), 'lm_model': '4-gram.arpa', 't': 6.759901538000122, 'transcript': 'IF YOU ARE GENEROUS HERE IS A FITTING OPPORTUNITY FOR THE EXERCISE OF YOUR MAGANIMITY IF YOU ARE PROUD HERE AM I YOU RIVAL RET  KNOWLEDG MYSELF YOUR DEPTOR FOR AN ACT OF MOST NOBLE FORBEARANCE', 'levenshtein': 0.07317073170731707}, {'method': 'beam_lm_rescore', 'beam_width': 5, 'alpha': np.float64(1.6), 'beta': np.float64(0.4), 'lm_model': '4-gram.arpa', 't': 5.134732037000504, 'transcript': 'IF YOU ARE GENEROUS HERE IS A FITTING OPPORTUNITY FOR THE EXERCISE OF YOUR MAGNANIMITY IF YOU ARE PROUD HERE AM I YOUR RIVAL RETER TO ACKNOWLEDGE MYSELF YOUR DEPTOR FOR AN ACT OF MOST NOBLE FORBEARANCE', 'levenshtein': 0.03902439024390244}]\n"
     ]
    },
    {
     "name": "stderr",
     "output_type": "stream",
     "text": [
      "\r  1%|          | 62/11744 [08:12<19:17:18,  5.94s/it]"
     ]
    },
    {
     "name": "stdout",
     "output_type": "stream",
     "text": [
      "[{'method': 'beam_lm', 'beam_width': 5, 'alpha': np.float64(2.3), 'beta': np.float64(0.7), 'lm_model': '4-gram.arpa', 't': 6.425481174999732, 'transcript': 'IF YOU ARE GENEROUS HERE IS A FITTING OPPORTUNITY FOR THE EXERCISE OF YOUR MGANIMITY IF YOU ARE PROUD HERE AM I O RIVAL RET  NOWLEDG MYSELF YO EPOR FOR A ACT OF MOST NOBLE FORBEARANE', 'levenshtein': 0.12195121951219512}, {'method': 'beam_lm_rescore', 'beam_width': 5, 'alpha': np.float64(2.3), 'beta': np.float64(0.7), 'lm_model': '4-gram.arpa', 't': 5.32367799399799, 'transcript': 'IF YOU ARE GENEROUS HERE IS A FITTING OPPORTUNITY FOR THE EXERCISE OF YOUR MAGNANIMITY IF YOU ARE PROUD HERE AM I YOUR RIVAL RETER TO ACKNOWLEDGE MYSELF YOUR DEPTOR FOR AN ACT OF MOST NOBLE FORBEARANCE', 'levenshtein': 0.03902439024390244}]\n"
     ]
    },
    {
     "name": "stderr",
     "output_type": "stream",
     "text": [
      "\r  1%|          | 64/11744 [08:24<19:21:14,  5.97s/it]"
     ]
    },
    {
     "name": "stdout",
     "output_type": "stream",
     "text": [
      "[{'method': 'beam_lm', 'beam_width': 5, 'alpha': np.float64(3.1), 'beta': np.float64(0.9), 'lm_model': '4-gram.arpa', 't': 6.024111548998917, 'transcript': 'IF YOU ARE GENEROUS HER IS FITIN OPPORTUNITY FOR THE EXERCISE OF OR AIMY IF YOU ARE PROUD HEE AM I O IVAL ET  NO MYSELF YO ER FOR ACT OF MOST NOBLE FORBEARANE', 'levenshtein': 0.23414634146341465}, {'method': 'beam_lm_rescore', 'beam_width': 5, 'alpha': np.float64(3.1), 'beta': np.float64(0.9), 'lm_model': '4-gram.arpa', 't': 6.005104419000418, 'transcript': 'IF YOU ARE GENEROUS HERE IS A FITTING OPPORTUNITY FOR THE EXERCISE OF YOUR MAGNANIMITY IF YOU ARE PROUD HERE AM I YOUR RIVAL RETER TO ACKNOWLEDGE MYSELF YOUR DEPTOR FOR AN ACT OF MOST NOBLE FORBEARANCE', 'levenshtein': 0.03902439024390244}]\n"
     ]
    },
    {
     "name": "stderr",
     "output_type": "stream",
     "text": [
      "\r  1%|          | 66/11744 [08:45<23:38:45,  7.29s/it]"
     ]
    },
    {
     "name": "stdout",
     "output_type": "stream",
     "text": [
      "[{'method': 'beam_lm', 'beam_width': 5, 'alpha': np.float64(3.9), 'beta': np.float64(1.1), 'lm_model': '4-gram.arpa', 't': 15.09503675200176, 'transcript': 'IF YU AR GENEOS HE IS FI IN OPPORTUNITY FOR THE EXEIE OF  M IF YOU RE PROUD HE AM I  IVAL    NO MYSELF    OR ACT OF MOST NOBLE FRBERAN', 'levenshtein': 0.36097560975609755}, {'method': 'beam_lm_rescore', 'beam_width': 5, 'alpha': np.float64(3.9), 'beta': np.float64(1.1), 'lm_model': '4-gram.arpa', 't': 5.679434284000308, 'transcript': 'IF YOU ARE GENEROUS HERE IS A FITTING OPPORTUNITY FOR THE EXERCISE OF YOUR MAGNANIMITY IF YOU ARE PROUD HERE AM I YOUR RIVAL RETER TO ACKNOWLEDGE MYSELF YOUR DEPTOR FOR AN ACT OF MOST NOBLE FORBEARANCE', 'levenshtein': 0.03902439024390244}]\n"
     ]
    },
    {
     "name": "stderr",
     "output_type": "stream",
     "text": [
      "\r  1%|          | 68/11744 [08:57<22:24:44,  6.91s/it]"
     ]
    },
    {
     "name": "stdout",
     "output_type": "stream",
     "text": [
      "[{'method': 'beam_lm', 'beam_width': 5, 'alpha': np.float64(2.0), 'beta': np.float64(0.0), 'lm_model': '4-gram.arpa', 't': 6.924734660999093, 'transcript': 'IF YOU ARE GENEROUS HERE IS A FITTING OPPORTUNITY FOR THE EXERCISE OF YOUR MGANIMITY IF YOU ARE PROUD HERE AM I O RIVAL RET  NOWLEDG MYSELF YO EPOR FOR A ACT OF MOST NOBLE FORBEARANE', 'levenshtein': 0.12195121951219512}, {'method': 'beam_lm_rescore', 'beam_width': 5, 'alpha': np.float64(2.0), 'beta': np.float64(0.0), 'lm_model': '4-gram.arpa', 't': 5.121994507000636, 'transcript': 'IF YOU ARE GENEROUS HERE IS A FITTING OPPORTUNITY FOR THE EXERCISE OF YOUR MAGNANIMITY IF YOU ARE PROUD HERE AM I YOUR RIVAL RETER TO ACKNOWLEDGE MYSELF YOUR DEPTOR FOR AN ACT OF MOST NOBLE FORBEARANCE', 'levenshtein': 0.03902439024390244}]\n"
     ]
    },
    {
     "name": "stderr",
     "output_type": "stream",
     "text": [
      "\r  1%|          | 70/11744 [09:09<21:33:27,  6.65s/it]"
     ]
    },
    {
     "name": "stdout",
     "output_type": "stream",
     "text": [
      "[{'method': 'beam_lm', 'beam_width': 5, 'alpha': np.float64(3.0), 'beta': np.float64(0.0), 'lm_model': '4-gram.arpa', 't': 6.962708871000359, 'transcript': 'IF YOU AR GENEROS HER IS FI IN OPPORTUNITY FOR THE EXECISE OF O AMY IF YOU ARE PROUD HE AM I  IVAL    NO MYSELF YO E FOR ACT OF MOST NOBLE FRBEARAN', 'levenshtein': 0.2926829268292683}, {'method': 'beam_lm_rescore', 'beam_width': 5, 'alpha': np.float64(3.0), 'beta': np.float64(0.0), 'lm_model': '4-gram.arpa', 't': 5.10502374600037, 'transcript': 'IF YOU ARE GENEROUS HERE IS A FITTING OPPORTUNITY FOR THE EXERCISE OF YOUR MAGNANIMITY IF YOU ARE PROUD HERE AM I YOUR RIVAL RETER TO ACKNOWLEDGE MYSELF YOUR DEPTOR FOR AN ACT OF MOST NOBLE FORBEARANCE', 'levenshtein': 0.03902439024390244}]\n"
     ]
    },
    {
     "name": "stderr",
     "output_type": "stream",
     "text": [
      "\r  1%|          | 72/11744 [09:21<20:49:38,  6.42s/it]"
     ]
    },
    {
     "name": "stdout",
     "output_type": "stream",
     "text": [
      "[{'method': 'beam_lm', 'beam_width': 5, 'alpha': np.float64(4.0), 'beta': np.float64(0.0), 'lm_model': '4-gram.arpa', 't': 6.604765439999028, 'transcript': 'IF Y R GENES E I F IN PORTNIY OR H EXI    IF Y R PROUD E AM I  IAL     MYSELF    O AT O MOST NOBLE FBRAN', 'levenshtein': 0.5073170731707317}, {'method': 'beam_lm_rescore', 'beam_width': 5, 'alpha': np.float64(4.0), 'beta': np.float64(0.0), 'lm_model': '4-gram.arpa', 't': 5.194407675000548, 'transcript': 'IF YOU ARE GENEROUS HERE IS A FITTING OPPORTUNITY FOR THE EXERCISE OF YOUR MAGNANIMITY IF YOU ARE PROUD HERE AM I YOUR RIVAL RETER TO ACKNOWLEDGE MYSELF YOUR DEPTOR FOR AN ACT OF MOST NOBLE FORBEARANCE', 'levenshtein': 0.03902439024390244}]\n"
     ]
    },
    {
     "name": "stderr",
     "output_type": "stream",
     "text": [
      "\r  1%|          | 74/11744 [09:32<20:18:49,  6.27s/it]"
     ]
    },
    {
     "name": "stdout",
     "output_type": "stream",
     "text": [
      "[{'method': 'beam_lm', 'beam_width': 5, 'alpha': np.float64(5.0), 'beta': np.float64(0.0), 'lm_model': '4-gram.arpa', 't': 6.1222027510011685, 'transcript': 'G      PRNY   X    F             SEL     AT  OS OB FBR', 'levenshtein': 0.7463414634146341}, {'method': 'beam_lm_rescore', 'beam_width': 5, 'alpha': np.float64(5.0), 'beta': np.float64(0.0), 'lm_model': '4-gram.arpa', 't': 5.674427394998929, 'transcript': 'IF YOU ARE GENEROUS HERE IS A FITTING OPPORTUNITY FOR THE EXERCISE OF YOUR MAGNANIMITY IF YOU ARE PROUD HERE AM I YOUR RIVAL RETER TO ACKNOWLEDGE MYSELF YOUR DEPTOR FOR AN ACT OF MOST NOBLE FORBEARANCE', 'levenshtein': 0.03902439024390244}]\n"
     ]
    },
    {
     "name": "stderr",
     "output_type": "stream",
     "text": [
      "\r  1%|          | 77/11744 [09:51<20:16:04,  6.25s/it]"
     ]
    },
    {
     "name": "stdout",
     "output_type": "stream",
     "text": [
      "[{'method': 'beam', 'beam_width': 7, 'alpha': np.float64(5.0), 'beta': np.float64(0.0), 'lm_model': '4-gram.arpa', 't': 5.569126397000218, 'transcript': 'IF YOU ARE GENEROUS HERE IS A FITTING OPPORTUNITY FOR THE EXERCISE OF YOUR MAGNANIMITY IF YOU ARE PROUD HERE AM I YOUR RIVAL RETER TO ACKNOWLEDGE MYSELF YOUR DEPTOR FOR AN ACT OF MOST NOBLE FORBEARANCE', 'levenshtein': 0.03902439024390244}, {'method': 'beam_lm', 'beam_width': 7, 'alpha': np.float64(5.0), 'beta': np.float64(0.0), 'lm_model': '4-gram.arpa', 't': 7.6097473179979715, 'transcript': 'G      PRNY   X    F             SEL     AT  OS OB FBR', 'levenshtein': 0.7463414634146341}, {'method': 'beam_lm_rescore', 'beam_width': 7, 'alpha': np.float64(5.0), 'beta': np.float64(0.0), 'lm_model': '4-gram.arpa', 't': 5.523070473002008, 'transcript': 'IF YOU ARE GENEROUS HERE IS A FITTING OPPORTUNITY FOR THE EXERCISE OF YOUR MAGNANIMITY IF YOU ARE PROUD HERE AM I YOUR RIVAL RETER TO ACKNOWLEDGE MYSELF YOUR DEPTOR FOR AN ACT OF MOST NOBLE FORBEARANCE', 'levenshtein': 0.03902439024390244}]\n"
     ]
    },
    {
     "name": "stderr",
     "output_type": "stream",
     "text": [
      "\r  1%|          | 79/11744 [10:04<20:34:33,  6.35s/it]"
     ]
    },
    {
     "name": "stdout",
     "output_type": "stream",
     "text": [
      "[{'method': 'beam_lm', 'beam_width': 7, 'alpha': np.float64(0.6), 'beta': np.float64(1.4), 'lm_model': '4-gram.arpa', 't': 7.576668609999615, 'transcript': 'IF YOU ARE GENEROUS HERE IS A FITTING OPPORTUNITY FOR THE EXERCISE OF YOUR MAGNANIMITY IF YOU ARE PROUD HERE AM I YOUR RIVAL RETER TO ACKNOWLEDGE MYSELF YOUR DEPTOR FOR AN ACT OF MOST NOBLE FORBEARANCE', 'levenshtein': 0.03902439024390244}, {'method': 'beam_lm_rescore', 'beam_width': 7, 'alpha': np.float64(0.6), 'beta': np.float64(1.4), 'lm_model': '4-gram.arpa', 't': 5.638197109001339, 'transcript': 'IF YOU ARE GENEROUS HERE IS A FITTING OPPORTUNITY FOR THE EXERCISE OF YOUR MAGNANIMITY IF YOU ARE PROUD HERE AM I YOUR RIVAL RETER TO ACKNOWLEDGE MYSELF YOUR DEPTOR FOR AN ACT OF MOST NOBLE FORBEARANCE', 'levenshtein': 0.03902439024390244}]\n"
     ]
    },
    {
     "name": "stderr",
     "output_type": "stream",
     "text": [
      "\r  1%|          | 81/11744 [10:17<20:43:48,  6.40s/it]"
     ]
    },
    {
     "name": "stdout",
     "output_type": "stream",
     "text": [
      "[{'method': 'beam_lm', 'beam_width': 7, 'alpha': np.float64(1.0), 'beta': np.float64(2.0), 'lm_model': '4-gram.arpa', 't': 7.2889281819989264, 'transcript': 'IF YOU ARE GENEROUS HERE IS A FITTING OPPORTUNITY FOR THE EXERCISE OF YOUR MAGNANIMITY IF YOU ARE PROUD HERE AM I YOUR RIVAL RETER TO CKNOWLEDGE MYSELF YOUR DEPTOR FOR AN ACT OF MOST NOBLE FORBEARANCE', 'levenshtein': 0.04390243902439024}, {'method': 'beam_lm_rescore', 'beam_width': 7, 'alpha': np.float64(1.0), 'beta': np.float64(2.0), 'lm_model': '4-gram.arpa', 't': 5.7551657169969985, 'transcript': 'IF YOU ARE GENEROUS HERE IS A FITTING OPPORTUNITY FOR THE EXERCISE OF YOUR MAGNANIMITY IF YOU ARE PROUD HERE AM I YOUR RIVAL RETER TO ACKNOWLEDGE MYSELF YOUR DEPTOR FOR AN ACT OF MOST NOBLE FORBEARANCE', 'levenshtein': 0.03902439024390244}]\n"
     ]
    },
    {
     "name": "stderr",
     "output_type": "stream",
     "text": [
      "\r  1%|          | 83/11744 [10:30<20:48:33,  6.42s/it]"
     ]
    },
    {
     "name": "stdout",
     "output_type": "stream",
     "text": [
      "[{'method': 'beam_lm', 'beam_width': 7, 'alpha': np.float64(1.3), 'beta': np.float64(2.7), 'lm_model': '4-gram.arpa', 't': 7.1792875950013695, 'transcript': 'IF YOU ARE GENEROUS HERE IS A FITTING OPPORTUNITY FOR THE EXERCISE OF YOUR MAGNANIMITY IF YOU ARE PROUD HERE AM I YOUR RIVAL RETER TO CKNOWLEDGE MYSELF YOUR DEPTOR FOR AN ACT OF MOST NOBLE FORBEARANCE', 'levenshtein': 0.04390243902439024}, {'method': 'beam_lm_rescore', 'beam_width': 7, 'alpha': np.float64(1.3), 'beta': np.float64(2.7), 'lm_model': '4-gram.arpa', 't': 5.793245403001492, 'transcript': 'IF YOU ARE GENEROUS HERE IS A FITTING OPPORTUNITY FOR THE EXERCISE OF YOUR MAGNANIMITY IF YOU ARE PROUD HERE AM I YOUR RIVAL RETER TO ACKNOWLEDGE MYSELF YOUR DEPTOR FOR AN ACT OF MOST NOBLE FORBEARANCE', 'levenshtein': 0.03902439024390244}]\n"
     ]
    },
    {
     "name": "stderr",
     "output_type": "stream",
     "text": [
      "\r  1%|          | 85/11744 [10:44<20:59:06,  6.48s/it]"
     ]
    },
    {
     "name": "stdout",
     "output_type": "stream",
     "text": [
      "[{'method': 'beam_lm', 'beam_width': 7, 'alpha': np.float64(1.6), 'beta': np.float64(3.4), 'lm_model': '4-gram.arpa', 't': 7.074567448999005, 'transcript': 'IF YOU ARE GENEROUS HERE IS A FITTING OPPORTUNITY FOR THE EXERCISE OF YOUR MAGNANIMITY IF YOU ARE PROUD HERE AM I YOUR RIVAL RETER TO CKNOWLEDGE MYSELF YOUR DEPTOR FOR AN ACT OF MOST NOBLE FORBEARANCE', 'levenshtein': 0.04390243902439024}, {'method': 'beam_lm_rescore', 'beam_width': 7, 'alpha': np.float64(1.6), 'beta': np.float64(3.4), 'lm_model': '4-gram.arpa', 't': 6.151381325998955, 'transcript': 'IF YOU ARE GENEROUS HERE IS A FITTING OPPORTUNITY FOR THE EXERCISE OF YOUR MAGNANIMITY IF YOU ARE PROUD HERE AM I YOUR RIVAL RETER TO ACKNOWLEDGE MYSELF YOUR DEPTOR FOR AN ACT OF MOST NOBLE FORBEARANCE', 'levenshtein': 0.03902439024390244}]\n"
     ]
    },
    {
     "name": "stderr",
     "output_type": "stream",
     "text": [
      "\r  1%|          | 87/11744 [10:57<21:04:27,  6.51s/it]"
     ]
    },
    {
     "name": "stdout",
     "output_type": "stream",
     "text": [
      "[{'method': 'beam_lm', 'beam_width': 7, 'alpha': np.float64(1.1), 'beta': np.float64(0.9), 'lm_model': '4-gram.arpa', 't': 6.885525534999033, 'transcript': 'IF YOU ARE GENEROUS HERE IS A FITTING OPPORTUNITY FOR THE EXERCISE OF YOUR MAGNANIMITY IF YOU ARE PROUD HERE AM I YOUR RIVAL RETE TO CKNOWLEDGE MYSELF YOUR DEPTOR FOR AN ACT OF MOST NOBLE FORBEARANCE', 'levenshtein': 0.04390243902439024}, {'method': 'beam_lm_rescore', 'beam_width': 7, 'alpha': np.float64(1.1), 'beta': np.float64(0.9), 'lm_model': '4-gram.arpa', 't': 6.2678978980002285, 'transcript': 'IF YOU ARE GENEROUS HERE IS A FITTING OPPORTUNITY FOR THE EXERCISE OF YOUR MAGNANIMITY IF YOU ARE PROUD HERE AM I YOUR RIVAL RETER TO ACKNOWLEDGE MYSELF YOUR DEPTOR FOR AN ACT OF MOST NOBLE FORBEARANCE', 'levenshtein': 0.03902439024390244}]\n"
     ]
    }
   ],
   "source": [
    "score_records = []\n",
    "pbar = tqdm(total=\n",
    "            len(model_paths) * len(test_samples) + \\\n",
    "            len(model_paths) * len(test_samples) * (len(beam_width_grid) + 1) + \\\n",
    "            len(model_paths) * len(test_samples) * (len(beam_width_grid) + 1) * (len(ratio_grid) + 1) * len(scale_grid) * 2\n",
    "            )\n",
    "for model_path in model_paths:\n",
    "    decoder = Wav2Vec2Decoder(lm_model_path=str(model_path), beam_width=1, alpha=0.1, beta=0.9)\n",
    "    for audio_path, target in test_samples:\n",
    "        audio_input, sr = torchaudio.load(audio_path)\n",
    "\n",
    "        score_records.extend(score(decoder, audio_input, target, [\"greedy\", \"beam\", \"beam_lm\", \"beam_lm_rescore\"], model_path.stem))\n",
    "        pbar.update(4)\n",
    "        for beam_width in beam_width_grid[1:]:\n",
    "            decoder.beam_width = int(beam_width)\n",
    "            score_records.extend(score(decoder, audio_input, target, ['beam', \"beam_lm\", \"beam_lm_rescore\"], model_path.stem))\n",
    "            pbar.update(3)\n",
    "            for ratio in ratio_grid[1:]:\n",
    "                for scale in scale_grid[1:]:\n",
    "                    decoder.alpha = round(ratio * scale, 1)\n",
    "                    decoder.beta = round(scale - decoder.alpha, 1)\n",
    "                    score_records.extend(score(decoder, audio_input, target, [\"beam_lm\", \"beam_lm_rescore\"], model_path.stem))\n",
    "                    pbar.update(2)\n"
   ]
  },
  {
   "cell_type": "code",
   "execution_count": null,
   "metadata": {
    "id": "a1Udc9-X__kK"
   },
   "outputs": [],
   "source": [
    "[test(decoder, audio_path, target) for audio_path, target in test_samples]"
   ]
  },
  {
   "cell_type": "code",
   "execution_count": null,
   "metadata": {
    "id": "69-8bgp_nO8n"
   },
   "outputs": [],
   "source": [
    "scores_df = pd.DataFrame.from_records([test(decoder, audio_path, target) for audio_path, target in test_samples])\n",
    "scores_df"
   ]
  }
 ],
 "metadata": {
  "colab": {
   "provenance": []
  },
  "kernelspec": {
   "display_name": "Python 3",
   "name": "python3"
  },
  "language_info": {
   "name": "python"
  }
 },
 "nbformat": 4,
 "nbformat_minor": 0
}
