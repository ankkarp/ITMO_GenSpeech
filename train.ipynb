{
  "cells": [
    {
      "cell_type": "code",
      "execution_count": 1,
      "metadata": {
        "id": "Mh5wI7myY_7V"
      },
      "outputs": [
        {
          "name": "stderr",
          "output_type": "stream",
          "text": [
            "/home/akarpova/ITMO/ITMO_GenSpeech/.venv/lib/python3.13/site-packages/tqdm/auto.py:21: TqdmWarning: IProgress not found. Please update jupyter and ipywidgets. See https://ipywidgets.readthedocs.io/en/stable/user_install.html\n",
            "  from .autonotebook import tqdm as notebook_tqdm\n"
          ]
        }
      ],
      "source": [
        "import os\n",
        "import time\n",
        "import shutil\n",
        "import traceback\n",
        "from pathlib import Path\n",
        "\n",
        "import wandb\n",
        "import optuna\n",
        "import torch\n",
        "import torch.nn.functional as F\n",
        "import numpy as np\n",
        "import matplotlib.pyplot as plt\n",
        "from torch import nn, optim\n",
        "from torch.utils.data.dataloader import DataLoader\n",
        "from tqdm import tqdm\n",
        "from IPython.display import clear_output\n",
        "from torchaudio.datasets.speechcommands import SPEECHCOMMANDS, URL, FOLDER_IN_ARCHIVE\n",
        "from thop import profile\n",
        "\n",
        "from melbanks import LogMelFilterBanks"
      ]
    },
    {
      "cell_type": "code",
      "execution_count": 2,
      "metadata": {
        "id": "VEpLRnsQY_7Y"
      },
      "outputs": [],
      "source": [
        "DATASET_DIR = Path('data')"
      ]
    },
    {
      "cell_type": "code",
      "execution_count": 3,
      "metadata": {
        "id": "DOiGon_leKEg"
      },
      "outputs": [],
      "source": [
        "LABEL_ENC = {'yes': 1, 'no': 0}"
      ]
    },
    {
      "cell_type": "code",
      "execution_count": 4,
      "metadata": {
        "colab": {
          "base_uri": "https://localhost:8080/",
          "height": 356
        },
        "id": "bpJ7T4HuY_7Y",
        "outputId": "0f5579b6-4971-4869-a9a5-0e4bf77451ed"
      },
      "outputs": [],
      "source": [
        "if not DATASET_DIR.exists():\n",
        "     SPEECHCOMMANDS(DATASET_DIR, download=True)\n",
        "     DATASET_DIR = DATASET_DIR / FOLDER_IN_ARCHIVE / URL\n",
        "     for label_dir in Path(DATASET_DIR).glob('*'):\n",
        "          if label_dir.is_dir() and label_dir.name not in LABEL_ENC.keys():\n",
        "               shutil.rmtree(label_dir)\n",
        "else:\n",
        "      DATASET_DIR = DATASET_DIR / FOLDER_IN_ARCHIVE / URL"
      ]
    },
    {
      "cell_type": "code",
      "execution_count": 5,
      "metadata": {
        "id": "LciCfPS8ecnQ"
      },
      "outputs": [
        {
          "name": "stdout",
          "output_type": "stream",
          "text": [
            "rm: невозможно удалить 'data/speech_commands_v0.02.tar.gz': Нет такого файла или каталога\n"
          ]
        }
      ],
      "source": [
        "!rm data/speech_commands_v0.02.tar.gz\n",
        "!sed -i '/no\\/\\|yes\\//!d' data/SpeechCommands/speech_commands_v0.02/testing_list.txt\n",
        "!sed -i '/no\\/\\|yes\\//!d' data/SpeechCommands/speech_commands_v0.02/validation_list.txt"
      ]
    },
    {
      "cell_type": "code",
      "execution_count": 6,
      "metadata": {
        "id": "0qgHshGQY_7Z"
      },
      "outputs": [],
      "source": [
        "train_dataset = SPEECHCOMMANDS('data', subset='training')\n",
        "val_dataset = SPEECHCOMMANDS('data', subset='validation')\n",
        "test_dataset = SPEECHCOMMANDS('data', subset='testing')"
      ]
    },
    {
      "cell_type": "code",
      "execution_count": 7,
      "metadata": {
        "id": "megpZWUgY_7Z",
        "outputId": "a440ae01-f4f6-433a-ec44-37c087561168"
      },
      "outputs": [
        {
          "data": {
            "text/plain": [
              "device(type='cuda')"
            ]
          },
          "execution_count": 7,
          "metadata": {},
          "output_type": "execute_result"
        }
      ],
      "source": [
        "device = torch.device('cuda' if torch.cuda.is_available() else 'cpu')\n",
        "device"
      ]
    },
    {
      "cell_type": "code",
      "execution_count": 8,
      "metadata": {},
      "outputs": [],
      "source": [
        "lengths = list(map(lambda x: x[0].shape[1], train_dataset)) + list(map(lambda x: x[0].shape[1], test_dataset)) + list(map(lambda x: x[0].shape[1], val_dataset))"
      ]
    },
    {
      "cell_type": "code",
      "execution_count": 9,
      "metadata": {},
      "outputs": [
        {
          "data": {
            "text/plain": [
              "(array([2.000e+00, 0.000e+00, 2.000e+00, 4.000e+00, 0.000e+00, 0.000e+00,\n",
              "        1.100e+01, 0.000e+00, 0.000e+00, 1.000e+00, 1.500e+01, 0.000e+00,\n",
              "        0.000e+00, 1.100e+01, 5.000e+00, 0.000e+00, 1.000e+00, 3.100e+01,\n",
              "        0.000e+00, 0.000e+00, 1.700e+01, 1.800e+01, 0.000e+00, 0.000e+00,\n",
              "        2.000e+01, 2.300e+01, 0.000e+00, 2.300e+01, 0.000e+00, 7.900e+01,\n",
              "        1.500e+01, 2.900e+01, 2.600e+01, 2.000e+00, 4.400e+01, 0.000e+00,\n",
              "        3.800e+01, 0.000e+00, 4.100e+01, 1.000e+00, 3.600e+01, 5.500e+01,\n",
              "        0.000e+00, 1.000e+00, 3.900e+01, 5.000e+01, 3.000e+00, 4.300e+01,\n",
              "        6.200e+01, 7.237e+03]),\n",
              " array([ 6144.  ,  6341.12,  6538.24,  6735.36,  6932.48,  7129.6 ,\n",
              "         7326.72,  7523.84,  7720.96,  7918.08,  8115.2 ,  8312.32,\n",
              "         8509.44,  8706.56,  8903.68,  9100.8 ,  9297.92,  9495.04,\n",
              "         9692.16,  9889.28, 10086.4 , 10283.52, 10480.64, 10677.76,\n",
              "        10874.88, 11072.  , 11269.12, 11466.24, 11663.36, 11860.48,\n",
              "        12057.6 , 12254.72, 12451.84, 12648.96, 12846.08, 13043.2 ,\n",
              "        13240.32, 13437.44, 13634.56, 13831.68, 14028.8 , 14225.92,\n",
              "        14423.04, 14620.16, 14817.28, 15014.4 , 15211.52, 15408.64,\n",
              "        15605.76, 15802.88, 16000.  ]),\n",
              " <BarContainer object of 50 artists>)"
            ]
          },
          "execution_count": 9,
          "metadata": {},
          "output_type": "execute_result"
        },
        {
          "data": {
            "image/png": "[encoded data removed]",
            "text/plain": [
              "<Figure size 640x480 with 1 Axes>"
            ]
          },
          "metadata": {},
          "output_type": "display_data"
        }
      ],
      "source": [
        "plt.hist(lengths, bins=50)"
      ]
    },
    {
      "cell_type": "code",
      "execution_count": 10,
      "metadata": {},
      "outputs": [],
      "source": [
        "def collate_fn(batch, pad_to_len=16000, label_enc=LABEL_ENC, device=device):\n",
        "    padded_waveforms = torch.stack(list(map(lambda x: F.pad(x[0][0], (0, pad_to_len - x[0].shape[1])), batch))).to(device)\n",
        "    encoded_labels = torch.Tensor(list(map(lambda x: label_enc[x[2]], batch))).to(device)\n",
        "    return (padded_waveforms, encoded_labels)"
      ]
    },
    {
      "cell_type": "code",
      "execution_count": 11,
      "metadata": {
        "id": "UB7KNSoRY_7d"
      },
      "outputs": [],
      "source": [
        "class CNN(nn.Module):\n",
        "    def __init__(self, n_mels, n_groups=1, n_output=2, n_channel=32):\n",
        "        super().__init__()\n",
        "        self.feature_extractor = LogMelFilterBanks(n_mels=n_mels)\n",
        "        self.conv1 = nn.Sequential(\n",
        "            nn.Conv1d(n_mels, n_channel, kernel_size=8, stride=1, groups=n_groups),\n",
        "            nn.LeakyReLU(),\n",
        "            nn.MaxPool1d(kernel_size=2))\n",
        "        self.conv2 = nn.Sequential(\n",
        "            nn.Conv1d(n_channel, n_channel * 2, kernel_size=4, stride=1, groups=n_groups),\n",
        "            nn.LeakyReLU(),\n",
        "            nn.MaxPool1d(kernel_size=2),\n",
        "            )\n",
        "        self.pool = nn.AdaptiveAvgPool1d(n_channel * 2)\n",
        "        self.fc1 = nn.Linear(n_channel * 2, n_output)\n",
        "        self.flatten = nn.Flatten()\n",
        "        self.fc2 = nn.Linear(n_channel * 4, n_output)\n",
        "        self.func = nn.Sigmoid()\n",
        "        \n",
        "\n",
        "    def forward(self, x):\n",
        "        x = self.feature_extractor(x)\n",
        "        x = self.conv1(x)\n",
        "        x = self.conv2(x)\n",
        "        x = self.pool(x)\n",
        "        x = self.fc1(x)\n",
        "        x = self.flatten(x)\n",
        "        x = self.fc2(x)\n",
        "        return self.func(x)\n",
        "    \n",
        "    def count_parameters(self):\n",
        "        return sum(p.numel() for p in self.parameters() if p.requires_grad)\n",
        "    \n",
        "    def count_flops(self, x=None):\n",
        "        return profile(self, [x])[1]"
      ]
    },
    {
      "cell_type": "code",
      "execution_count": 12,
      "metadata": {
        "id": "fc71DlrIY_7f"
      },
      "outputs": [],
      "source": [
        "class ModelTrainer:\n",
        "    def __init__(self, train_loader, val_loader,\n",
        "                 metric_name,\n",
        "                 project_name='itmo-dsp',\n",
        "                 checkpoint_folder='./models'):\n",
        "        self.project_name = project_name\n",
        "        self.checkpoint_folder = checkpoint_folder\n",
        "        self.train_loader = train_loader\n",
        "        self.val_loader = val_loader\n",
        "        self.best_metric = 0.0\n",
        "        self.val_dataset_size = len(self.val_loader.dataset)\n",
        "        self.train_dataset_size = len(self.train_loader.dataset)\n",
        "        self.metric_name = metric_name\n",
        "\n",
        "    def validate(self, model):\n",
        "        model.eval()\n",
        "        accuracy = 0\n",
        "\n",
        "        with torch.no_grad():\n",
        "            for inputs, labels in self.val_loader:\n",
        "                outputs = model(inputs)\n",
        "                preds = torch.argmax(outputs, 1)\n",
        "                accuracy += (preds == labels).sum()\n",
        "\n",
        "        accuracy = float(accuracy / self.val_dataset_size)\n",
        "\n",
        "        metrics = {\n",
        "            'val_acc': accuracy,\n",
        "        }\n",
        "        return metrics\n",
        "\n",
        "    def save_model_locally(self, model):\n",
        "        torch.save(model.state_dict(), self.best_model_path)\n",
        "\n",
        "    def track_progress(self, metrics, patience, trial, epoch, epochs_without_improvement):\n",
        "        if metrics[self.metric_name] > self.best_metric:\n",
        "            epochs_without_improvement = 0\n",
        "            self.best_metric = metrics[self.metric_name]\n",
        "            if self.best_model_path:\n",
        "                os.remove(self.best_model_path)\n",
        "            self.best_model_path = Path(self.checkpoint_folder) / f'{self.name}_{self.metric_name}{self.best_metric:.4f}.pth'\n",
        "        else:\n",
        "            if epochs_without_improvement > patience:\n",
        "                print('Early stopping')\n",
        "                raise optuna.TrialPruned()\n",
        "            epochs_without_improvement += 1\n",
        "        if trial:\n",
        "            trial.report(metrics[self.metric_name], epoch)\n",
        "            if trial.should_prune():\n",
        "                print('[OPTUNA] Run pruned')\n",
        "                raise optuna.TrialPruned()\n",
        "        return epochs_without_improvement\n",
        "\n",
        "    def log_metrics(self, run, metrics, epoch, progress_bar, n_epochs):\n",
        "        clear_output()\n",
        "        progress_bar.set_postfix(metrics)\n",
        "        run.log(metrics)\n",
        "\n",
        "    def train_epoch(self, model, optimizer, loss_fn, device):\n",
        "        model.train()\n",
        "        loss = 0\n",
        "        t0 = time.time()\n",
        "        for inputs, labels in self.train_loader:\n",
        "            inputs, labels = inputs.to(device), labels.to(device)\n",
        "\n",
        "            optimizer.zero_grad()\n",
        "            outputs = model(inputs)\n",
        "            loss = loss_fn(outputs[:, 1], labels)\n",
        "            loss.backward()\n",
        "            optimizer.step()\n",
        "\n",
        "            loss += loss.item()\n",
        "\n",
        "        loss /= self.train_dataset_size\n",
        "\n",
        "        metrics = {\n",
        "            'epoch_training_time': time.time() - t0,\n",
        "            'train_loss': float(loss),\n",
        "            'parameter_count': model.count_parameters(),\n",
        "            'flops': model.count_flops(next(iter(self.val_loader))[0])\n",
        "        }\n",
        "\n",
        "        return model, metrics\n",
        "\n",
        "    def train(self, model, loss_fn, optim_class, optim_args, device,\n",
        "              n_epochs=100, patience=100, run_name=None, run_config=None, trial=None):\n",
        "        run = wandb.init(project=self.project_name, name=run_name, config=run_config)\n",
        "        self.name = run_name\n",
        "        optimizer = optim_class(model.parameters(), **optim_args)\n",
        "        model = model.to(device)\n",
        "        self.best_model_path = None\n",
        "        self.best_metric = 0\n",
        "        progress_bar = tqdm(range(n_epochs), desc='Training', leave=True)\n",
        "        epochs_without_improvement = 0\n",
        "        os.makedirs(self.checkpoint_folder, exist_ok=True)\n",
        "        try:\n",
        "            for epoch in progress_bar:\n",
        "                model, train_metrics = self.train_epoch(model, optimizer, loss_fn, device)\n",
        "                val_metrics = self.validate(model)\n",
        "                metrics = {**train_metrics, **val_metrics, 'epoch': epoch}\n",
        "                epochs_without_improvement = self.track_progress(metrics, patience, trial, epoch, epochs_without_improvement)\n",
        "                if epochs_without_improvement == 0:\n",
        "                    self.save_model_locally(model)\n",
        "                self.log_metrics(run, metrics, epoch, progress_bar, n_epochs)\n",
        "                plt.show()\n",
        "        except (Exception, KeyboardInterrupt) as e:\n",
        "            print(traceback.format_exc())\n",
        "        finally:\n",
        "            progress_bar.close()\n",
        "            wandb.finish()\n",
        "        return model\n",
        "\n",
        "    def optimize(self, objective, model_class, loss_fn, n_trials=20, n_epochs=100, \n",
        "                   device='cuda' if torch.cuda.is_available() else 'cpu',\n",
        "                   direction='maximize'):\n",
        "        \"\"\"Run Optuna optimization for learning rate\"\"\"\n",
        "        study = optuna.create_study(\n",
        "            direction='minimize',\n",
        "            # pruner=optuna.pruners.MedianPruner(),\n",
        "        )\n",
        "        \n",
        "        try:\n",
        "            study.optimize(\n",
        "                lambda trial: objective(\n",
        "                    self,\n",
        "                    trial, \n",
        "                    model_class, \n",
        "                    loss_fn, \n",
        "                    device, \n",
        "                    n_epochs\n",
        "                ),\n",
        "                n_trials=n_trials,\n",
        "                show_progress_bar=True\n",
        "            )\n",
        "            \n",
        "            print(\"\\nOptimization Results:\")\n",
        "            print('Best params:', study.best_params)\n",
        "            print('Best metric:', study.best_value)\n",
        "            \n",
        "            return study\n",
        "            \n",
        "        except Exception as e:\n",
        "            print(f\"Optimization failed: {str(e)}\")\n",
        "            return None, None\n",
        "\n"
      ]
    },
    {
      "cell_type": "code",
      "execution_count": 13,
      "metadata": {
        "id": "XMulTp7rY_7g"
      },
      "outputs": [],
      "source": [
        "def objective(trainer, trial, model_class, loss_fn, device, n_epochs=100):\n",
        "    optimizer_class = optim.Adam\n",
        "    lr = trial.suggest_float('lr', low=1e-5, high=1e-1, log=True)\n",
        "    n_mels = trial.suggest_categorical('n_mels', [20, 40, 80])\n",
        "    model = model_class(n_mels=n_mels)\n",
        "    run_config = {\n",
        "        'n_mels': n_mels,\n",
        "        'lr': lr,\n",
        "        }\n",
        "    run_name = f'CNN_Adamlr_{lr:.3e}_mels{n_mels}'\n",
        "    trainer.train(\n",
        "        model=model,\n",
        "        loss_fn=loss_fn,\n",
        "        optim_class=optimizer_class,\n",
        "        optim_args={'lr': lr},\n",
        "        device=device,\n",
        "        n_epochs=n_epochs,\n",
        "        trial=trial,\n",
        "        run_config=run_config,\n",
        "        run_name=run_name\n",
        "    )\n",
        "    return trainer.best_metric"
      ]
    },
    {
      "cell_type": "code",
      "execution_count": 14,
      "metadata": {},
      "outputs": [],
      "source": [
        "train_loader = DataLoader(train_dataset, collate_fn=collate_fn, batch_size=512, shuffle=True)\n",
        "val_loader = DataLoader(val_dataset, collate_fn=collate_fn, batch_size=512)\n",
        "test_loader = DataLoader(test_dataset, collate_fn=collate_fn, batch_size=512)"
      ]
    },
    {
      "cell_type": "code",
      "execution_count": 15,
      "metadata": {
        "id": "jJsguErrY_7g"
      },
      "outputs": [],
      "source": [
        "trainer = ModelTrainer(train_loader, test_loader, metric_name='val_acc')\n",
        "loss_fn = torch.nn.BCELoss()"
      ]
    },
    {
      "cell_type": "code",
      "execution_count": 16,
      "metadata": {
        "id": "Q2RfXJNpY_7g"
      },
      "outputs": [],
      "source": [
        "# trained_model = trainer.optimize(\n",
        "#     model_class=CNN,\n",
        "#     loss_fn=nn.BCELoss(),\n",
        "#     objective=objective,\n",
        "#     n_epochs=100,\n",
        "#     n_trials=100\n",
        "# )"
      ]
    },
    {
      "cell_type": "code",
      "execution_count": 17,
      "metadata": {},
      "outputs": [],
      "source": [
        "# for n_mels in [20, 40, 60, 80]:\n",
        "#     model = CNN(n_mels=n_mels).to(device)\n",
        "#     model.train()\n",
        "#     trainer.train(model, loss_fn, optim.Adam, optim_args={'lr': 1e-4}, device=device,\n",
        "#                   run_name=f'Adamlr1e-4_nmels{n_mels}', run_config={'n_mels': n_mels, 'lr': 1e-4})"
      ]
    },
    {
      "cell_type": "code",
      "execution_count": 18,
      "metadata": {},
      "outputs": [],
      "source": [
        "test_batch = next(iter(test_loader))[0]"
      ]
    },
    {
      "cell_type": "code",
      "execution_count": 19,
      "metadata": {},
      "outputs": [
        {
          "data": {
            "text/plain": [
              "torch.Size([512, 16000])"
            ]
          },
          "execution_count": 19,
          "metadata": {},
          "output_type": "execute_result"
        }
      ],
      "source": [
        "test_batch.shape"
      ]
    },
    {
      "cell_type": "code",
      "execution_count": 20,
      "metadata": {},
      "outputs": [
        {
          "name": "stdout",
          "output_type": "stream",
          "text": [
            "[INFO] Register count_convNd() for <class 'torch.nn.modules.conv.Conv1d'>.\n",
            "[INFO] Register count_relu() for <class 'torch.nn.modules.activation.LeakyReLU'>.\n",
            "[INFO] Register zero_ops() for <class 'torch.nn.modules.pooling.MaxPool1d'>.\n",
            "[INFO] Register zero_ops() for <class 'torch.nn.modules.container.Sequential'>.\n",
            "[INFO] Register count_adap_avgpool() for <class 'torch.nn.modules.pooling.AdaptiveAvgPool1d'>.\n",
            "[INFO] Register count_linear() for <class 'torch.nn.modules.linear.Linear'>.\n"
          ]
        },
        {
          "data": {
            "text/plain": [
              "29156.0"
            ]
          },
          "execution_count": 20,
          "metadata": {},
          "output_type": "execute_result"
        }
      ],
      "source": [
        "CNN(80).to(device).count_flops(test_batch)"
      ]
    },
    {
      "cell_type": "code",
      "execution_count": 21,
      "metadata": {},
      "outputs": [
        {
          "name": "stderr",
          "output_type": "stream",
          "text": [
            "Training: 100%|██████████| 100/100 [18:21<00:00, 11.01s/it, epoch_training_time=9.65, train_loss=5.8e-5, parameter_count=2276, flops=2276.0, val_acc=0.937, epoch=99]\n"
          ]
        },
        {
          "data": {
            "text/html": [],
            "text/plain": [
              "<IPython.core.display.HTML object>"
            ]
          },
          "metadata": {},
          "output_type": "display_data"
        },
        {
          "data": {
            "text/html": [
              "<br>    <style><br>        .wandb-row {<br>            display: flex;<br>            flex-direction: row;<br>            flex-wrap: wrap;<br>            justify-content: flex-start;<br>            width: 100%;<br>        }<br>        .wandb-col {<br>            display: flex;<br>            flex-direction: column;<br>            flex-basis: 100%;<br>            flex: 1;<br>            padding: 10px;<br>        }<br>    </style><br><div class=\"wandb-row\"><div class=\"wandb-col\"><h3>Run history:</h3><br/><table class=\"wandb\"><tr><td>epoch</td><td>▁▁▁▂▂▂▂▂▂▂▃▃▃▃▃▄▄▄▄▄▄▄▅▅▅▅▅▆▆▆▆▆▆▇▇▇▇▇██</td></tr><tr><td>epoch_training_time</td><td>▁▁▁▁▁▁▁▁▁▁▁▁▁▁▁▁▁▁▁▁▁▁▁▁▁▁▁▁▁▁▄▇▅█▆▄▄▄▄▄</td></tr><tr><td>flops</td><td>▁▁▁▁▁▁▁▁▁▁▁▁▁▁▁▁▁▁▁▁▁▁▁▁▁▁▁▁▁▁▁▁▁▁▁▁▁▁▁▁</td></tr><tr><td>parameter_count</td><td>▁▁▁▁▁▁▁▁▁▁▁▁▁▁▁▁▁▁▁▁▁▁▁▁▁▁▁▁▁▁▁▁▁▁▁▁▁▁▁▁</td></tr><tr><td>train_loss</td><td>██▇▇▇▆▄▄▃▃▃▃▃▃▃▂▃▃▂▂▁▂▂▂▃▃▂▂▂▁▂▃▁▂▁▁▂▂▁▂</td></tr><tr><td>val_acc</td><td>▁▁▁▁▂▃▃▄▅▅▅▆▆▆▆▆▆▇▇▇▇▇▇▇▇▇█▇████████████</td></tr></table><br/></div><div class=\"wandb-col\"><h3>Run summary:</h3><br/><table class=\"wandb\"><tr><td>epoch</td><td>99</td></tr><tr><td>epoch_training_time</td><td>9.64545</td></tr><tr><td>flops</td><td>2276</td></tr><tr><td>parameter_count</td><td>2276</td></tr><tr><td>train_loss</td><td>6e-05</td></tr><tr><td>val_acc</td><td>0.93689</td></tr></table><br/></div></div>"
            ],
            "text/plain": [
              "<IPython.core.display.HTML object>"
            ]
          },
          "metadata": {},
          "output_type": "display_data"
        },
        {
          "data": {
            "text/html": [
              " View run <strong style=\"color:#cdcd00\">Adamlr1e-4_nmels80_ngroups16</strong> at: <a href='https://wandb.ai/annkar/itmo-dsp/runs/7t50lh3p' target=\"_blank\">https://wandb.ai/annkar/itmo-dsp/runs/7t50lh3p</a><br> View project at: <a href='https://wandb.ai/annkar/itmo-dsp' target=\"_blank\">https://wandb.ai/annkar/itmo-dsp</a><br>Synced 5 W&B file(s), 0 media file(s), 0 artifact file(s) and 0 other file(s)"
            ],
            "text/plain": [
              "<IPython.core.display.HTML object>"
            ]
          },
          "metadata": {},
          "output_type": "display_data"
        },
        {
          "data": {
            "text/html": [
              "Find logs at: <code>./wandb/run-20250330_125811-7t50lh3p/logs</code>"
            ],
            "text/plain": [
              "<IPython.core.display.HTML object>"
            ]
          },
          "metadata": {},
          "output_type": "display_data"
        },
        {
          "name": "stdout",
          "output_type": "stream",
          "text": [
            "[INFO] Register count_convNd() for <class 'torch.nn.modules.conv.Conv1d'>.\n",
            "[INFO] Register count_relu() for <class 'torch.nn.modules.activation.LeakyReLU'>.\n",
            "[INFO] Register zero_ops() for <class 'torch.nn.modules.pooling.MaxPool1d'>.\n",
            "[INFO] Register zero_ops() for <class 'torch.nn.modules.container.Sequential'>.\n",
            "[INFO] Register count_adap_avgpool() for <class 'torch.nn.modules.pooling.AdaptiveAvgPool1d'>.\n",
            "[INFO] Register count_linear() for <class 'torch.nn.modules.linear.Linear'>.\n"
          ]
        }
      ],
      "source": [
        "n_groups_dict = {}\n",
        "for n_groups in [1, 2, 4, 8, 16]:\n",
        "    model = CNN(n_mels=80, n_groups=n_groups).to(device)\n",
        "    model.train()\n",
        "    model = trainer.train(model, loss_fn, optim.Adam, optim_args={'lr': 1e-4}, device=device,\n",
        "                  run_name=f'Adamlr1e-4_nmels80_ngroups{n_groups}', run_config={'n_mels': 80, 'lr': 1e-4, 'n_groups': n_groups})\n",
        "    n_groups_dict[n_groups] = {'model_params': model.count_parameters(), 'flops': model.count_flops(test_batch)}"
      ]
    },
    {
      "cell_type": "code",
      "execution_count": null,
      "metadata": {},
      "outputs": [
        {
          "data": {
            "image/png": "[encoded data removed]",
            "text/plain": [
              "<Figure size 640x480 with 1 Axes>"
            ]
          },
          "metadata": {},
          "output_type": "display_data"
        }
      ],
      "source": [
        "plt.bar(x=n_groups_dict.keys(), height=list(map(lambda x: x['flops'], n_groups_dict.values())))"
      ]
    },
    {
      "cell_type": "code",
      "execution_count": 41,
      "metadata": {},
      "outputs": [
        {
          "data": {
            "text/plain": [
              "<BarContainer object of 5 artists>"
            ]
          },
          "execution_count": 41,
          "metadata": {},
          "output_type": "execute_result"
        },
        {
          "data": {
            "image/png": "[encoded data removed]",
            "text/plain": [
              "<Figure size 640x480 with 1 Axes>"
            ]
          },
          "metadata": {},
          "output_type": "display_data"
        }
      ],
      "source": [
        "plt.bar(x=n_groups_dict.keys(), height=list(map(lambda x: x['model_params'], n_groups_dict.values())))"
      ]
    },
    {
      "cell_type": "code",
      "execution_count": 42,
      "metadata": {},
      "outputs": [
        {
          "data": {
            "text/plain": [
              "{1: {'model_params': 29156, 'flops': 29156.0},\n",
              " 2: {'model_params': 14820, 'flops': 14820.0},\n",
              " 4: {'model_params': 7652, 'flops': 7652.0},\n",
              " 8: {'model_params': 4068, 'flops': 4068.0},\n",
              " 16: {'model_params': 2276, 'flops': 2276.0}}"
            ]
          },
          "execution_count": 42,
          "metadata": {},
          "output_type": "execute_result"
        }
      ],
      "source": [
        "n_groups_dict"
      ]
    }
  ],
  "metadata": {
    "colab": {
      "provenance": []
    },
    "kernelspec": {
      "display_name": ".venv",
      "language": "python",
      "name": "python3"
    },
    "language_info": {
      "codemirror_mode": {
        "name": "ipython",
        "version": 3
      },
      "file_extension": ".py",
      "mimetype": "text/x-python",
      "name": "python",
      "nbconvert_exporter": "python",
      "pygments_lexer": "ipython3",
      "version": "3.13.2"
    }
  },
  "nbformat": 4,
  "nbformat_minor": 0
}
